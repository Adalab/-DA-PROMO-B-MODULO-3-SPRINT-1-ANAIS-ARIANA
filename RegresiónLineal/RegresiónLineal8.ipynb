{
 "cells": [
  {
   "cell_type": "code",
   "execution_count": 71,
   "metadata": {},
   "outputs": [],
   "source": [
    "import pandas as pd \n",
    "import random \n",
    "import seaborn as sns\n",
    "import numpy as np\n",
    "import matplotlib.pyplot as plt\n",
    "from scipy import stats\n",
    "import statsmodels.api as sm\n",
    "\n",
    "import researchpy as rp\n",
    "import scipy.stats as stats\n",
    "from scipy.stats import levene\n",
    "from scipy.stats import kstest\n",
    "from scipy.stats import skew\n",
    "\n",
    "import math \n",
    "from sklearn.preprocessing import MinMaxScaler\n",
    "from sklearn.preprocessing import StandardScaler\n",
    "from sklearn.preprocessing import RobustScaler\n",
    "from sklearn.preprocessing import LabelEncoder \n",
    "from sklearn.preprocessing import OneHotEncoder  \n",
    "from statsmodels.formula.api import ols\n",
    "from statsmodels.multivariate.manova import MANOVA\n",
    "\n",
    "\n",
    "\n",
    "import warnings\n",
    "warnings.filterwarnings('ignore')\n",
    "\n",
    "plt.rcParams[\"figure.figsize\"] = (20,10) \n",
    "pd.options.display.max_columns = None"
   ]
  },
  {
   "cell_type": "code",
   "execution_count": 72,
   "metadata": {},
   "outputs": [
    {
     "data": {
      "text/html": [
       "<div>\n",
       "<style scoped>\n",
       "    .dataframe tbody tr th:only-of-type {\n",
       "        vertical-align: middle;\n",
       "    }\n",
       "\n",
       "    .dataframe tbody tr th {\n",
       "        vertical-align: top;\n",
       "    }\n",
       "\n",
       "    .dataframe thead th {\n",
       "        text-align: right;\n",
       "    }\n",
       "</style>\n",
       "<table border=\"1\" class=\"dataframe\">\n",
       "  <thead>\n",
       "    <tr style=\"text-align: right;\">\n",
       "      <th></th>\n",
       "      <th>Levy</th>\n",
       "      <th>Prod_year</th>\n",
       "      <th>Leather_interior</th>\n",
       "      <th>Fuel_type</th>\n",
       "      <th>Mileage</th>\n",
       "      <th>Cylinders</th>\n",
       "      <th>Gear_box_type</th>\n",
       "      <th>Drive_wheels</th>\n",
       "      <th>Airbags</th>\n",
       "      <th>Price_raiz</th>\n",
       "    </tr>\n",
       "  </thead>\n",
       "  <tbody>\n",
       "    <tr>\n",
       "      <th>0</th>\n",
       "      <td>1.766963</td>\n",
       "      <td>-0.411248</td>\n",
       "      <td>Yes</td>\n",
       "      <td>Hybrid</td>\n",
       "      <td>0.237134</td>\n",
       "      <td>1.375313</td>\n",
       "      <td>Automatic</td>\n",
       "      <td>4x4</td>\n",
       "      <td>1.329406</td>\n",
       "      <td>115.446958</td>\n",
       "    </tr>\n",
       "    <tr>\n",
       "      <th>1</th>\n",
       "      <td>0.943936</td>\n",
       "      <td>-0.173337</td>\n",
       "      <td>No</td>\n",
       "      <td>Petrol</td>\n",
       "      <td>0.273438</td>\n",
       "      <td>1.375313</td>\n",
       "      <td>Tiptronic</td>\n",
       "      <td>4x4</td>\n",
       "      <td>0.319668</td>\n",
       "      <td>128.922457</td>\n",
       "    </tr>\n",
       "  </tbody>\n",
       "</table>\n",
       "</div>"
      ],
      "text/plain": [
       "       Levy  Prod_year Leather_interior Fuel_type   Mileage  Cylinders  \\\n",
       "0  1.766963  -0.411248              Yes    Hybrid  0.237134   1.375313   \n",
       "1  0.943936  -0.173337               No    Petrol  0.273438   1.375313   \n",
       "\n",
       "  Gear_box_type Drive_wheels   Airbags  Price_raiz  \n",
       "0     Automatic          4x4  1.329406  115.446958  \n",
       "1     Tiptronic          4x4  0.319668  128.922457  "
      ]
     },
     "execution_count": 72,
     "metadata": {},
     "output_type": "execute_result"
    }
   ],
   "source": [
    "df= pd.read_pickle('datos/cars_price_norm_est_an.pkl')\n",
    "df.head(2)"
   ]
  },
  {
   "cell_type": "markdown",
   "metadata": {},
   "source": [
    "##### <font color=green> Hacer una códificación de la/las variables categóricas que tengáis en vuestro set de datos.\n",
    "\n",
    "##### <font color=green> Recordad que lo primero que deberéis hacer es decidir si vuestras variables tienen o no orden, para que en función de esto uséis una aproximación u otra."
   ]
  },
  {
   "cell_type": "code",
   "execution_count": 73,
   "metadata": {},
   "outputs": [
    {
     "data": {
      "text/html": [
       "<div>\n",
       "<style scoped>\n",
       "    .dataframe tbody tr th:only-of-type {\n",
       "        vertical-align: middle;\n",
       "    }\n",
       "\n",
       "    .dataframe tbody tr th {\n",
       "        vertical-align: top;\n",
       "    }\n",
       "\n",
       "    .dataframe thead th {\n",
       "        text-align: right;\n",
       "    }\n",
       "</style>\n",
       "<table border=\"1\" class=\"dataframe\">\n",
       "  <thead>\n",
       "    <tr style=\"text-align: right;\">\n",
       "      <th></th>\n",
       "      <th>Leather_interior</th>\n",
       "      <th>Fuel_type</th>\n",
       "      <th>Gear_box_type</th>\n",
       "      <th>Drive_wheels</th>\n",
       "    </tr>\n",
       "  </thead>\n",
       "  <tbody>\n",
       "    <tr>\n",
       "      <th>2925</th>\n",
       "      <td>Yes</td>\n",
       "      <td>Petrol</td>\n",
       "      <td>Tiptronic</td>\n",
       "      <td>Front</td>\n",
       "    </tr>\n",
       "    <tr>\n",
       "      <th>5887</th>\n",
       "      <td>Yes</td>\n",
       "      <td>Petrol</td>\n",
       "      <td>Automatic</td>\n",
       "      <td>Front</td>\n",
       "    </tr>\n",
       "    <tr>\n",
       "      <th>6348</th>\n",
       "      <td>Yes</td>\n",
       "      <td>Petrol</td>\n",
       "      <td>Automatic</td>\n",
       "      <td>Rear</td>\n",
       "    </tr>\n",
       "    <tr>\n",
       "      <th>13167</th>\n",
       "      <td>No</td>\n",
       "      <td>Hybrid</td>\n",
       "      <td>Automatic</td>\n",
       "      <td>Front</td>\n",
       "    </tr>\n",
       "    <tr>\n",
       "      <th>38</th>\n",
       "      <td>Yes</td>\n",
       "      <td>Petrol</td>\n",
       "      <td>Automatic</td>\n",
       "      <td>Front</td>\n",
       "    </tr>\n",
       "    <tr>\n",
       "      <th>4948</th>\n",
       "      <td>Yes</td>\n",
       "      <td>Petrol</td>\n",
       "      <td>Automatic</td>\n",
       "      <td>Front</td>\n",
       "    </tr>\n",
       "    <tr>\n",
       "      <th>10077</th>\n",
       "      <td>No</td>\n",
       "      <td>Petrol</td>\n",
       "      <td>Automatic</td>\n",
       "      <td>Front</td>\n",
       "    </tr>\n",
       "    <tr>\n",
       "      <th>885</th>\n",
       "      <td>No</td>\n",
       "      <td>Diesel</td>\n",
       "      <td>Manual</td>\n",
       "      <td>4x4</td>\n",
       "    </tr>\n",
       "    <tr>\n",
       "      <th>13264</th>\n",
       "      <td>Yes</td>\n",
       "      <td>Diesel</td>\n",
       "      <td>Tiptronic</td>\n",
       "      <td>Rear</td>\n",
       "    </tr>\n",
       "    <tr>\n",
       "      <th>3135</th>\n",
       "      <td>Yes</td>\n",
       "      <td>Petrol</td>\n",
       "      <td>Automatic</td>\n",
       "      <td>Front</td>\n",
       "    </tr>\n",
       "  </tbody>\n",
       "</table>\n",
       "</div>"
      ],
      "text/plain": [
       "      Leather_interior Fuel_type Gear_box_type Drive_wheels\n",
       "2925               Yes    Petrol     Tiptronic        Front\n",
       "5887               Yes    Petrol     Automatic        Front\n",
       "6348               Yes    Petrol     Automatic         Rear\n",
       "13167               No    Hybrid     Automatic        Front\n",
       "38                 Yes    Petrol     Automatic        Front\n",
       "4948               Yes    Petrol     Automatic        Front\n",
       "10077               No    Petrol     Automatic        Front\n",
       "885                 No    Diesel        Manual          4x4\n",
       "13264              Yes    Diesel     Tiptronic         Rear\n",
       "3135               Yes    Petrol     Automatic        Front"
      ]
     },
     "execution_count": 73,
     "metadata": {},
     "output_type": "execute_result"
    }
   ],
   "source": [
    "df_categoricas = df.select_dtypes(include = [\"object\"])\n",
    "df_categoricas.sample(10)"
   ]
  },
  {
   "cell_type": "markdown",
   "metadata": {},
   "source": [
    "Vemos visualmente las variables categóricas en comparación con el precio para sacar una primera conclusión de si tienen orden o no."
   ]
  },
  {
   "cell_type": "code",
   "execution_count": 74,
   "metadata": {},
   "outputs": [
    {
     "data": {
      "image/png": "[encoded data removed]",
      "text/plain": [
       "<Figure size 2880x1440 with 4 Axes>"
      ]
     },
     "metadata": {
      "needs_background": "light"
     },
     "output_type": "display_data"
    }
   ],
   "source": [
    "fig, axes = plt.subplots(nrows = 2, ncols = 2, figsize = (40, 20))\n",
    "\n",
    "\n",
    "axes = axes.flat\n",
    "\n",
    "columnas_cat = df.select_dtypes(include = [\"object\", \"category\"]).columns\n",
    "\n",
    "for i, colum in enumerate(columnas_cat): \n",
    "    sns.boxplot(\n",
    "        data = df,\n",
    "        x = colum,\n",
    "        y = \"Price_raiz\",\n",
    "        color = \"teal\", \n",
    "        ax = axes[i])\n",
    "    \n",
    "    \n",
    "    axes[i].set_title(colum, fontsize = 25, fontweight = \"bold\")\n",
    "    axes[i].tick_params(labelsize = 20)\n",
    "    axes[i].set_xlabel(\"\")\n",
    "    axes[i].set_ylabel( \"Price_raiz\", fontsize = 25)\n",
    "\n",
    "fig.tight_layout();"
   ]
  },
  {
   "cell_type": "markdown",
   "metadata": {},
   "source": [
    "Observando las gráficas de las variables `Drive_wheels` `Gear_box_type` `Leather_interior` las podemos transformar a variables de tipo categóricas.\n",
    "\n",
    "También podemos concluir lo siguiente:\n",
    "\n",
    "Pensamos que las variables categóricas que tienen orden (ordinarias) son:\n",
    "- \"Leather_interior\"\n",
    "\n",
    "\n",
    "Pensamos que las variables categóricas que no tienen orden (nominales) son:\n",
    "- \"Fuel_type\"\n",
    "- \"Gear_box_type\"\n",
    "- \"Drive_wheels\"\n",
    "\n"
   ]
  },
  {
   "cell_type": "markdown",
   "metadata": {},
   "source": [
    "Hacemos la transformación de las variables `Drive_wheels` y `Gear_box_type` a tipo categórico."
   ]
  },
  {
   "cell_type": "code",
   "execution_count": 75,
   "metadata": {},
   "outputs": [],
   "source": [
    "df = df.astype({'Drive_wheels': 'category', 'Gear_box_type': 'category', 'Leather_interior': 'category'})"
   ]
  },
  {
   "cell_type": "markdown",
   "metadata": {},
   "source": [
    "Verificamos el tipo de datos de cada columna."
   ]
  },
  {
   "cell_type": "code",
   "execution_count": 76,
   "metadata": {},
   "outputs": [
    {
     "data": {
      "text/plain": [
       "Levy                 float64\n",
       "Prod_year            float64\n",
       "Leather_interior    category\n",
       "Fuel_type             object\n",
       "Mileage              float64\n",
       "Cylinders            float64\n",
       "Gear_box_type       category\n",
       "Drive_wheels        category\n",
       "Airbags              float64\n",
       "Price_raiz           float64\n",
       "dtype: object"
      ]
     },
     "execution_count": 76,
     "metadata": {},
     "output_type": "execute_result"
    }
   ],
   "source": [
    "df.dtypes"
   ]
  },
  {
   "cell_type": "markdown",
   "metadata": {},
   "source": [
    "Sacamos los valores únicos de cada variable"
   ]
  },
  {
   "cell_type": "code",
   "execution_count": 77,
   "metadata": {},
   "outputs": [
    {
     "data": {
      "text/plain": [
       "['Yes', 'No']\n",
       "Categories (2, object): ['No', 'Yes']"
      ]
     },
     "execution_count": 77,
     "metadata": {},
     "output_type": "execute_result"
    }
   ],
   "source": [
    "df[\"Leather_interior\"].unique() #Si tiene orden"
   ]
  },
  {
   "cell_type": "code",
   "execution_count": 78,
   "metadata": {},
   "outputs": [
    {
     "data": {
      "text/plain": [
       "array(['Hybrid', 'Petrol', 'Diesel', 'Plug-in Hybrid', 'LPG', 'CNG',\n",
       "       'Hydrogen'], dtype=object)"
      ]
     },
     "execution_count": 78,
     "metadata": {},
     "output_type": "execute_result"
    }
   ],
   "source": [
    "df[\"Fuel_type\"].unique() #No tiene orden"
   ]
  },
  {
   "cell_type": "code",
   "execution_count": 79,
   "metadata": {},
   "outputs": [
    {
     "data": {
      "text/plain": [
       "['Automatic', 'Tiptronic', 'Variator', 'Manual']\n",
       "Categories (4, object): ['Automatic', 'Manual', 'Tiptronic', 'Variator']"
      ]
     },
     "execution_count": 79,
     "metadata": {},
     "output_type": "execute_result"
    }
   ],
   "source": [
    "df[\"Gear_box_type\"].unique() #No tiene orden"
   ]
  },
  {
   "cell_type": "code",
   "execution_count": 80,
   "metadata": {},
   "outputs": [
    {
     "data": {
      "text/plain": [
       "['4x4', 'Front', 'Rear']\n",
       "Categories (3, object): ['4x4', 'Front', 'Rear']"
      ]
     },
     "execution_count": 80,
     "metadata": {},
     "output_type": "execute_result"
    }
   ],
   "source": [
    "df[\"Drive_wheels\"].unique() #No tiene orden"
   ]
  },
  {
   "cell_type": "markdown",
   "metadata": {},
   "source": [
    "Variables categóricas que tienen orden (ordinarias) son:\n",
    "- \"Leather_interior\"\n",
    "\n",
    "\n",
    "Variables categóricas que no tienen orden (nominales) son:\n",
    "- \"Fuel_type\"\n",
    "- \"Gear_box_type\"\n",
    "- \"Drive_wheels\"\n",
    "- \"Category\"\n",
    "- \"Doors\""
   ]
  },
  {
   "cell_type": "markdown",
   "metadata": {},
   "source": [
    "<font color=violet>Para nuestras variables que tienen orden, vamos a utilizar el label enconding"
   ]
  },
  {
   "cell_type": "code",
   "execution_count": 81,
   "metadata": {},
   "outputs": [
    {
     "data": {
      "text/plain": [
       "['Yes', 'No']\n",
       "Categories (2, object): ['No', 'Yes']"
      ]
     },
     "execution_count": 81,
     "metadata": {},
     "output_type": "execute_result"
    }
   ],
   "source": [
    "df.Leather_interior.unique()"
   ]
  },
  {
   "cell_type": "code",
   "execution_count": 82,
   "metadata": {},
   "outputs": [],
   "source": [
    "le = LabelEncoder()\n",
    "\n",
    "df['Leather_interior_le']=le.fit_transform(df['Leather_interior'])\n"
   ]
  },
  {
   "cell_type": "code",
   "execution_count": 83,
   "metadata": {},
   "outputs": [
    {
     "data": {
      "text/html": [
       "<div>\n",
       "<style scoped>\n",
       "    .dataframe tbody tr th:only-of-type {\n",
       "        vertical-align: middle;\n",
       "    }\n",
       "\n",
       "    .dataframe tbody tr th {\n",
       "        vertical-align: top;\n",
       "    }\n",
       "\n",
       "    .dataframe thead th {\n",
       "        text-align: right;\n",
       "    }\n",
       "</style>\n",
       "<table border=\"1\" class=\"dataframe\">\n",
       "  <thead>\n",
       "    <tr style=\"text-align: right;\">\n",
       "      <th></th>\n",
       "      <th>Levy</th>\n",
       "      <th>Prod_year</th>\n",
       "      <th>Leather_interior</th>\n",
       "      <th>Fuel_type</th>\n",
       "      <th>Mileage</th>\n",
       "      <th>Cylinders</th>\n",
       "      <th>Gear_box_type</th>\n",
       "      <th>Drive_wheels</th>\n",
       "      <th>Airbags</th>\n",
       "      <th>Price_raiz</th>\n",
       "      <th>Leather_interior_le</th>\n",
       "    </tr>\n",
       "  </thead>\n",
       "  <tbody>\n",
       "    <tr>\n",
       "      <th>0</th>\n",
       "      <td>1.766963</td>\n",
       "      <td>-0.411248</td>\n",
       "      <td>Yes</td>\n",
       "      <td>Hybrid</td>\n",
       "      <td>0.237134</td>\n",
       "      <td>1.375313</td>\n",
       "      <td>Automatic</td>\n",
       "      <td>4x4</td>\n",
       "      <td>1.329406</td>\n",
       "      <td>115.446958</td>\n",
       "      <td>1</td>\n",
       "    </tr>\n",
       "    <tr>\n",
       "      <th>1</th>\n",
       "      <td>0.943936</td>\n",
       "      <td>-0.173337</td>\n",
       "      <td>No</td>\n",
       "      <td>Petrol</td>\n",
       "      <td>0.273438</td>\n",
       "      <td>1.375313</td>\n",
       "      <td>Tiptronic</td>\n",
       "      <td>4x4</td>\n",
       "      <td>0.319668</td>\n",
       "      <td>128.922457</td>\n",
       "      <td>0</td>\n",
       "    </tr>\n",
       "    <tr>\n",
       "      <th>2</th>\n",
       "      <td>-1.255121</td>\n",
       "      <td>-1.362894</td>\n",
       "      <td>No</td>\n",
       "      <td>Petrol</td>\n",
       "      <td>0.321884</td>\n",
       "      <td>-0.411095</td>\n",
       "      <td>Variator</td>\n",
       "      <td>Front</td>\n",
       "      <td>-1.194937</td>\n",
       "      <td>92.016303</td>\n",
       "      <td>0</td>\n",
       "    </tr>\n",
       "    <tr>\n",
       "      <th>3</th>\n",
       "      <td>0.606949</td>\n",
       "      <td>-0.173337</td>\n",
       "      <td>Yes</td>\n",
       "      <td>Hybrid</td>\n",
       "      <td>0.133949</td>\n",
       "      <td>-0.411095</td>\n",
       "      <td>Automatic</td>\n",
       "      <td>4x4</td>\n",
       "      <td>-1.699806</td>\n",
       "      <td>60.058305</td>\n",
       "      <td>1</td>\n",
       "    </tr>\n",
       "    <tr>\n",
       "      <th>4</th>\n",
       "      <td>-0.291683</td>\n",
       "      <td>0.540397</td>\n",
       "      <td>Yes</td>\n",
       "      <td>Petrol</td>\n",
       "      <td>-0.332738</td>\n",
       "      <td>-0.411095</td>\n",
       "      <td>Automatic</td>\n",
       "      <td>Front</td>\n",
       "      <td>-0.690069</td>\n",
       "      <td>108.286657</td>\n",
       "      <td>1</td>\n",
       "    </tr>\n",
       "  </tbody>\n",
       "</table>\n",
       "</div>"
      ],
      "text/plain": [
       "       Levy  Prod_year Leather_interior Fuel_type   Mileage  Cylinders  \\\n",
       "0  1.766963  -0.411248              Yes    Hybrid  0.237134   1.375313   \n",
       "1  0.943936  -0.173337               No    Petrol  0.273438   1.375313   \n",
       "2 -1.255121  -1.362894               No    Petrol  0.321884  -0.411095   \n",
       "3  0.606949  -0.173337              Yes    Hybrid  0.133949  -0.411095   \n",
       "4 -0.291683   0.540397              Yes    Petrol -0.332738  -0.411095   \n",
       "\n",
       "  Gear_box_type Drive_wheels   Airbags  Price_raiz  Leather_interior_le  \n",
       "0     Automatic          4x4  1.329406  115.446958                    1  \n",
       "1     Tiptronic          4x4  0.319668  128.922457                    0  \n",
       "2      Variator        Front -1.194937   92.016303                    0  \n",
       "3     Automatic          4x4 -1.699806   60.058305                    1  \n",
       "4     Automatic        Front -0.690069  108.286657                    1  "
      ]
     },
     "execution_count": 83,
     "metadata": {},
     "output_type": "execute_result"
    }
   ],
   "source": [
    "df.head()"
   ]
  },
  {
   "cell_type": "markdown",
   "metadata": {},
   "source": [
    "<font color=violet>Para nuestras variables que no tienen orden, vamos a utilizar el método get_dummies encoding"
   ]
  },
  {
   "cell_type": "code",
   "execution_count": 84,
   "metadata": {},
   "outputs": [
    {
     "data": {
      "text/html": [
       "<div>\n",
       "<style scoped>\n",
       "    .dataframe tbody tr th:only-of-type {\n",
       "        vertical-align: middle;\n",
       "    }\n",
       "\n",
       "    .dataframe tbody tr th {\n",
       "        vertical-align: top;\n",
       "    }\n",
       "\n",
       "    .dataframe thead th {\n",
       "        text-align: right;\n",
       "    }\n",
       "</style>\n",
       "<table border=\"1\" class=\"dataframe\">\n",
       "  <thead>\n",
       "    <tr style=\"text-align: right;\">\n",
       "      <th></th>\n",
       "      <th>Leather_interior</th>\n",
       "      <th>Fuel_type</th>\n",
       "      <th>Gear_box_type</th>\n",
       "      <th>Drive_wheels</th>\n",
       "    </tr>\n",
       "  </thead>\n",
       "  <tbody>\n",
       "    <tr>\n",
       "      <th>11950</th>\n",
       "      <td>Yes</td>\n",
       "      <td>Petrol</td>\n",
       "      <td>Tiptronic</td>\n",
       "      <td>4x4</td>\n",
       "    </tr>\n",
       "    <tr>\n",
       "      <th>2920</th>\n",
       "      <td>No</td>\n",
       "      <td>CNG</td>\n",
       "      <td>Automatic</td>\n",
       "      <td>4x4</td>\n",
       "    </tr>\n",
       "    <tr>\n",
       "      <th>886</th>\n",
       "      <td>Yes</td>\n",
       "      <td>Hybrid</td>\n",
       "      <td>Automatic</td>\n",
       "      <td>Front</td>\n",
       "    </tr>\n",
       "    <tr>\n",
       "      <th>9501</th>\n",
       "      <td>No</td>\n",
       "      <td>Petrol</td>\n",
       "      <td>Variator</td>\n",
       "      <td>Front</td>\n",
       "    </tr>\n",
       "    <tr>\n",
       "      <th>6735</th>\n",
       "      <td>Yes</td>\n",
       "      <td>Petrol</td>\n",
       "      <td>Tiptronic</td>\n",
       "      <td>Front</td>\n",
       "    </tr>\n",
       "    <tr>\n",
       "      <th>385</th>\n",
       "      <td>Yes</td>\n",
       "      <td>Petrol</td>\n",
       "      <td>Automatic</td>\n",
       "      <td>Front</td>\n",
       "    </tr>\n",
       "    <tr>\n",
       "      <th>13119</th>\n",
       "      <td>No</td>\n",
       "      <td>Petrol</td>\n",
       "      <td>Tiptronic</td>\n",
       "      <td>Rear</td>\n",
       "    </tr>\n",
       "    <tr>\n",
       "      <th>12956</th>\n",
       "      <td>Yes</td>\n",
       "      <td>Petrol</td>\n",
       "      <td>Automatic</td>\n",
       "      <td>Front</td>\n",
       "    </tr>\n",
       "    <tr>\n",
       "      <th>10058</th>\n",
       "      <td>No</td>\n",
       "      <td>Petrol</td>\n",
       "      <td>Tiptronic</td>\n",
       "      <td>Front</td>\n",
       "    </tr>\n",
       "    <tr>\n",
       "      <th>6595</th>\n",
       "      <td>Yes</td>\n",
       "      <td>Petrol</td>\n",
       "      <td>Automatic</td>\n",
       "      <td>Front</td>\n",
       "    </tr>\n",
       "  </tbody>\n",
       "</table>\n",
       "</div>"
      ],
      "text/plain": [
       "      Leather_interior Fuel_type Gear_box_type Drive_wheels\n",
       "11950              Yes    Petrol     Tiptronic          4x4\n",
       "2920                No       CNG     Automatic          4x4\n",
       "886                Yes    Hybrid     Automatic        Front\n",
       "9501                No    Petrol      Variator        Front\n",
       "6735               Yes    Petrol     Tiptronic        Front\n",
       "385                Yes    Petrol     Automatic        Front\n",
       "13119               No    Petrol     Tiptronic         Rear\n",
       "12956              Yes    Petrol     Automatic        Front\n",
       "10058               No    Petrol     Tiptronic        Front\n",
       "6595               Yes    Petrol     Automatic        Front"
      ]
     },
     "execution_count": 84,
     "metadata": {},
     "output_type": "execute_result"
    }
   ],
   "source": [
    "df_categoricas = df.select_dtypes(include = [\"object\", \"category\"])\n",
    "df_categoricas.sample(10)"
   ]
  },
  {
   "cell_type": "markdown",
   "metadata": {},
   "source": [
    "Hacemos un dataframe de cada variable categórica aplicando el get_dummies encoding."
   ]
  },
  {
   "cell_type": "code",
   "execution_count": 85,
   "metadata": {},
   "outputs": [
    {
     "data": {
      "text/html": [
       "<div>\n",
       "<style scoped>\n",
       "    .dataframe tbody tr th:only-of-type {\n",
       "        vertical-align: middle;\n",
       "    }\n",
       "\n",
       "    .dataframe tbody tr th {\n",
       "        vertical-align: top;\n",
       "    }\n",
       "\n",
       "    .dataframe thead th {\n",
       "        text-align: right;\n",
       "    }\n",
       "</style>\n",
       "<table border=\"1\" class=\"dataframe\">\n",
       "  <thead>\n",
       "    <tr style=\"text-align: right;\">\n",
       "      <th></th>\n",
       "      <th>Fuel_type_CNG</th>\n",
       "      <th>Fuel_type_Diesel</th>\n",
       "      <th>Fuel_type_Hybrid</th>\n",
       "      <th>Fuel_type_Hydrogen</th>\n",
       "      <th>Fuel_type_LPG</th>\n",
       "      <th>Fuel_type_Petrol</th>\n",
       "      <th>Fuel_type_Plug-in Hybrid</th>\n",
       "    </tr>\n",
       "  </thead>\n",
       "  <tbody>\n",
       "    <tr>\n",
       "      <th>0</th>\n",
       "      <td>0</td>\n",
       "      <td>0</td>\n",
       "      <td>1</td>\n",
       "      <td>0</td>\n",
       "      <td>0</td>\n",
       "      <td>0</td>\n",
       "      <td>0</td>\n",
       "    </tr>\n",
       "    <tr>\n",
       "      <th>1</th>\n",
       "      <td>0</td>\n",
       "      <td>0</td>\n",
       "      <td>0</td>\n",
       "      <td>0</td>\n",
       "      <td>0</td>\n",
       "      <td>1</td>\n",
       "      <td>0</td>\n",
       "    </tr>\n",
       "  </tbody>\n",
       "</table>\n",
       "</div>"
      ],
      "text/plain": [
       "   Fuel_type_CNG  Fuel_type_Diesel  Fuel_type_Hybrid  Fuel_type_Hydrogen  \\\n",
       "0              0                 0                 1                   0   \n",
       "1              0                 0                 0                   0   \n",
       "\n",
       "   Fuel_type_LPG  Fuel_type_Petrol  Fuel_type_Plug-in Hybrid  \n",
       "0              0                 0                         0  \n",
       "1              0                 1                         0  "
      ]
     },
     "execution_count": 85,
     "metadata": {},
     "output_type": "execute_result"
    }
   ],
   "source": [
    "dummies1 = pd.get_dummies(df_categoricas[\"Fuel_type\"], prefix_sep = \"_\", prefix = \"Fuel_type\", dtype = int)\n",
    "dummies1.head(2)"
   ]
  },
  {
   "cell_type": "code",
   "execution_count": 86,
   "metadata": {},
   "outputs": [
    {
     "data": {
      "text/html": [
       "<div>\n",
       "<style scoped>\n",
       "    .dataframe tbody tr th:only-of-type {\n",
       "        vertical-align: middle;\n",
       "    }\n",
       "\n",
       "    .dataframe tbody tr th {\n",
       "        vertical-align: top;\n",
       "    }\n",
       "\n",
       "    .dataframe thead th {\n",
       "        text-align: right;\n",
       "    }\n",
       "</style>\n",
       "<table border=\"1\" class=\"dataframe\">\n",
       "  <thead>\n",
       "    <tr style=\"text-align: right;\">\n",
       "      <th></th>\n",
       "      <th>Gear_box_type_Automatic</th>\n",
       "      <th>Gear_box_type_Manual</th>\n",
       "      <th>Gear_box_type_Tiptronic</th>\n",
       "      <th>Gear_box_type_Variator</th>\n",
       "    </tr>\n",
       "  </thead>\n",
       "  <tbody>\n",
       "    <tr>\n",
       "      <th>0</th>\n",
       "      <td>1</td>\n",
       "      <td>0</td>\n",
       "      <td>0</td>\n",
       "      <td>0</td>\n",
       "    </tr>\n",
       "    <tr>\n",
       "      <th>1</th>\n",
       "      <td>0</td>\n",
       "      <td>0</td>\n",
       "      <td>1</td>\n",
       "      <td>0</td>\n",
       "    </tr>\n",
       "  </tbody>\n",
       "</table>\n",
       "</div>"
      ],
      "text/plain": [
       "   Gear_box_type_Automatic  Gear_box_type_Manual  Gear_box_type_Tiptronic  \\\n",
       "0                        1                     0                        0   \n",
       "1                        0                     0                        1   \n",
       "\n",
       "   Gear_box_type_Variator  \n",
       "0                       0  \n",
       "1                       0  "
      ]
     },
     "execution_count": 86,
     "metadata": {},
     "output_type": "execute_result"
    }
   ],
   "source": [
    "dummies2 = pd.get_dummies(df_categoricas[\"Gear_box_type\"], prefix_sep = \"_\", prefix = \"Gear_box_type\", dtype = int)\n",
    "dummies2.head(2)"
   ]
  },
  {
   "cell_type": "code",
   "execution_count": 87,
   "metadata": {},
   "outputs": [
    {
     "data": {
      "text/html": [
       "<div>\n",
       "<style scoped>\n",
       "    .dataframe tbody tr th:only-of-type {\n",
       "        vertical-align: middle;\n",
       "    }\n",
       "\n",
       "    .dataframe tbody tr th {\n",
       "        vertical-align: top;\n",
       "    }\n",
       "\n",
       "    .dataframe thead th {\n",
       "        text-align: right;\n",
       "    }\n",
       "</style>\n",
       "<table border=\"1\" class=\"dataframe\">\n",
       "  <thead>\n",
       "    <tr style=\"text-align: right;\">\n",
       "      <th></th>\n",
       "      <th>Drive_wheels_4x4</th>\n",
       "      <th>Drive_wheels_Front</th>\n",
       "      <th>Drive_wheels_Rear</th>\n",
       "    </tr>\n",
       "  </thead>\n",
       "  <tbody>\n",
       "    <tr>\n",
       "      <th>0</th>\n",
       "      <td>1</td>\n",
       "      <td>0</td>\n",
       "      <td>0</td>\n",
       "    </tr>\n",
       "    <tr>\n",
       "      <th>1</th>\n",
       "      <td>1</td>\n",
       "      <td>0</td>\n",
       "      <td>0</td>\n",
       "    </tr>\n",
       "  </tbody>\n",
       "</table>\n",
       "</div>"
      ],
      "text/plain": [
       "   Drive_wheels_4x4  Drive_wheels_Front  Drive_wheels_Rear\n",
       "0                 1                   0                  0\n",
       "1                 1                   0                  0"
      ]
     },
     "execution_count": 87,
     "metadata": {},
     "output_type": "execute_result"
    }
   ],
   "source": [
    "dummies3 = pd.get_dummies(df_categoricas[\"Drive_wheels\"], prefix_sep = \"_\", prefix = \"Drive_wheels\", dtype = int)\n",
    "dummies3.head(2)"
   ]
  },
  {
   "cell_type": "markdown",
   "metadata": {},
   "source": [
    "Vamos a hacer un concat para juntar todos nuestros datos luego de aplicar el label encoding y el get_dummies encoding a cada variable."
   ]
  },
  {
   "cell_type": "code",
   "execution_count": 88,
   "metadata": {},
   "outputs": [
    {
     "data": {
      "text/html": [
       "<div>\n",
       "<style scoped>\n",
       "    .dataframe tbody tr th:only-of-type {\n",
       "        vertical-align: middle;\n",
       "    }\n",
       "\n",
       "    .dataframe tbody tr th {\n",
       "        vertical-align: top;\n",
       "    }\n",
       "\n",
       "    .dataframe thead th {\n",
       "        text-align: right;\n",
       "    }\n",
       "</style>\n",
       "<table border=\"1\" class=\"dataframe\">\n",
       "  <thead>\n",
       "    <tr style=\"text-align: right;\">\n",
       "      <th></th>\n",
       "      <th>Levy</th>\n",
       "      <th>Prod_year</th>\n",
       "      <th>Leather_interior</th>\n",
       "      <th>Fuel_type</th>\n",
       "      <th>Mileage</th>\n",
       "      <th>Cylinders</th>\n",
       "      <th>Gear_box_type</th>\n",
       "      <th>Drive_wheels</th>\n",
       "      <th>Airbags</th>\n",
       "      <th>Price_raiz</th>\n",
       "      <th>Leather_interior_le</th>\n",
       "      <th>Fuel_type_CNG</th>\n",
       "      <th>Fuel_type_Diesel</th>\n",
       "      <th>Fuel_type_Hybrid</th>\n",
       "      <th>Fuel_type_Hydrogen</th>\n",
       "      <th>Fuel_type_LPG</th>\n",
       "      <th>Fuel_type_Petrol</th>\n",
       "      <th>Fuel_type_Plug-in Hybrid</th>\n",
       "      <th>Gear_box_type_Automatic</th>\n",
       "      <th>Gear_box_type_Manual</th>\n",
       "      <th>Gear_box_type_Tiptronic</th>\n",
       "      <th>Gear_box_type_Variator</th>\n",
       "      <th>Drive_wheels_4x4</th>\n",
       "      <th>Drive_wheels_Front</th>\n",
       "      <th>Drive_wheels_Rear</th>\n",
       "    </tr>\n",
       "  </thead>\n",
       "  <tbody>\n",
       "    <tr>\n",
       "      <th>0</th>\n",
       "      <td>1.766963</td>\n",
       "      <td>-0.411248</td>\n",
       "      <td>Yes</td>\n",
       "      <td>Hybrid</td>\n",
       "      <td>0.237134</td>\n",
       "      <td>1.375313</td>\n",
       "      <td>Automatic</td>\n",
       "      <td>4x4</td>\n",
       "      <td>1.329406</td>\n",
       "      <td>115.446958</td>\n",
       "      <td>1</td>\n",
       "      <td>0</td>\n",
       "      <td>0</td>\n",
       "      <td>1</td>\n",
       "      <td>0</td>\n",
       "      <td>0</td>\n",
       "      <td>0</td>\n",
       "      <td>0</td>\n",
       "      <td>1</td>\n",
       "      <td>0</td>\n",
       "      <td>0</td>\n",
       "      <td>0</td>\n",
       "      <td>1</td>\n",
       "      <td>0</td>\n",
       "      <td>0</td>\n",
       "    </tr>\n",
       "    <tr>\n",
       "      <th>1</th>\n",
       "      <td>0.943936</td>\n",
       "      <td>-0.173337</td>\n",
       "      <td>No</td>\n",
       "      <td>Petrol</td>\n",
       "      <td>0.273438</td>\n",
       "      <td>1.375313</td>\n",
       "      <td>Tiptronic</td>\n",
       "      <td>4x4</td>\n",
       "      <td>0.319668</td>\n",
       "      <td>128.922457</td>\n",
       "      <td>0</td>\n",
       "      <td>0</td>\n",
       "      <td>0</td>\n",
       "      <td>0</td>\n",
       "      <td>0</td>\n",
       "      <td>0</td>\n",
       "      <td>1</td>\n",
       "      <td>0</td>\n",
       "      <td>0</td>\n",
       "      <td>0</td>\n",
       "      <td>1</td>\n",
       "      <td>0</td>\n",
       "      <td>1</td>\n",
       "      <td>0</td>\n",
       "      <td>0</td>\n",
       "    </tr>\n",
       "  </tbody>\n",
       "</table>\n",
       "</div>"
      ],
      "text/plain": [
       "       Levy  Prod_year Leather_interior Fuel_type   Mileage  Cylinders  \\\n",
       "0  1.766963  -0.411248              Yes    Hybrid  0.237134   1.375313   \n",
       "1  0.943936  -0.173337               No    Petrol  0.273438   1.375313   \n",
       "\n",
       "  Gear_box_type Drive_wheels   Airbags  Price_raiz  Leather_interior_le  \\\n",
       "0     Automatic          4x4  1.329406  115.446958                    1   \n",
       "1     Tiptronic          4x4  0.319668  128.922457                    0   \n",
       "\n",
       "   Fuel_type_CNG  Fuel_type_Diesel  Fuel_type_Hybrid  Fuel_type_Hydrogen  \\\n",
       "0              0                 0                 1                   0   \n",
       "1              0                 0                 0                   0   \n",
       "\n",
       "   Fuel_type_LPG  Fuel_type_Petrol  Fuel_type_Plug-in Hybrid  \\\n",
       "0              0                 0                         0   \n",
       "1              0                 1                         0   \n",
       "\n",
       "   Gear_box_type_Automatic  Gear_box_type_Manual  Gear_box_type_Tiptronic  \\\n",
       "0                        1                     0                        0   \n",
       "1                        0                     0                        1   \n",
       "\n",
       "   Gear_box_type_Variator  Drive_wheels_4x4  Drive_wheels_Front  \\\n",
       "0                       0                 1                   0   \n",
       "1                       0                 1                   0   \n",
       "\n",
       "   Drive_wheels_Rear  \n",
       "0                  0  \n",
       "1                  0  "
      ]
     },
     "execution_count": 88,
     "metadata": {},
     "output_type": "execute_result"
    }
   ],
   "source": [
    "df_encoding = pd.concat([df, dummies1, dummies2, dummies3], axis = 1)\n",
    "df_encoding.head(2)"
   ]
  },
  {
   "cell_type": "markdown",
   "metadata": {},
   "source": [
    "\n",
    "##### <font color=green> Guardad el dataframe, donde deberíais tener las variables estadandarizadas, normalizadas y codificadas en un csv para usarlo en el próximo pairprogramming"
   ]
  },
  {
   "cell_type": "markdown",
   "metadata": {},
   "source": [
    "Dropeamos las columnas originales para quedarnos con las estandarizadas."
   ]
  },
  {
   "cell_type": "code",
   "execution_count": 89,
   "metadata": {},
   "outputs": [
    {
     "data": {
      "text/html": [
       "<div>\n",
       "<style scoped>\n",
       "    .dataframe tbody tr th:only-of-type {\n",
       "        vertical-align: middle;\n",
       "    }\n",
       "\n",
       "    .dataframe tbody tr th {\n",
       "        vertical-align: top;\n",
       "    }\n",
       "\n",
       "    .dataframe thead th {\n",
       "        text-align: right;\n",
       "    }\n",
       "</style>\n",
       "<table border=\"1\" class=\"dataframe\">\n",
       "  <thead>\n",
       "    <tr style=\"text-align: right;\">\n",
       "      <th></th>\n",
       "      <th>Levy</th>\n",
       "      <th>Prod_year</th>\n",
       "      <th>Mileage</th>\n",
       "      <th>Cylinders</th>\n",
       "      <th>Airbags</th>\n",
       "      <th>Price_raiz</th>\n",
       "      <th>Leather_interior_le</th>\n",
       "      <th>Fuel_type_CNG</th>\n",
       "      <th>Fuel_type_Diesel</th>\n",
       "      <th>Fuel_type_Hybrid</th>\n",
       "      <th>Fuel_type_Hydrogen</th>\n",
       "      <th>Fuel_type_LPG</th>\n",
       "      <th>Fuel_type_Petrol</th>\n",
       "      <th>Fuel_type_Plug-in Hybrid</th>\n",
       "      <th>Gear_box_type_Automatic</th>\n",
       "      <th>Gear_box_type_Manual</th>\n",
       "      <th>Gear_box_type_Tiptronic</th>\n",
       "      <th>Gear_box_type_Variator</th>\n",
       "      <th>Drive_wheels_4x4</th>\n",
       "      <th>Drive_wheels_Front</th>\n",
       "      <th>Drive_wheels_Rear</th>\n",
       "    </tr>\n",
       "  </thead>\n",
       "  <tbody>\n",
       "    <tr>\n",
       "      <th>0</th>\n",
       "      <td>1.766963</td>\n",
       "      <td>-0.411248</td>\n",
       "      <td>0.237134</td>\n",
       "      <td>1.375313</td>\n",
       "      <td>1.329406</td>\n",
       "      <td>115.446958</td>\n",
       "      <td>1</td>\n",
       "      <td>0</td>\n",
       "      <td>0</td>\n",
       "      <td>1</td>\n",
       "      <td>0</td>\n",
       "      <td>0</td>\n",
       "      <td>0</td>\n",
       "      <td>0</td>\n",
       "      <td>1</td>\n",
       "      <td>0</td>\n",
       "      <td>0</td>\n",
       "      <td>0</td>\n",
       "      <td>1</td>\n",
       "      <td>0</td>\n",
       "      <td>0</td>\n",
       "    </tr>\n",
       "    <tr>\n",
       "      <th>1</th>\n",
       "      <td>0.943936</td>\n",
       "      <td>-0.173337</td>\n",
       "      <td>0.273438</td>\n",
       "      <td>1.375313</td>\n",
       "      <td>0.319668</td>\n",
       "      <td>128.922457</td>\n",
       "      <td>0</td>\n",
       "      <td>0</td>\n",
       "      <td>0</td>\n",
       "      <td>0</td>\n",
       "      <td>0</td>\n",
       "      <td>0</td>\n",
       "      <td>1</td>\n",
       "      <td>0</td>\n",
       "      <td>0</td>\n",
       "      <td>0</td>\n",
       "      <td>1</td>\n",
       "      <td>0</td>\n",
       "      <td>1</td>\n",
       "      <td>0</td>\n",
       "      <td>0</td>\n",
       "    </tr>\n",
       "  </tbody>\n",
       "</table>\n",
       "</div>"
      ],
      "text/plain": [
       "       Levy  Prod_year   Mileage  Cylinders   Airbags  Price_raiz  \\\n",
       "0  1.766963  -0.411248  0.237134   1.375313  1.329406  115.446958   \n",
       "1  0.943936  -0.173337  0.273438   1.375313  0.319668  128.922457   \n",
       "\n",
       "   Leather_interior_le  Fuel_type_CNG  Fuel_type_Diesel  Fuel_type_Hybrid  \\\n",
       "0                    1              0                 0                 1   \n",
       "1                    0              0                 0                 0   \n",
       "\n",
       "   Fuel_type_Hydrogen  Fuel_type_LPG  Fuel_type_Petrol  \\\n",
       "0                   0              0                 0   \n",
       "1                   0              0                 1   \n",
       "\n",
       "   Fuel_type_Plug-in Hybrid  Gear_box_type_Automatic  Gear_box_type_Manual  \\\n",
       "0                         0                        1                     0   \n",
       "1                         0                        0                     0   \n",
       "\n",
       "   Gear_box_type_Tiptronic  Gear_box_type_Variator  Drive_wheels_4x4  \\\n",
       "0                        0                       0                 1   \n",
       "1                        1                       0                 1   \n",
       "\n",
       "   Drive_wheels_Front  Drive_wheels_Rear  \n",
       "0                   0                  0  \n",
       "1                   0                  0  "
      ]
     },
     "execution_count": 89,
     "metadata": {},
     "output_type": "execute_result"
    }
   ],
   "source": [
    "df_encoding.drop([\"Leather_interior\",\"Fuel_type\",\"Gear_box_type\",\"Drive_wheels\"], axis = 1, inplace = True)\n",
    "df_encoding.head(2)"
   ]
  },
  {
   "cell_type": "code",
   "execution_count": 90,
   "metadata": {},
   "outputs": [],
   "source": [
    "df_encoding.to_pickle('datos/cars_price_norm_est_cod.pkl')"
   ]
  },
  {
   "cell_type": "code",
   "execution_count": 91,
   "metadata": {},
   "outputs": [],
   "source": [
    "df_encoding.to_csv('datos/cars_price_norm_est_cod.csv')"
   ]
  }
 ],
 "metadata": {
  "kernelspec": {
   "display_name": "Python 3.10.5 64-bit",
   "language": "python",
   "name": "python3"
  },
  "language_info": {
   "codemirror_mode": {
    "name": "ipython",
    "version": 3
   },
   "file_extension": ".py",
   "mimetype": "text/x-python",
   "name": "python",
   "nbconvert_exporter": "python",
   "pygments_lexer": "ipython3",
   "version": "3.10.5"
  },
  "orig_nbformat": 4,
  "vscode": {
   "interpreter": {
    "hash": "6c417e8ec6dca726918e9382ccd5f9a276f75c00fe45ac2c66804bdd5db60888"
   }
  }
 },
 "nbformat": 4,
 "nbformat_minor": 2
}
