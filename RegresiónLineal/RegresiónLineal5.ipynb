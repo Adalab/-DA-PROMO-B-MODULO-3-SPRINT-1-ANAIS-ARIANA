{
 "cells": [
  {
   "cell_type": "code",
   "execution_count": 181,
   "metadata": {},
   "outputs": [],
   "source": [
    "import pandas as pd\n",
    "import random \n",
    "import seaborn as sns\n",
    "import numpy as np\n",
    "import matplotlib.pyplot as plt\n",
    "from scipy import stats\n",
    "import statsmodels.api as sm\n",
    "\n",
    "import researchpy as rp\n",
    "import scipy.stats as stats\n",
    "from scipy.stats import levene\n",
    "from scipy.stats import kstest\n",
    "from scipy.stats import skew\n",
    "\n",
    "\n",
    "import math \n",
    "from sklearn.preprocessing import MinMaxScaler\n",
    "\n",
    "\n",
    "plt.rcParams[\"figure.figsize\"] = (20,10) \n",
    "\n",
    "import warnings\n",
    "warnings.filterwarnings('ignore')"
   ]
  },
  {
   "cell_type": "markdown",
   "metadata": {},
   "source": [
    "<font color=green>En este ejercicio de pair programming seguiréis usando el dataset que seleccionasteis."
   ]
  },
  {
   "cell_type": "code",
   "execution_count": 182,
   "metadata": {},
   "outputs": [
    {
     "data": {
      "text/html": [
       "<div>\n",
       "<style scoped>\n",
       "    .dataframe tbody tr th:only-of-type {\n",
       "        vertical-align: middle;\n",
       "    }\n",
       "\n",
       "    .dataframe tbody tr th {\n",
       "        vertical-align: top;\n",
       "    }\n",
       "\n",
       "    .dataframe thead th {\n",
       "        text-align: right;\n",
       "    }\n",
       "</style>\n",
       "<table border=\"1\" class=\"dataframe\">\n",
       "  <thead>\n",
       "    <tr style=\"text-align: right;\">\n",
       "      <th></th>\n",
       "      <th>Price</th>\n",
       "      <th>Levy</th>\n",
       "      <th>Manufacturer</th>\n",
       "      <th>Prod. year</th>\n",
       "      <th>Category</th>\n",
       "      <th>Leather interior</th>\n",
       "      <th>Fuel type</th>\n",
       "      <th>Engine volume</th>\n",
       "      <th>Mileage</th>\n",
       "      <th>Cylinders</th>\n",
       "      <th>Gear box type</th>\n",
       "      <th>Drive wheels</th>\n",
       "      <th>Doors</th>\n",
       "      <th>Color</th>\n",
       "      <th>Airbags</th>\n",
       "    </tr>\n",
       "  </thead>\n",
       "  <tbody>\n",
       "    <tr>\n",
       "      <th>0</th>\n",
       "      <td>13328</td>\n",
       "      <td>1399.0</td>\n",
       "      <td>LEXUS</td>\n",
       "      <td>2010</td>\n",
       "      <td>Jeep</td>\n",
       "      <td>Yes</td>\n",
       "      <td>Hybrid</td>\n",
       "      <td>3.5</td>\n",
       "      <td>186005.0</td>\n",
       "      <td>6.0</td>\n",
       "      <td>Automatic</td>\n",
       "      <td>4x4</td>\n",
       "      <td>04</td>\n",
       "      <td>Silver</td>\n",
       "      <td>12</td>\n",
       "    </tr>\n",
       "    <tr>\n",
       "      <th>1</th>\n",
       "      <td>16621</td>\n",
       "      <td>1018.0</td>\n",
       "      <td>CHEVROLET</td>\n",
       "      <td>2011</td>\n",
       "      <td>Jeep</td>\n",
       "      <td>No</td>\n",
       "      <td>Petrol</td>\n",
       "      <td>3</td>\n",
       "      <td>192000.0</td>\n",
       "      <td>6.0</td>\n",
       "      <td>Tiptronic</td>\n",
       "      <td>4x4</td>\n",
       "      <td>04</td>\n",
       "      <td>Black</td>\n",
       "      <td>8</td>\n",
       "    </tr>\n",
       "  </tbody>\n",
       "</table>\n",
       "</div>"
      ],
      "text/plain": [
       "   Price    Levy Manufacturer  Prod. year Category Leather interior Fuel type  \\\n",
       "0  13328  1399.0        LEXUS        2010     Jeep              Yes    Hybrid   \n",
       "1  16621  1018.0    CHEVROLET        2011     Jeep               No    Petrol   \n",
       "\n",
       "  Engine volume   Mileage  Cylinders Gear box type Drive wheels Doors   Color  \\\n",
       "0           3.5  186005.0        6.0     Automatic          4x4    04  Silver   \n",
       "1             3  192000.0        6.0     Tiptronic          4x4    04   Black   \n",
       "\n",
       "   Airbags  \n",
       "0       12  \n",
       "1        8  "
      ]
     },
     "execution_count": 182,
     "metadata": {},
     "output_type": "execute_result"
    }
   ],
   "source": [
    "df = pd.read_pickle(\"datos/cars_price2.pkl\")\n",
    "df.head(2)"
   ]
  },
  {
   "cell_type": "markdown",
   "metadata": {},
   "source": [
    "\n",
    "##### <font color=green> En vuestro dataset habréis identificado unas variables predictoras y una variable respuesta. Los objetivos del pair programming de hoy son:\n"
   ]
  },
  {
   "cell_type": "markdown",
   "metadata": {},
   "source": [
    "\n",
    "##### <font color=green>  Sobre la variable respuesta, en pair programmings anterior identificastéis si seguía una distribución normal o no. En caso de que no siguiera una distribución normal, normalizarla. Podéis usar el método que prefiráis o el que mejor se ajuste\n"
   ]
  },
  {
   "cell_type": "markdown",
   "metadata": {},
   "source": [
    "### <font color=violet> Manualmente:"
   ]
  },
  {
   "cell_type": "code",
   "execution_count": 183,
   "metadata": {},
   "outputs": [],
   "source": [
    "media = df[\"Price\"].mean()\n",
    "maximo = df[\"Price\"].max() \n",
    "minimo = df[\"Price\"].min() "
   ]
  },
  {
   "cell_type": "code",
   "execution_count": 184,
   "metadata": {},
   "outputs": [],
   "source": [
    "df[\"Price_norm\"] = (df[\"Price\"] - media) / (maximo - minimo )"
   ]
  },
  {
   "cell_type": "code",
   "execution_count": 185,
   "metadata": {},
   "outputs": [
    {
     "data": {
      "text/html": [
       "<div>\n",
       "<style scoped>\n",
       "    .dataframe tbody tr th:only-of-type {\n",
       "        vertical-align: middle;\n",
       "    }\n",
       "\n",
       "    .dataframe tbody tr th {\n",
       "        vertical-align: top;\n",
       "    }\n",
       "\n",
       "    .dataframe thead th {\n",
       "        text-align: right;\n",
       "    }\n",
       "</style>\n",
       "<table border=\"1\" class=\"dataframe\">\n",
       "  <thead>\n",
       "    <tr style=\"text-align: right;\">\n",
       "      <th></th>\n",
       "      <th>Price</th>\n",
       "      <th>Levy</th>\n",
       "      <th>Manufacturer</th>\n",
       "      <th>Prod. year</th>\n",
       "      <th>Category</th>\n",
       "      <th>Leather interior</th>\n",
       "      <th>Fuel type</th>\n",
       "      <th>Engine volume</th>\n",
       "      <th>Mileage</th>\n",
       "      <th>Cylinders</th>\n",
       "      <th>Gear box type</th>\n",
       "      <th>Drive wheels</th>\n",
       "      <th>Doors</th>\n",
       "      <th>Color</th>\n",
       "      <th>Airbags</th>\n",
       "      <th>Price_norm</th>\n",
       "    </tr>\n",
       "  </thead>\n",
       "  <tbody>\n",
       "    <tr>\n",
       "      <th>0</th>\n",
       "      <td>13328</td>\n",
       "      <td>1399.0</td>\n",
       "      <td>LEXUS</td>\n",
       "      <td>2010</td>\n",
       "      <td>Jeep</td>\n",
       "      <td>Yes</td>\n",
       "      <td>Hybrid</td>\n",
       "      <td>3.5</td>\n",
       "      <td>186005.0</td>\n",
       "      <td>6.0</td>\n",
       "      <td>Automatic</td>\n",
       "      <td>4x4</td>\n",
       "      <td>04</td>\n",
       "      <td>Silver</td>\n",
       "      <td>12</td>\n",
       "      <td>-0.024087</td>\n",
       "    </tr>\n",
       "    <tr>\n",
       "      <th>1</th>\n",
       "      <td>16621</td>\n",
       "      <td>1018.0</td>\n",
       "      <td>CHEVROLET</td>\n",
       "      <td>2011</td>\n",
       "      <td>Jeep</td>\n",
       "      <td>No</td>\n",
       "      <td>Petrol</td>\n",
       "      <td>3</td>\n",
       "      <td>192000.0</td>\n",
       "      <td>6.0</td>\n",
       "      <td>Tiptronic</td>\n",
       "      <td>4x4</td>\n",
       "      <td>04</td>\n",
       "      <td>Black</td>\n",
       "      <td>8</td>\n",
       "      <td>-0.013410</td>\n",
       "    </tr>\n",
       "  </tbody>\n",
       "</table>\n",
       "</div>"
      ],
      "text/plain": [
       "   Price    Levy Manufacturer  Prod. year Category Leather interior Fuel type  \\\n",
       "0  13328  1399.0        LEXUS        2010     Jeep              Yes    Hybrid   \n",
       "1  16621  1018.0    CHEVROLET        2011     Jeep               No    Petrol   \n",
       "\n",
       "  Engine volume   Mileage  Cylinders Gear box type Drive wheels Doors   Color  \\\n",
       "0           3.5  186005.0        6.0     Automatic          4x4    04  Silver   \n",
       "1             3  192000.0        6.0     Tiptronic          4x4    04   Black   \n",
       "\n",
       "   Airbags  Price_norm  \n",
       "0       12   -0.024087  \n",
       "1        8   -0.013410  "
      ]
     },
     "execution_count": 185,
     "metadata": {},
     "output_type": "execute_result"
    }
   ],
   "source": [
    "df.head(2)"
   ]
  },
  {
   "cell_type": "code",
   "execution_count": 186,
   "metadata": {},
   "outputs": [
    {
     "data": {
      "image/png": "[encoded data removed]",
      "text/plain": [
       "<Figure size 1440x720 with 2 Axes>"
      ]
     },
     "metadata": {
      "needs_background": "light"
     },
     "output_type": "display_data"
    }
   ],
   "source": [
    "fig, axes = plt.subplots(1, 2)\n",
    "\n",
    "axes[0].set_title('Price original')\n",
    "axes[1].set_title('Price normalizado')\n",
    "\n",
    "sns.distplot(df['Price'] ,ax = axes[0])\n",
    "sns.distplot(df[\"Price_norm\"], ax = axes[1]);"
   ]
  },
  {
   "cell_type": "code",
   "execution_count": 187,
   "metadata": {},
   "outputs": [
    {
     "data": {
      "text/plain": [
       "KstestResult(statistic=0.47381557341023756, pvalue=0.0)"
      ]
     },
     "execution_count": 187,
     "metadata": {},
     "output_type": "execute_result"
    }
   ],
   "source": [
    "kstest(df['Price_norm'], 'norm')"
   ]
  },
  {
   "cell_type": "markdown",
   "metadata": {},
   "source": [
    "P-value < 0.05. Rechazamos nuestra H0"
   ]
  },
  {
   "cell_type": "markdown",
   "metadata": {},
   "source": [
    "### <font color=violet> Logarítmica"
   ]
  },
  {
   "cell_type": "code",
   "execution_count": 188,
   "metadata": {},
   "outputs": [],
   "source": [
    "df[\"Price_log\"] = df[\"Price\"].apply(lambda x: np.log(x) if x > 0 else 0)"
   ]
  },
  {
   "cell_type": "code",
   "execution_count": 189,
   "metadata": {},
   "outputs": [
    {
     "data": {
      "text/html": [
       "<div>\n",
       "<style scoped>\n",
       "    .dataframe tbody tr th:only-of-type {\n",
       "        vertical-align: middle;\n",
       "    }\n",
       "\n",
       "    .dataframe tbody tr th {\n",
       "        vertical-align: top;\n",
       "    }\n",
       "\n",
       "    .dataframe thead th {\n",
       "        text-align: right;\n",
       "    }\n",
       "</style>\n",
       "<table border=\"1\" class=\"dataframe\">\n",
       "  <thead>\n",
       "    <tr style=\"text-align: right;\">\n",
       "      <th></th>\n",
       "      <th>Price</th>\n",
       "      <th>Levy</th>\n",
       "      <th>Manufacturer</th>\n",
       "      <th>Prod. year</th>\n",
       "      <th>Category</th>\n",
       "      <th>Leather interior</th>\n",
       "      <th>Fuel type</th>\n",
       "      <th>Engine volume</th>\n",
       "      <th>Mileage</th>\n",
       "      <th>Cylinders</th>\n",
       "      <th>Gear box type</th>\n",
       "      <th>Drive wheels</th>\n",
       "      <th>Doors</th>\n",
       "      <th>Color</th>\n",
       "      <th>Airbags</th>\n",
       "      <th>Price_norm</th>\n",
       "      <th>Price_log</th>\n",
       "    </tr>\n",
       "  </thead>\n",
       "  <tbody>\n",
       "    <tr>\n",
       "      <th>0</th>\n",
       "      <td>13328</td>\n",
       "      <td>1399.0</td>\n",
       "      <td>LEXUS</td>\n",
       "      <td>2010</td>\n",
       "      <td>Jeep</td>\n",
       "      <td>Yes</td>\n",
       "      <td>Hybrid</td>\n",
       "      <td>3.5</td>\n",
       "      <td>186005.0</td>\n",
       "      <td>6.0</td>\n",
       "      <td>Automatic</td>\n",
       "      <td>4x4</td>\n",
       "      <td>04</td>\n",
       "      <td>Silver</td>\n",
       "      <td>12</td>\n",
       "      <td>-0.024087</td>\n",
       "      <td>9.497622</td>\n",
       "    </tr>\n",
       "    <tr>\n",
       "      <th>1</th>\n",
       "      <td>16621</td>\n",
       "      <td>1018.0</td>\n",
       "      <td>CHEVROLET</td>\n",
       "      <td>2011</td>\n",
       "      <td>Jeep</td>\n",
       "      <td>No</td>\n",
       "      <td>Petrol</td>\n",
       "      <td>3</td>\n",
       "      <td>192000.0</td>\n",
       "      <td>6.0</td>\n",
       "      <td>Tiptronic</td>\n",
       "      <td>4x4</td>\n",
       "      <td>04</td>\n",
       "      <td>Black</td>\n",
       "      <td>8</td>\n",
       "      <td>-0.013410</td>\n",
       "      <td>9.718422</td>\n",
       "    </tr>\n",
       "  </tbody>\n",
       "</table>\n",
       "</div>"
      ],
      "text/plain": [
       "   Price    Levy Manufacturer  Prod. year Category Leather interior Fuel type  \\\n",
       "0  13328  1399.0        LEXUS        2010     Jeep              Yes    Hybrid   \n",
       "1  16621  1018.0    CHEVROLET        2011     Jeep               No    Petrol   \n",
       "\n",
       "  Engine volume   Mileage  Cylinders Gear box type Drive wheels Doors   Color  \\\n",
       "0           3.5  186005.0        6.0     Automatic          4x4    04  Silver   \n",
       "1             3  192000.0        6.0     Tiptronic          4x4    04   Black   \n",
       "\n",
       "   Airbags  Price_norm  Price_log  \n",
       "0       12   -0.024087   9.497622  \n",
       "1        8   -0.013410   9.718422  "
      ]
     },
     "execution_count": 189,
     "metadata": {},
     "output_type": "execute_result"
    }
   ],
   "source": [
    "df.head(2)"
   ]
  },
  {
   "cell_type": "code",
   "execution_count": 190,
   "metadata": {},
   "outputs": [
    {
     "data": {
      "image/png": "[encoded data removed]",
      "text/plain": [
       "<Figure size 1440x720 with 2 Axes>"
      ]
     },
     "metadata": {
      "needs_background": "light"
     },
     "output_type": "display_data"
    }
   ],
   "source": [
    "fig, axes = plt.subplots(1, 2)\n",
    "\n",
    "axes[0].set_title('Price original')\n",
    "axes[1].set_title('Price normalizado')\n",
    "\n",
    "sns.distplot(df['Price'] ,ax = axes[0])\n",
    "sns.distplot(df[\"Price_log\"], ax = axes[1]);"
   ]
  },
  {
   "cell_type": "code",
   "execution_count": 191,
   "metadata": {},
   "outputs": [
    {
     "data": {
      "text/plain": [
       "KstestResult(statistic=0.9999999997427355, pvalue=0.0)"
      ]
     },
     "execution_count": 191,
     "metadata": {},
     "output_type": "execute_result"
    }
   ],
   "source": [
    "kstest(df['Price_log'], 'norm')"
   ]
  },
  {
   "cell_type": "markdown",
   "metadata": {},
   "source": [
    "P-value < 0.05. Rechazamos nuestra H0"
   ]
  },
  {
   "cell_type": "markdown",
   "metadata": {},
   "source": [
    "### <font color=violet> Raíz cuadrada"
   ]
  },
  {
   "cell_type": "code",
   "execution_count": 192,
   "metadata": {},
   "outputs": [],
   "source": [
    "df[\"Price_raiz\"] = df[\"Price\"].apply(lambda x: math.sqrt(x))"
   ]
  },
  {
   "cell_type": "code",
   "execution_count": 193,
   "metadata": {},
   "outputs": [
    {
     "data": {
      "text/html": [
       "<div>\n",
       "<style scoped>\n",
       "    .dataframe tbody tr th:only-of-type {\n",
       "        vertical-align: middle;\n",
       "    }\n",
       "\n",
       "    .dataframe tbody tr th {\n",
       "        vertical-align: top;\n",
       "    }\n",
       "\n",
       "    .dataframe thead th {\n",
       "        text-align: right;\n",
       "    }\n",
       "</style>\n",
       "<table border=\"1\" class=\"dataframe\">\n",
       "  <thead>\n",
       "    <tr style=\"text-align: right;\">\n",
       "      <th></th>\n",
       "      <th>Price</th>\n",
       "      <th>Levy</th>\n",
       "      <th>Manufacturer</th>\n",
       "      <th>Prod. year</th>\n",
       "      <th>Category</th>\n",
       "      <th>Leather interior</th>\n",
       "      <th>Fuel type</th>\n",
       "      <th>Engine volume</th>\n",
       "      <th>Mileage</th>\n",
       "      <th>Cylinders</th>\n",
       "      <th>Gear box type</th>\n",
       "      <th>Drive wheels</th>\n",
       "      <th>Doors</th>\n",
       "      <th>Color</th>\n",
       "      <th>Airbags</th>\n",
       "      <th>Price_norm</th>\n",
       "      <th>Price_log</th>\n",
       "      <th>Price_raiz</th>\n",
       "    </tr>\n",
       "  </thead>\n",
       "  <tbody>\n",
       "    <tr>\n",
       "      <th>0</th>\n",
       "      <td>13328</td>\n",
       "      <td>1399.0</td>\n",
       "      <td>LEXUS</td>\n",
       "      <td>2010</td>\n",
       "      <td>Jeep</td>\n",
       "      <td>Yes</td>\n",
       "      <td>Hybrid</td>\n",
       "      <td>3.5</td>\n",
       "      <td>186005.0</td>\n",
       "      <td>6.0</td>\n",
       "      <td>Automatic</td>\n",
       "      <td>4x4</td>\n",
       "      <td>04</td>\n",
       "      <td>Silver</td>\n",
       "      <td>12</td>\n",
       "      <td>-0.024087</td>\n",
       "      <td>9.497622</td>\n",
       "      <td>115.446958</td>\n",
       "    </tr>\n",
       "    <tr>\n",
       "      <th>1</th>\n",
       "      <td>16621</td>\n",
       "      <td>1018.0</td>\n",
       "      <td>CHEVROLET</td>\n",
       "      <td>2011</td>\n",
       "      <td>Jeep</td>\n",
       "      <td>No</td>\n",
       "      <td>Petrol</td>\n",
       "      <td>3</td>\n",
       "      <td>192000.0</td>\n",
       "      <td>6.0</td>\n",
       "      <td>Tiptronic</td>\n",
       "      <td>4x4</td>\n",
       "      <td>04</td>\n",
       "      <td>Black</td>\n",
       "      <td>8</td>\n",
       "      <td>-0.013410</td>\n",
       "      <td>9.718422</td>\n",
       "      <td>128.922457</td>\n",
       "    </tr>\n",
       "  </tbody>\n",
       "</table>\n",
       "</div>"
      ],
      "text/plain": [
       "   Price    Levy Manufacturer  Prod. year Category Leather interior Fuel type  \\\n",
       "0  13328  1399.0        LEXUS        2010     Jeep              Yes    Hybrid   \n",
       "1  16621  1018.0    CHEVROLET        2011     Jeep               No    Petrol   \n",
       "\n",
       "  Engine volume   Mileage  Cylinders Gear box type Drive wheels Doors   Color  \\\n",
       "0           3.5  186005.0        6.0     Automatic          4x4    04  Silver   \n",
       "1             3  192000.0        6.0     Tiptronic          4x4    04   Black   \n",
       "\n",
       "   Airbags  Price_norm  Price_log  Price_raiz  \n",
       "0       12   -0.024087   9.497622  115.446958  \n",
       "1        8   -0.013410   9.718422  128.922457  "
      ]
     },
     "execution_count": 193,
     "metadata": {},
     "output_type": "execute_result"
    }
   ],
   "source": [
    "df.head(2)"
   ]
  },
  {
   "cell_type": "code",
   "execution_count": 194,
   "metadata": {},
   "outputs": [
    {
     "data": {
      "image/png": "[encoded data removed]",
      "text/plain": [
       "<Figure size 1440x720 with 2 Axes>"
      ]
     },
     "metadata": {
      "needs_background": "light"
     },
     "output_type": "display_data"
    }
   ],
   "source": [
    "fig, axes = plt.subplots(1, 2)\n",
    "\n",
    "axes[0].set_title('Price original')\n",
    "axes[1].set_title('Price normalizado')\n",
    "\n",
    "sns.distplot(df['Price'] ,ax = axes[0])\n",
    "sns.distplot(df[\"Price_raiz\"], ax = axes[1]);"
   ]
  },
  {
   "cell_type": "code",
   "execution_count": 195,
   "metadata": {},
   "outputs": [
    {
     "data": {
      "text/plain": [
       "KstestResult(statistic=1.0, pvalue=0.0)"
      ]
     },
     "execution_count": 195,
     "metadata": {},
     "output_type": "execute_result"
    }
   ],
   "source": [
    "kstest(df['Price_raiz'], 'norm')"
   ]
  },
  {
   "cell_type": "markdown",
   "metadata": {},
   "source": [
    "P-value < 0.05. Rechazamos nuestra H0"
   ]
  },
  {
   "cell_type": "markdown",
   "metadata": {},
   "source": [
    "### <font color=violet> Stats.boxcox()"
   ]
  },
  {
   "cell_type": "code",
   "execution_count": 196,
   "metadata": {},
   "outputs": [],
   "source": [
    "df['Price_box'], lambda_ajustada = stats.boxcox(df['Price'])"
   ]
  },
  {
   "cell_type": "code",
   "execution_count": 197,
   "metadata": {},
   "outputs": [
    {
     "data": {
      "text/html": [
       "<div>\n",
       "<style scoped>\n",
       "    .dataframe tbody tr th:only-of-type {\n",
       "        vertical-align: middle;\n",
       "    }\n",
       "\n",
       "    .dataframe tbody tr th {\n",
       "        vertical-align: top;\n",
       "    }\n",
       "\n",
       "    .dataframe thead th {\n",
       "        text-align: right;\n",
       "    }\n",
       "</style>\n",
       "<table border=\"1\" class=\"dataframe\">\n",
       "  <thead>\n",
       "    <tr style=\"text-align: right;\">\n",
       "      <th></th>\n",
       "      <th>Price</th>\n",
       "      <th>Levy</th>\n",
       "      <th>Manufacturer</th>\n",
       "      <th>Prod. year</th>\n",
       "      <th>Category</th>\n",
       "      <th>Leather interior</th>\n",
       "      <th>Fuel type</th>\n",
       "      <th>Engine volume</th>\n",
       "      <th>Mileage</th>\n",
       "      <th>Cylinders</th>\n",
       "      <th>Gear box type</th>\n",
       "      <th>Drive wheels</th>\n",
       "      <th>Doors</th>\n",
       "      <th>Color</th>\n",
       "      <th>Airbags</th>\n",
       "      <th>Price_norm</th>\n",
       "      <th>Price_log</th>\n",
       "      <th>Price_raiz</th>\n",
       "      <th>Price_box</th>\n",
       "    </tr>\n",
       "  </thead>\n",
       "  <tbody>\n",
       "    <tr>\n",
       "      <th>0</th>\n",
       "      <td>13328</td>\n",
       "      <td>1399.0</td>\n",
       "      <td>LEXUS</td>\n",
       "      <td>2010</td>\n",
       "      <td>Jeep</td>\n",
       "      <td>Yes</td>\n",
       "      <td>Hybrid</td>\n",
       "      <td>3.5</td>\n",
       "      <td>186005.0</td>\n",
       "      <td>6.0</td>\n",
       "      <td>Automatic</td>\n",
       "      <td>4x4</td>\n",
       "      <td>04</td>\n",
       "      <td>Silver</td>\n",
       "      <td>12</td>\n",
       "      <td>-0.024087</td>\n",
       "      <td>9.497622</td>\n",
       "      <td>115.446958</td>\n",
       "      <td>50.621089</td>\n",
       "    </tr>\n",
       "    <tr>\n",
       "      <th>1</th>\n",
       "      <td>16621</td>\n",
       "      <td>1018.0</td>\n",
       "      <td>CHEVROLET</td>\n",
       "      <td>2011</td>\n",
       "      <td>Jeep</td>\n",
       "      <td>No</td>\n",
       "      <td>Petrol</td>\n",
       "      <td>3</td>\n",
       "      <td>192000.0</td>\n",
       "      <td>6.0</td>\n",
       "      <td>Tiptronic</td>\n",
       "      <td>4x4</td>\n",
       "      <td>04</td>\n",
       "      <td>Black</td>\n",
       "      <td>8</td>\n",
       "      <td>-0.013410</td>\n",
       "      <td>9.718422</td>\n",
       "      <td>128.922457</td>\n",
       "      <td>54.192853</td>\n",
       "    </tr>\n",
       "  </tbody>\n",
       "</table>\n",
       "</div>"
      ],
      "text/plain": [
       "   Price    Levy Manufacturer  Prod. year Category Leather interior Fuel type  \\\n",
       "0  13328  1399.0        LEXUS        2010     Jeep              Yes    Hybrid   \n",
       "1  16621  1018.0    CHEVROLET        2011     Jeep               No    Petrol   \n",
       "\n",
       "  Engine volume   Mileage  Cylinders Gear box type Drive wheels Doors   Color  \\\n",
       "0           3.5  186005.0        6.0     Automatic          4x4    04  Silver   \n",
       "1             3  192000.0        6.0     Tiptronic          4x4    04   Black   \n",
       "\n",
       "   Airbags  Price_norm  Price_log  Price_raiz  Price_box  \n",
       "0       12   -0.024087   9.497622  115.446958  50.621089  \n",
       "1        8   -0.013410   9.718422  128.922457  54.192853  "
      ]
     },
     "execution_count": 197,
     "metadata": {},
     "output_type": "execute_result"
    }
   ],
   "source": [
    "df.head(2)"
   ]
  },
  {
   "cell_type": "code",
   "execution_count": 198,
   "metadata": {},
   "outputs": [
    {
     "data": {
      "image/png": "[encoded data removed]",
      "text/plain": [
       "<Figure size 1440x720 with 2 Axes>"
      ]
     },
     "metadata": {
      "needs_background": "light"
     },
     "output_type": "display_data"
    }
   ],
   "source": [
    "fig, axes = plt.subplots(1, 2)\n",
    "\n",
    "axes[0].set_title('Price original')\n",
    "axes[1].set_title('Price normalizado')\n",
    "\n",
    "sns.distplot(df['Price'] ,ax = axes[0])\n",
    "sns.distplot(df[\"Price_box\"], ax = axes[1]);"
   ]
  },
  {
   "cell_type": "code",
   "execution_count": 199,
   "metadata": {},
   "outputs": [
    {
     "data": {
      "text/plain": [
       "KstestResult(statistic=1.0, pvalue=0.0)"
      ]
     },
     "execution_count": 199,
     "metadata": {},
     "output_type": "execute_result"
    }
   ],
   "source": [
    "kstest(df['Price_box'], 'norm')"
   ]
  },
  {
   "cell_type": "markdown",
   "metadata": {},
   "source": [
    "P-value < 0.05. Rechazamos nuestra H0"
   ]
  },
  {
   "cell_type": "markdown",
   "metadata": {},
   "source": [
    "### <font color=violet> Sklearn MinMaxScaller"
   ]
  },
  {
   "cell_type": "code",
   "execution_count": 200,
   "metadata": {},
   "outputs": [],
   "source": [
    "numericas = df.select_dtypes(include = np.number)"
   ]
  },
  {
   "cell_type": "code",
   "execution_count": 201,
   "metadata": {},
   "outputs": [
    {
     "data": {
      "text/html": [
       "<div>\n",
       "<style scoped>\n",
       "    .dataframe tbody tr th:only-of-type {\n",
       "        vertical-align: middle;\n",
       "    }\n",
       "\n",
       "    .dataframe tbody tr th {\n",
       "        vertical-align: top;\n",
       "    }\n",
       "\n",
       "    .dataframe thead th {\n",
       "        text-align: right;\n",
       "    }\n",
       "</style>\n",
       "<table border=\"1\" class=\"dataframe\">\n",
       "  <thead>\n",
       "    <tr style=\"text-align: right;\">\n",
       "      <th></th>\n",
       "      <th>Price</th>\n",
       "      <th>Levy</th>\n",
       "      <th>Prod. year</th>\n",
       "      <th>Mileage</th>\n",
       "      <th>Cylinders</th>\n",
       "      <th>Airbags</th>\n",
       "      <th>Price_norm</th>\n",
       "      <th>Price_log</th>\n",
       "      <th>Price_raiz</th>\n",
       "      <th>Price_box</th>\n",
       "    </tr>\n",
       "  </thead>\n",
       "  <tbody>\n",
       "    <tr>\n",
       "      <th>0</th>\n",
       "      <td>13328</td>\n",
       "      <td>1399.0</td>\n",
       "      <td>2010</td>\n",
       "      <td>186005.0</td>\n",
       "      <td>6.0</td>\n",
       "      <td>12</td>\n",
       "      <td>-0.024087</td>\n",
       "      <td>9.497622</td>\n",
       "      <td>115.446958</td>\n",
       "      <td>50.621089</td>\n",
       "    </tr>\n",
       "    <tr>\n",
       "      <th>1</th>\n",
       "      <td>16621</td>\n",
       "      <td>1018.0</td>\n",
       "      <td>2011</td>\n",
       "      <td>192000.0</td>\n",
       "      <td>6.0</td>\n",
       "      <td>8</td>\n",
       "      <td>-0.013410</td>\n",
       "      <td>9.718422</td>\n",
       "      <td>128.922457</td>\n",
       "      <td>54.192853</td>\n",
       "    </tr>\n",
       "    <tr>\n",
       "      <th>2</th>\n",
       "      <td>8467</td>\n",
       "      <td>0.0</td>\n",
       "      <td>2006</td>\n",
       "      <td>200000.0</td>\n",
       "      <td>4.0</td>\n",
       "      <td>2</td>\n",
       "      <td>-0.039849</td>\n",
       "      <td>9.043932</td>\n",
       "      <td>92.016303</td>\n",
       "      <td>43.961419</td>\n",
       "    </tr>\n",
       "    <tr>\n",
       "      <th>3</th>\n",
       "      <td>3607</td>\n",
       "      <td>862.0</td>\n",
       "      <td>2011</td>\n",
       "      <td>168966.0</td>\n",
       "      <td>4.0</td>\n",
       "      <td>0</td>\n",
       "      <td>-0.055607</td>\n",
       "      <td>8.190632</td>\n",
       "      <td>60.058305</td>\n",
       "      <td>33.577312</td>\n",
       "    </tr>\n",
       "    <tr>\n",
       "      <th>4</th>\n",
       "      <td>11726</td>\n",
       "      <td>446.0</td>\n",
       "      <td>2014</td>\n",
       "      <td>91901.0</td>\n",
       "      <td>4.0</td>\n",
       "      <td>4</td>\n",
       "      <td>-0.029282</td>\n",
       "      <td>9.369564</td>\n",
       "      <td>108.286657</td>\n",
       "      <td>48.651853</td>\n",
       "    </tr>\n",
       "    <tr>\n",
       "      <th>...</th>\n",
       "      <td>...</td>\n",
       "      <td>...</td>\n",
       "      <td>...</td>\n",
       "      <td>...</td>\n",
       "      <td>...</td>\n",
       "      <td>...</td>\n",
       "      <td>...</td>\n",
       "      <td>...</td>\n",
       "      <td>...</td>\n",
       "      <td>...</td>\n",
       "    </tr>\n",
       "    <tr>\n",
       "      <th>19224</th>\n",
       "      <td>19130</td>\n",
       "      <td>0.0</td>\n",
       "      <td>2014</td>\n",
       "      <td>35800.0</td>\n",
       "      <td>4.0</td>\n",
       "      <td>12</td>\n",
       "      <td>-0.005274</td>\n",
       "      <td>9.859013</td>\n",
       "      <td>138.311243</td>\n",
       "      <td>56.589095</td>\n",
       "    </tr>\n",
       "    <tr>\n",
       "      <th>19225</th>\n",
       "      <td>8781</td>\n",
       "      <td>1107.0</td>\n",
       "      <td>2007</td>\n",
       "      <td>236000.0</td>\n",
       "      <td>4.0</td>\n",
       "      <td>4</td>\n",
       "      <td>-0.038831</td>\n",
       "      <td>9.080346</td>\n",
       "      <td>93.706990</td>\n",
       "      <td>44.464226</td>\n",
       "    </tr>\n",
       "    <tr>\n",
       "      <th>19226</th>\n",
       "      <td>7840</td>\n",
       "      <td>0.0</td>\n",
       "      <td>2003</td>\n",
       "      <td>220000.0</td>\n",
       "      <td>6.0</td>\n",
       "      <td>0</td>\n",
       "      <td>-0.041882</td>\n",
       "      <td>8.966994</td>\n",
       "      <td>88.543774</td>\n",
       "      <td>42.916345</td>\n",
       "    </tr>\n",
       "    <tr>\n",
       "      <th>19233</th>\n",
       "      <td>15681</td>\n",
       "      <td>831.0</td>\n",
       "      <td>2011</td>\n",
       "      <td>161600.0</td>\n",
       "      <td>4.0</td>\n",
       "      <td>8</td>\n",
       "      <td>-0.016458</td>\n",
       "      <td>9.660205</td>\n",
       "      <td>125.223800</td>\n",
       "      <td>53.228817</td>\n",
       "    </tr>\n",
       "    <tr>\n",
       "      <th>19234</th>\n",
       "      <td>26108</td>\n",
       "      <td>836.0</td>\n",
       "      <td>2010</td>\n",
       "      <td>116365.0</td>\n",
       "      <td>4.0</td>\n",
       "      <td>4</td>\n",
       "      <td>0.017352</td>\n",
       "      <td>10.169997</td>\n",
       "      <td>161.579702</td>\n",
       "      <td>62.249343</td>\n",
       "    </tr>\n",
       "  </tbody>\n",
       "</table>\n",
       "<p>13584 rows × 10 columns</p>\n",
       "</div>"
      ],
      "text/plain": [
       "       Price    Levy  Prod. year   Mileage  Cylinders  Airbags  Price_norm  \\\n",
       "0      13328  1399.0        2010  186005.0        6.0       12   -0.024087   \n",
       "1      16621  1018.0        2011  192000.0        6.0        8   -0.013410   \n",
       "2       8467     0.0        2006  200000.0        4.0        2   -0.039849   \n",
       "3       3607   862.0        2011  168966.0        4.0        0   -0.055607   \n",
       "4      11726   446.0        2014   91901.0        4.0        4   -0.029282   \n",
       "...      ...     ...         ...       ...        ...      ...         ...   \n",
       "19224  19130     0.0        2014   35800.0        4.0       12   -0.005274   \n",
       "19225   8781  1107.0        2007  236000.0        4.0        4   -0.038831   \n",
       "19226   7840     0.0        2003  220000.0        6.0        0   -0.041882   \n",
       "19233  15681   831.0        2011  161600.0        4.0        8   -0.016458   \n",
       "19234  26108   836.0        2010  116365.0        4.0        4    0.017352   \n",
       "\n",
       "       Price_log  Price_raiz  Price_box  \n",
       "0       9.497622  115.446958  50.621089  \n",
       "1       9.718422  128.922457  54.192853  \n",
       "2       9.043932   92.016303  43.961419  \n",
       "3       8.190632   60.058305  33.577312  \n",
       "4       9.369564  108.286657  48.651853  \n",
       "...          ...         ...        ...  \n",
       "19224   9.859013  138.311243  56.589095  \n",
       "19225   9.080346   93.706990  44.464226  \n",
       "19226   8.966994   88.543774  42.916345  \n",
       "19233   9.660205  125.223800  53.228817  \n",
       "19234  10.169997  161.579702  62.249343  \n",
       "\n",
       "[13584 rows x 10 columns]"
      ]
     },
     "execution_count": 201,
     "metadata": {},
     "output_type": "execute_result"
    }
   ],
   "source": [
    "numericas"
   ]
  },
  {
   "cell_type": "code",
   "execution_count": 202,
   "metadata": {},
   "outputs": [],
   "source": [
    "minmax = MinMaxScaler()"
   ]
  },
  {
   "cell_type": "code",
   "execution_count": 203,
   "metadata": {},
   "outputs": [
    {
     "data": {
      "text/html": [
       "<style>#sk-container-id-6 {color: black;background-color: white;}#sk-container-id-6 pre{padding: 0;}#sk-container-id-6 div.sk-toggleable {background-color: white;}#sk-container-id-6 label.sk-toggleable__label {cursor: pointer;display: block;width: 100%;margin-bottom: 0;padding: 0.3em;box-sizing: border-box;text-align: center;}#sk-container-id-6 label.sk-toggleable__label-arrow:before {content: \"▸\";float: left;margin-right: 0.25em;color: #696969;}#sk-container-id-6 label.sk-toggleable__label-arrow:hover:before {color: black;}#sk-container-id-6 div.sk-estimator:hover label.sk-toggleable__label-arrow:before {color: black;}#sk-container-id-6 div.sk-toggleable__content {max-height: 0;max-width: 0;overflow: hidden;text-align: left;background-color: #f0f8ff;}#sk-container-id-6 div.sk-toggleable__content pre {margin: 0.2em;color: black;border-radius: 0.25em;background-color: #f0f8ff;}#sk-container-id-6 input.sk-toggleable__control:checked~div.sk-toggleable__content {max-height: 200px;max-width: 100%;overflow: auto;}#sk-container-id-6 input.sk-toggleable__control:checked~label.sk-toggleable__label-arrow:before {content: \"▾\";}#sk-container-id-6 div.sk-estimator input.sk-toggleable__control:checked~label.sk-toggleable__label {background-color: #d4ebff;}#sk-container-id-6 div.sk-label input.sk-toggleable__control:checked~label.sk-toggleable__label {background-color: #d4ebff;}#sk-container-id-6 input.sk-hidden--visually {border: 0;clip: rect(1px 1px 1px 1px);clip: rect(1px, 1px, 1px, 1px);height: 1px;margin: -1px;overflow: hidden;padding: 0;position: absolute;width: 1px;}#sk-container-id-6 div.sk-estimator {font-family: monospace;background-color: #f0f8ff;border: 1px dotted black;border-radius: 0.25em;box-sizing: border-box;margin-bottom: 0.5em;}#sk-container-id-6 div.sk-estimator:hover {background-color: #d4ebff;}#sk-container-id-6 div.sk-parallel-item::after {content: \"\";width: 100%;border-bottom: 1px solid gray;flex-grow: 1;}#sk-container-id-6 div.sk-label:hover label.sk-toggleable__label {background-color: #d4ebff;}#sk-container-id-6 div.sk-serial::before {content: \"\";position: absolute;border-left: 1px solid gray;box-sizing: border-box;top: 0;bottom: 0;left: 50%;z-index: 0;}#sk-container-id-6 div.sk-serial {display: flex;flex-direction: column;align-items: center;background-color: white;padding-right: 0.2em;padding-left: 0.2em;position: relative;}#sk-container-id-6 div.sk-item {position: relative;z-index: 1;}#sk-container-id-6 div.sk-parallel {display: flex;align-items: stretch;justify-content: center;background-color: white;position: relative;}#sk-container-id-6 div.sk-item::before, #sk-container-id-6 div.sk-parallel-item::before {content: \"\";position: absolute;border-left: 1px solid gray;box-sizing: border-box;top: 0;bottom: 0;left: 50%;z-index: -1;}#sk-container-id-6 div.sk-parallel-item {display: flex;flex-direction: column;z-index: 1;position: relative;background-color: white;}#sk-container-id-6 div.sk-parallel-item:first-child::after {align-self: flex-end;width: 50%;}#sk-container-id-6 div.sk-parallel-item:last-child::after {align-self: flex-start;width: 50%;}#sk-container-id-6 div.sk-parallel-item:only-child::after {width: 0;}#sk-container-id-6 div.sk-dashed-wrapped {border: 1px dashed gray;margin: 0 0.4em 0.5em 0.4em;box-sizing: border-box;padding-bottom: 0.4em;background-color: white;}#sk-container-id-6 div.sk-label label {font-family: monospace;font-weight: bold;display: inline-block;line-height: 1.2em;}#sk-container-id-6 div.sk-label-container {text-align: center;}#sk-container-id-6 div.sk-container {/* jupyter's `normalize.less` sets `[hidden] { display: none; }` but bootstrap.min.css set `[hidden] { display: none !important; }` so we also need the `!important` here to be able to override the default hidden behavior on the sphinx rendered scikit-learn.org. See: https://github.com/scikit-learn/scikit-learn/issues/21755 */display: inline-block !important;position: relative;}#sk-container-id-6 div.sk-text-repr-fallback {display: none;}</style><div id=\"sk-container-id-6\" class=\"sk-top-container\"><div class=\"sk-text-repr-fallback\"><pre>MinMaxScaler()</pre><b>In a Jupyter environment, please rerun this cell to show the HTML representation or trust the notebook. <br />On GitHub, the HTML representation is unable to render, please try loading this page with nbviewer.org.</b></div><div class=\"sk-container\" hidden><div class=\"sk-item\"><div class=\"sk-estimator sk-toggleable\"><input class=\"sk-toggleable__control sk-hidden--visually\" id=\"sk-estimator-id-6\" type=\"checkbox\" checked><label for=\"sk-estimator-id-6\" class=\"sk-toggleable__label sk-toggleable__label-arrow\">MinMaxScaler</label><div class=\"sk-toggleable__content\"><pre>MinMaxScaler()</pre></div></div></div></div></div>"
      ],
      "text/plain": [
       "MinMaxScaler()"
      ]
     },
     "execution_count": 203,
     "metadata": {},
     "output_type": "execute_result"
    }
   ],
   "source": [
    "minmax.fit(df[['Price']])"
   ]
  },
  {
   "cell_type": "code",
   "execution_count": 204,
   "metadata": {},
   "outputs": [],
   "source": [
    "X_normalizadas = minmax.transform(df[[\"Price\"]])"
   ]
  },
  {
   "cell_type": "code",
   "execution_count": 205,
   "metadata": {},
   "outputs": [
    {
     "data": {
      "text/plain": [
       "array([0.])"
      ]
     },
     "execution_count": 205,
     "metadata": {},
     "output_type": "execute_result"
    }
   ],
   "source": [
    "X_normalizadas.min(axis=0)"
   ]
  },
  {
   "cell_type": "code",
   "execution_count": 206,
   "metadata": {},
   "outputs": [
    {
     "data": {
      "text/plain": [
       "array([1.])"
      ]
     },
     "execution_count": 206,
     "metadata": {},
     "output_type": "execute_result"
    }
   ],
   "source": [
    "X_normalizadas.max(axis=0)"
   ]
  },
  {
   "cell_type": "code",
   "execution_count": 207,
   "metadata": {},
   "outputs": [
    {
     "data": {
      "text/html": [
       "<div>\n",
       "<style scoped>\n",
       "    .dataframe tbody tr th:only-of-type {\n",
       "        vertical-align: middle;\n",
       "    }\n",
       "\n",
       "    .dataframe tbody tr th {\n",
       "        vertical-align: top;\n",
       "    }\n",
       "\n",
       "    .dataframe thead th {\n",
       "        text-align: right;\n",
       "    }\n",
       "</style>\n",
       "<table border=\"1\" class=\"dataframe\">\n",
       "  <thead>\n",
       "    <tr style=\"text-align: right;\">\n",
       "      <th></th>\n",
       "      <th>Price_Sklearn</th>\n",
       "    </tr>\n",
       "  </thead>\n",
       "  <tbody>\n",
       "    <tr>\n",
       "      <th>0</th>\n",
       "      <td>0.041595</td>\n",
       "    </tr>\n",
       "    <tr>\n",
       "      <th>1</th>\n",
       "      <td>0.052272</td>\n",
       "    </tr>\n",
       "    <tr>\n",
       "      <th>2</th>\n",
       "      <td>0.025833</td>\n",
       "    </tr>\n",
       "    <tr>\n",
       "      <th>3</th>\n",
       "      <td>0.010074</td>\n",
       "    </tr>\n",
       "    <tr>\n",
       "      <th>4</th>\n",
       "      <td>0.036400</td>\n",
       "    </tr>\n",
       "    <tr>\n",
       "      <th>...</th>\n",
       "      <td>...</td>\n",
       "    </tr>\n",
       "    <tr>\n",
       "      <th>13579</th>\n",
       "      <td>0.060407</td>\n",
       "    </tr>\n",
       "    <tr>\n",
       "      <th>13580</th>\n",
       "      <td>0.026851</td>\n",
       "    </tr>\n",
       "    <tr>\n",
       "      <th>13581</th>\n",
       "      <td>0.023800</td>\n",
       "    </tr>\n",
       "    <tr>\n",
       "      <th>13582</th>\n",
       "      <td>0.049224</td>\n",
       "    </tr>\n",
       "    <tr>\n",
       "      <th>13583</th>\n",
       "      <td>0.083033</td>\n",
       "    </tr>\n",
       "  </tbody>\n",
       "</table>\n",
       "<p>13584 rows × 1 columns</p>\n",
       "</div>"
      ],
      "text/plain": [
       "       Price_Sklearn\n",
       "0           0.041595\n",
       "1           0.052272\n",
       "2           0.025833\n",
       "3           0.010074\n",
       "4           0.036400\n",
       "...              ...\n",
       "13579       0.060407\n",
       "13580       0.026851\n",
       "13581       0.023800\n",
       "13582       0.049224\n",
       "13583       0.083033\n",
       "\n",
       "[13584 rows x 1 columns]"
      ]
     },
     "execution_count": 207,
     "metadata": {},
     "output_type": "execute_result"
    }
   ],
   "source": [
    "numericas_minmax = pd.DataFrame(X_normalizadas, columns = [\"Price_Sklearn\"])\n",
    "numericas_minmax"
   ]
  },
  {
   "cell_type": "code",
   "execution_count": 208,
   "metadata": {},
   "outputs": [
    {
     "data": {
      "text/html": [
       "<div>\n",
       "<style scoped>\n",
       "    .dataframe tbody tr th:only-of-type {\n",
       "        vertical-align: middle;\n",
       "    }\n",
       "\n",
       "    .dataframe tbody tr th {\n",
       "        vertical-align: top;\n",
       "    }\n",
       "\n",
       "    .dataframe thead th {\n",
       "        text-align: right;\n",
       "    }\n",
       "</style>\n",
       "<table border=\"1\" class=\"dataframe\">\n",
       "  <thead>\n",
       "    <tr style=\"text-align: right;\">\n",
       "      <th></th>\n",
       "      <th>Price</th>\n",
       "      <th>Levy</th>\n",
       "      <th>Manufacturer</th>\n",
       "      <th>Prod. year</th>\n",
       "      <th>Category</th>\n",
       "      <th>Leather interior</th>\n",
       "      <th>Fuel type</th>\n",
       "      <th>Engine volume</th>\n",
       "      <th>Mileage</th>\n",
       "      <th>Cylinders</th>\n",
       "      <th>Gear box type</th>\n",
       "      <th>Drive wheels</th>\n",
       "      <th>Doors</th>\n",
       "      <th>Color</th>\n",
       "      <th>Airbags</th>\n",
       "      <th>Price_norm</th>\n",
       "      <th>Price_log</th>\n",
       "      <th>Price_raiz</th>\n",
       "      <th>Price_box</th>\n",
       "      <th>Price_Sklearn</th>\n",
       "    </tr>\n",
       "  </thead>\n",
       "  <tbody>\n",
       "    <tr>\n",
       "      <th>0</th>\n",
       "      <td>13328</td>\n",
       "      <td>1399.0</td>\n",
       "      <td>LEXUS</td>\n",
       "      <td>2010</td>\n",
       "      <td>Jeep</td>\n",
       "      <td>Yes</td>\n",
       "      <td>Hybrid</td>\n",
       "      <td>3.5</td>\n",
       "      <td>186005.0</td>\n",
       "      <td>6.0</td>\n",
       "      <td>Automatic</td>\n",
       "      <td>4x4</td>\n",
       "      <td>04</td>\n",
       "      <td>Silver</td>\n",
       "      <td>12</td>\n",
       "      <td>-0.024087</td>\n",
       "      <td>9.497622</td>\n",
       "      <td>115.446958</td>\n",
       "      <td>50.621089</td>\n",
       "      <td>0.041595</td>\n",
       "    </tr>\n",
       "    <tr>\n",
       "      <th>1</th>\n",
       "      <td>16621</td>\n",
       "      <td>1018.0</td>\n",
       "      <td>CHEVROLET</td>\n",
       "      <td>2011</td>\n",
       "      <td>Jeep</td>\n",
       "      <td>No</td>\n",
       "      <td>Petrol</td>\n",
       "      <td>3</td>\n",
       "      <td>192000.0</td>\n",
       "      <td>6.0</td>\n",
       "      <td>Tiptronic</td>\n",
       "      <td>4x4</td>\n",
       "      <td>04</td>\n",
       "      <td>Black</td>\n",
       "      <td>8</td>\n",
       "      <td>-0.013410</td>\n",
       "      <td>9.718422</td>\n",
       "      <td>128.922457</td>\n",
       "      <td>54.192853</td>\n",
       "      <td>0.052272</td>\n",
       "    </tr>\n",
       "  </tbody>\n",
       "</table>\n",
       "</div>"
      ],
      "text/plain": [
       "   Price    Levy Manufacturer  Prod. year Category Leather interior Fuel type  \\\n",
       "0  13328  1399.0        LEXUS        2010     Jeep              Yes    Hybrid   \n",
       "1  16621  1018.0    CHEVROLET        2011     Jeep               No    Petrol   \n",
       "\n",
       "  Engine volume   Mileage  Cylinders Gear box type Drive wheels Doors   Color  \\\n",
       "0           3.5  186005.0        6.0     Automatic          4x4    04  Silver   \n",
       "1             3  192000.0        6.0     Tiptronic          4x4    04   Black   \n",
       "\n",
       "   Airbags  Price_norm  Price_log  Price_raiz  Price_box  Price_Sklearn  \n",
       "0       12   -0.024087   9.497622  115.446958  50.621089       0.041595  \n",
       "1        8   -0.013410   9.718422  128.922457  54.192853       0.052272  "
      ]
     },
     "execution_count": 208,
     "metadata": {},
     "output_type": "execute_result"
    }
   ],
   "source": [
    "df[\"Price_Sklearn\"] = numericas_minmax\n",
    "df.head(2)"
   ]
  },
  {
   "cell_type": "code",
   "execution_count": 209,
   "metadata": {},
   "outputs": [
    {
     "data": {
      "image/png": "[encoded data removed]",
      "text/plain": [
       "<Figure size 1440x720 with 2 Axes>"
      ]
     },
     "metadata": {
      "needs_background": "light"
     },
     "output_type": "display_data"
    }
   ],
   "source": [
    "fig, axes = plt.subplots(1, 2)\n",
    "\n",
    "axes[0].set_title('Price original')\n",
    "axes[1].set_title('Price normalizado')\n",
    "\n",
    "sns.distplot(df['Price'], ax = axes[0])\n",
    "sns.distplot(df['Price_Sklearn'], ax = axes[1]);"
   ]
  },
  {
   "cell_type": "code",
   "execution_count": 210,
   "metadata": {},
   "outputs": [
    {
     "data": {
      "text/plain": [
       "KstestResult(statistic=nan, pvalue=nan)"
      ]
     },
     "execution_count": 210,
     "metadata": {},
     "output_type": "execute_result"
    }
   ],
   "source": [
    "kstest(df['Price_Sklearn'], 'norm') "
   ]
  },
  {
   "cell_type": "markdown",
   "metadata": {},
   "source": [
    "Luego de aplicar los métodos de Normalización hemos visto que en ninguna de las transformaciones hemos cumplido nuestro objetivo de que nuestros datos sean normales. Esto es algo normal, escogeremos la transformación que más se ha ajustado a la campana de Gauss visualmente. En nuestro caso, ha sido la transformación logarítmica. \n"
   ]
  },
  {
   "cell_type": "markdown",
   "metadata": {},
   "source": [
    "Dropeamos las columnas de precios normalizados que no vamos a usar."
   ]
  },
  {
   "cell_type": "code",
   "execution_count": 211,
   "metadata": {},
   "outputs": [],
   "source": [
    "df.drop(['Price_norm', 'Price_Sklearn', 'Price_box', 'Price_raiz' ], axis = 1, inplace = True)"
   ]
  },
  {
   "cell_type": "code",
   "execution_count": 212,
   "metadata": {},
   "outputs": [
    {
     "data": {
      "text/html": [
       "<div>\n",
       "<style scoped>\n",
       "    .dataframe tbody tr th:only-of-type {\n",
       "        vertical-align: middle;\n",
       "    }\n",
       "\n",
       "    .dataframe tbody tr th {\n",
       "        vertical-align: top;\n",
       "    }\n",
       "\n",
       "    .dataframe thead th {\n",
       "        text-align: right;\n",
       "    }\n",
       "</style>\n",
       "<table border=\"1\" class=\"dataframe\">\n",
       "  <thead>\n",
       "    <tr style=\"text-align: right;\">\n",
       "      <th></th>\n",
       "      <th>Price</th>\n",
       "      <th>Levy</th>\n",
       "      <th>Manufacturer</th>\n",
       "      <th>Prod. year</th>\n",
       "      <th>Category</th>\n",
       "      <th>Leather interior</th>\n",
       "      <th>Fuel type</th>\n",
       "      <th>Engine volume</th>\n",
       "      <th>Mileage</th>\n",
       "      <th>Cylinders</th>\n",
       "      <th>Gear box type</th>\n",
       "      <th>Drive wheels</th>\n",
       "      <th>Doors</th>\n",
       "      <th>Color</th>\n",
       "      <th>Airbags</th>\n",
       "      <th>Price_log</th>\n",
       "    </tr>\n",
       "  </thead>\n",
       "  <tbody>\n",
       "    <tr>\n",
       "      <th>0</th>\n",
       "      <td>13328</td>\n",
       "      <td>1399.0</td>\n",
       "      <td>LEXUS</td>\n",
       "      <td>2010</td>\n",
       "      <td>Jeep</td>\n",
       "      <td>Yes</td>\n",
       "      <td>Hybrid</td>\n",
       "      <td>3.5</td>\n",
       "      <td>186005.0</td>\n",
       "      <td>6.0</td>\n",
       "      <td>Automatic</td>\n",
       "      <td>4x4</td>\n",
       "      <td>04</td>\n",
       "      <td>Silver</td>\n",
       "      <td>12</td>\n",
       "      <td>9.497622</td>\n",
       "    </tr>\n",
       "    <tr>\n",
       "      <th>1</th>\n",
       "      <td>16621</td>\n",
       "      <td>1018.0</td>\n",
       "      <td>CHEVROLET</td>\n",
       "      <td>2011</td>\n",
       "      <td>Jeep</td>\n",
       "      <td>No</td>\n",
       "      <td>Petrol</td>\n",
       "      <td>3</td>\n",
       "      <td>192000.0</td>\n",
       "      <td>6.0</td>\n",
       "      <td>Tiptronic</td>\n",
       "      <td>4x4</td>\n",
       "      <td>04</td>\n",
       "      <td>Black</td>\n",
       "      <td>8</td>\n",
       "      <td>9.718422</td>\n",
       "    </tr>\n",
       "    <tr>\n",
       "      <th>2</th>\n",
       "      <td>8467</td>\n",
       "      <td>0.0</td>\n",
       "      <td>HONDA</td>\n",
       "      <td>2006</td>\n",
       "      <td>Hatchback</td>\n",
       "      <td>No</td>\n",
       "      <td>Petrol</td>\n",
       "      <td>1.3</td>\n",
       "      <td>200000.0</td>\n",
       "      <td>4.0</td>\n",
       "      <td>Variator</td>\n",
       "      <td>Front</td>\n",
       "      <td>04</td>\n",
       "      <td>Black</td>\n",
       "      <td>2</td>\n",
       "      <td>9.043932</td>\n",
       "    </tr>\n",
       "    <tr>\n",
       "      <th>3</th>\n",
       "      <td>3607</td>\n",
       "      <td>862.0</td>\n",
       "      <td>FORD</td>\n",
       "      <td>2011</td>\n",
       "      <td>Jeep</td>\n",
       "      <td>Yes</td>\n",
       "      <td>Hybrid</td>\n",
       "      <td>2.5</td>\n",
       "      <td>168966.0</td>\n",
       "      <td>4.0</td>\n",
       "      <td>Automatic</td>\n",
       "      <td>4x4</td>\n",
       "      <td>04</td>\n",
       "      <td>White</td>\n",
       "      <td>0</td>\n",
       "      <td>8.190632</td>\n",
       "    </tr>\n",
       "    <tr>\n",
       "      <th>4</th>\n",
       "      <td>11726</td>\n",
       "      <td>446.0</td>\n",
       "      <td>HONDA</td>\n",
       "      <td>2014</td>\n",
       "      <td>Hatchback</td>\n",
       "      <td>Yes</td>\n",
       "      <td>Petrol</td>\n",
       "      <td>1.3</td>\n",
       "      <td>91901.0</td>\n",
       "      <td>4.0</td>\n",
       "      <td>Automatic</td>\n",
       "      <td>Front</td>\n",
       "      <td>04</td>\n",
       "      <td>Silver</td>\n",
       "      <td>4</td>\n",
       "      <td>9.369564</td>\n",
       "    </tr>\n",
       "  </tbody>\n",
       "</table>\n",
       "</div>"
      ],
      "text/plain": [
       "   Price    Levy Manufacturer  Prod. year   Category Leather interior  \\\n",
       "0  13328  1399.0        LEXUS        2010       Jeep              Yes   \n",
       "1  16621  1018.0    CHEVROLET        2011       Jeep               No   \n",
       "2   8467     0.0        HONDA        2006  Hatchback               No   \n",
       "3   3607   862.0         FORD        2011       Jeep              Yes   \n",
       "4  11726   446.0        HONDA        2014  Hatchback              Yes   \n",
       "\n",
       "  Fuel type Engine volume   Mileage  Cylinders Gear box type Drive wheels  \\\n",
       "0    Hybrid           3.5  186005.0        6.0     Automatic          4x4   \n",
       "1    Petrol             3  192000.0        6.0     Tiptronic          4x4   \n",
       "2    Petrol           1.3  200000.0        4.0      Variator        Front   \n",
       "3    Hybrid           2.5  168966.0        4.0     Automatic          4x4   \n",
       "4    Petrol           1.3   91901.0        4.0     Automatic        Front   \n",
       "\n",
       "  Doors   Color  Airbags  Price_log  \n",
       "0    04  Silver       12   9.497622  \n",
       "1    04   Black        8   9.718422  \n",
       "2    04   Black        2   9.043932  \n",
       "3    04   White        0   8.190632  \n",
       "4    04  Silver        4   9.369564  "
      ]
     },
     "execution_count": 212,
     "metadata": {},
     "output_type": "execute_result"
    }
   ],
   "source": [
    "df.head()"
   ]
  },
  {
   "cell_type": "code",
   "execution_count": 213,
   "metadata": {},
   "outputs": [
    {
     "data": {
      "text/html": [
       "<div>\n",
       "<style scoped>\n",
       "    .dataframe tbody tr th:only-of-type {\n",
       "        vertical-align: middle;\n",
       "    }\n",
       "\n",
       "    .dataframe tbody tr th {\n",
       "        vertical-align: top;\n",
       "    }\n",
       "\n",
       "    .dataframe thead th {\n",
       "        text-align: right;\n",
       "    }\n",
       "</style>\n",
       "<table border=\"1\" class=\"dataframe\">\n",
       "  <thead>\n",
       "    <tr style=\"text-align: right;\">\n",
       "      <th></th>\n",
       "      <th>Price</th>\n",
       "      <th>Levy</th>\n",
       "      <th>Prod. year</th>\n",
       "      <th>Mileage</th>\n",
       "      <th>Cylinders</th>\n",
       "      <th>Airbags</th>\n",
       "      <th>Price_log</th>\n",
       "    </tr>\n",
       "  </thead>\n",
       "  <tbody>\n",
       "    <tr>\n",
       "      <th>count</th>\n",
       "      <td>13584.000000</td>\n",
       "      <td>13584.000000</td>\n",
       "      <td>13584.000000</td>\n",
       "      <td>1.358400e+04</td>\n",
       "      <td>13584.000000</td>\n",
       "      <td>13584.000000</td>\n",
       "      <td>13584.000000</td>\n",
       "    </tr>\n",
       "    <tr>\n",
       "      <th>mean</th>\n",
       "      <td>20756.667329</td>\n",
       "      <td>581.027664</td>\n",
       "      <td>2011.728578</td>\n",
       "      <td>1.468467e+05</td>\n",
       "      <td>4.460247</td>\n",
       "      <td>6.733657</td>\n",
       "      <td>9.567687</td>\n",
       "    </tr>\n",
       "    <tr>\n",
       "      <th>std</th>\n",
       "      <td>19024.644961</td>\n",
       "      <td>462.942608</td>\n",
       "      <td>4.203401</td>\n",
       "      <td>1.651380e+05</td>\n",
       "      <td>1.119606</td>\n",
       "      <td>3.961573</td>\n",
       "      <td>0.982023</td>\n",
       "    </tr>\n",
       "    <tr>\n",
       "      <th>min</th>\n",
       "      <td>500.000000</td>\n",
       "      <td>0.000000</td>\n",
       "      <td>2001.000000</td>\n",
       "      <td>0.000000e+00</td>\n",
       "      <td>1.000000</td>\n",
       "      <td>0.000000</td>\n",
       "      <td>6.214608</td>\n",
       "    </tr>\n",
       "    <tr>\n",
       "      <th>25%</th>\n",
       "      <td>9885.750000</td>\n",
       "      <td>0.000000</td>\n",
       "      <td>2010.000000</td>\n",
       "      <td>6.800000e+04</td>\n",
       "      <td>4.000000</td>\n",
       "      <td>4.000000</td>\n",
       "      <td>9.198850</td>\n",
       "    </tr>\n",
       "    <tr>\n",
       "      <th>50%</th>\n",
       "      <td>16308.000000</td>\n",
       "      <td>640.000000</td>\n",
       "      <td>2012.000000</td>\n",
       "      <td>1.193865e+05</td>\n",
       "      <td>4.000000</td>\n",
       "      <td>6.000000</td>\n",
       "      <td>9.699411</td>\n",
       "    </tr>\n",
       "    <tr>\n",
       "      <th>75%</th>\n",
       "      <td>25089.000000</td>\n",
       "      <td>880.000000</td>\n",
       "      <td>2015.000000</td>\n",
       "      <td>1.731012e+05</td>\n",
       "      <td>4.000000</td>\n",
       "      <td>12.000000</td>\n",
       "      <td>10.130185</td>\n",
       "    </tr>\n",
       "    <tr>\n",
       "      <th>max</th>\n",
       "      <td>308906.000000</td>\n",
       "      <td>2151.000000</td>\n",
       "      <td>2020.000000</td>\n",
       "      <td>1.019978e+06</td>\n",
       "      <td>16.000000</td>\n",
       "      <td>16.000000</td>\n",
       "      <td>12.640792</td>\n",
       "    </tr>\n",
       "  </tbody>\n",
       "</table>\n",
       "</div>"
      ],
      "text/plain": [
       "               Price          Levy    Prod. year       Mileage     Cylinders  \\\n",
       "count   13584.000000  13584.000000  13584.000000  1.358400e+04  13584.000000   \n",
       "mean    20756.667329    581.027664   2011.728578  1.468467e+05      4.460247   \n",
       "std     19024.644961    462.942608      4.203401  1.651380e+05      1.119606   \n",
       "min       500.000000      0.000000   2001.000000  0.000000e+00      1.000000   \n",
       "25%      9885.750000      0.000000   2010.000000  6.800000e+04      4.000000   \n",
       "50%     16308.000000    640.000000   2012.000000  1.193865e+05      4.000000   \n",
       "75%     25089.000000    880.000000   2015.000000  1.731012e+05      4.000000   \n",
       "max    308906.000000   2151.000000   2020.000000  1.019978e+06     16.000000   \n",
       "\n",
       "            Airbags     Price_log  \n",
       "count  13584.000000  13584.000000  \n",
       "mean       6.733657      9.567687  \n",
       "std        3.961573      0.982023  \n",
       "min        0.000000      6.214608  \n",
       "25%        4.000000      9.198850  \n",
       "50%        6.000000      9.699411  \n",
       "75%       12.000000     10.130185  \n",
       "max       16.000000     12.640792  "
      ]
     },
     "execution_count": 213,
     "metadata": {},
     "output_type": "execute_result"
    }
   ],
   "source": [
    "df.describe()"
   ]
  },
  {
   "cell_type": "markdown",
   "metadata": {},
   "source": [
    "##### <font color=green> Guardar en un csv el nuevo dataframe que habéis creado para seguir usándolo en los siguientes pair programmings"
   ]
  },
  {
   "cell_type": "code",
   "execution_count": 214,
   "metadata": {},
   "outputs": [],
   "source": [
    "df.to_pickle('datos/cars_price3.pkl')"
   ]
  },
  {
   "cell_type": "code",
   "execution_count": 215,
   "metadata": {},
   "outputs": [],
   "source": [
    "df.to_csv('datos/cars_price3.csv')"
   ]
  }
 ],
 "metadata": {
  "kernelspec": {
   "display_name": "Python 3.10.5 64-bit",
   "language": "python",
   "name": "python3"
  },
  "language_info": {
   "codemirror_mode": {
    "name": "ipython",
    "version": 3
   },
   "file_extension": ".py",
   "mimetype": "text/x-python",
   "name": "python",
   "nbconvert_exporter": "python",
   "pygments_lexer": "ipython3",
   "version": "3.10.5"
  },
  "orig_nbformat": 4,
  "vscode": {
   "interpreter": {
    "hash": "6c417e8ec6dca726918e9382ccd5f9a276f75c00fe45ac2c66804bdd5db60888"
   }
  }
 },
 "nbformat": 4,
 "nbformat_minor": 2
}
