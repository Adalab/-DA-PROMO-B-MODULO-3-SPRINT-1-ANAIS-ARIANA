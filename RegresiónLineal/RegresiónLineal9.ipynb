{
 "cells": [
  {
   "cell_type": "code",
   "execution_count": 34,
   "metadata": {},
   "outputs": [],
   "source": [
    "\n",
    "import numpy as np\n",
    "import pandas as pd\n",
    "\n",
    "import matplotlib.pyplot as plt\n",
    "import seaborn as sns\n",
    "\n",
    "\n",
    "from sklearn.model_selection import train_test_split\n",
    "from sklearn.linear_model import LinearRegression\n",
    "\n",
    "\n",
    "from sklearn.model_selection import cross_val_score\n",
    "from sklearn.model_selection import cross_validate\n",
    "from sklearn import metrics\n",
    "\n",
    "\n",
    "import warnings\n",
    "warnings.filterwarnings('ignore')\n",
    "\n",
    "plt.rcParams[\"figure.figsize\"] = (20,10) \n",
    "pd.options.display.max_columns = None"
   ]
  },
  {
   "cell_type": "code",
   "execution_count": 35,
   "metadata": {},
   "outputs": [
    {
     "data": {
      "text/html": [
       "<div>\n",
       "<style scoped>\n",
       "    .dataframe tbody tr th:only-of-type {\n",
       "        vertical-align: middle;\n",
       "    }\n",
       "\n",
       "    .dataframe tbody tr th {\n",
       "        vertical-align: top;\n",
       "    }\n",
       "\n",
       "    .dataframe thead th {\n",
       "        text-align: right;\n",
       "    }\n",
       "</style>\n",
       "<table border=\"1\" class=\"dataframe\">\n",
       "  <thead>\n",
       "    <tr style=\"text-align: right;\">\n",
       "      <th></th>\n",
       "      <th>Levy</th>\n",
       "      <th>Prod_year</th>\n",
       "      <th>Mileage</th>\n",
       "      <th>Cylinders</th>\n",
       "      <th>Airbags</th>\n",
       "      <th>Price_raiz</th>\n",
       "      <th>Leather_interior_le</th>\n",
       "      <th>Fuel_type_CNG</th>\n",
       "      <th>Fuel_type_Diesel</th>\n",
       "      <th>Fuel_type_Hybrid</th>\n",
       "      <th>Fuel_type_Hydrogen</th>\n",
       "      <th>Fuel_type_LPG</th>\n",
       "      <th>Fuel_type_Petrol</th>\n",
       "      <th>Fuel_type_Plug-in Hybrid</th>\n",
       "      <th>Gear_box_type_Automatic</th>\n",
       "      <th>Gear_box_type_Manual</th>\n",
       "      <th>Gear_box_type_Tiptronic</th>\n",
       "      <th>Gear_box_type_Variator</th>\n",
       "      <th>Drive_wheels_4x4</th>\n",
       "      <th>Drive_wheels_Front</th>\n",
       "      <th>Drive_wheels_Rear</th>\n",
       "    </tr>\n",
       "  </thead>\n",
       "  <tbody>\n",
       "    <tr>\n",
       "      <th>0</th>\n",
       "      <td>1.766963</td>\n",
       "      <td>-0.411248</td>\n",
       "      <td>0.237134</td>\n",
       "      <td>1.375313</td>\n",
       "      <td>1.329406</td>\n",
       "      <td>115.446958</td>\n",
       "      <td>1</td>\n",
       "      <td>0</td>\n",
       "      <td>0</td>\n",
       "      <td>1</td>\n",
       "      <td>0</td>\n",
       "      <td>0</td>\n",
       "      <td>0</td>\n",
       "      <td>0</td>\n",
       "      <td>1</td>\n",
       "      <td>0</td>\n",
       "      <td>0</td>\n",
       "      <td>0</td>\n",
       "      <td>1</td>\n",
       "      <td>0</td>\n",
       "      <td>0</td>\n",
       "    </tr>\n",
       "    <tr>\n",
       "      <th>1</th>\n",
       "      <td>0.943936</td>\n",
       "      <td>-0.173337</td>\n",
       "      <td>0.273438</td>\n",
       "      <td>1.375313</td>\n",
       "      <td>0.319668</td>\n",
       "      <td>128.922457</td>\n",
       "      <td>0</td>\n",
       "      <td>0</td>\n",
       "      <td>0</td>\n",
       "      <td>0</td>\n",
       "      <td>0</td>\n",
       "      <td>0</td>\n",
       "      <td>1</td>\n",
       "      <td>0</td>\n",
       "      <td>0</td>\n",
       "      <td>0</td>\n",
       "      <td>1</td>\n",
       "      <td>0</td>\n",
       "      <td>1</td>\n",
       "      <td>0</td>\n",
       "      <td>0</td>\n",
       "    </tr>\n",
       "  </tbody>\n",
       "</table>\n",
       "</div>"
      ],
      "text/plain": [
       "       Levy  Prod_year   Mileage  Cylinders   Airbags  Price_raiz  \\\n",
       "0  1.766963  -0.411248  0.237134   1.375313  1.329406  115.446958   \n",
       "1  0.943936  -0.173337  0.273438   1.375313  0.319668  128.922457   \n",
       "\n",
       "   Leather_interior_le  Fuel_type_CNG  Fuel_type_Diesel  Fuel_type_Hybrid  \\\n",
       "0                    1              0                 0                 1   \n",
       "1                    0              0                 0                 0   \n",
       "\n",
       "   Fuel_type_Hydrogen  Fuel_type_LPG  Fuel_type_Petrol  \\\n",
       "0                   0              0                 0   \n",
       "1                   0              0                 1   \n",
       "\n",
       "   Fuel_type_Plug-in Hybrid  Gear_box_type_Automatic  Gear_box_type_Manual  \\\n",
       "0                         0                        1                     0   \n",
       "1                         0                        0                     0   \n",
       "\n",
       "   Gear_box_type_Tiptronic  Gear_box_type_Variator  Drive_wheels_4x4  \\\n",
       "0                        0                       0                 1   \n",
       "1                        1                       0                 1   \n",
       "\n",
       "   Drive_wheels_Front  Drive_wheels_Rear  \n",
       "0                   0                  0  \n",
       "1                   0                  0  "
      ]
     },
     "execution_count": 35,
     "metadata": {},
     "output_type": "execute_result"
    }
   ],
   "source": [
    "df= pd.read_pickle('datos/cars_price_norm_est_cod.pkl')\n",
    "df.head(2)"
   ]
  },
  {
   "cell_type": "markdown",
   "metadata": {},
   "source": [
    "##### <font color=green>  El objetivo de este pairprogramming es que hagáis vuestro primer modelo de machine learning. Para eso recordad que:\n",
    "##### <font color=green> Deberéis separar la X y la y.\n",
    "##### <font color=green> Deberéis crear el train y el test.\n",
    "##### <font color=green> Ajustar vuestro modelo."
   ]
  },
  {
   "cell_type": "code",
   "execution_count": 36,
   "metadata": {},
   "outputs": [
    {
     "data": {
      "text/plain": [
       "Levy                        float64\n",
       "Prod_year                   float64\n",
       "Mileage                     float64\n",
       "Cylinders                   float64\n",
       "Airbags                     float64\n",
       "Price_raiz                  float64\n",
       "Leather_interior_le           int32\n",
       "Fuel_type_CNG                 int32\n",
       "Fuel_type_Diesel              int32\n",
       "Fuel_type_Hybrid              int32\n",
       "Fuel_type_Hydrogen            int32\n",
       "Fuel_type_LPG                 int32\n",
       "Fuel_type_Petrol              int32\n",
       "Fuel_type_Plug-in Hybrid      int32\n",
       "Gear_box_type_Automatic       int32\n",
       "Gear_box_type_Manual          int32\n",
       "Gear_box_type_Tiptronic       int32\n",
       "Gear_box_type_Variator        int32\n",
       "Drive_wheels_4x4              int32\n",
       "Drive_wheels_Front            int32\n",
       "Drive_wheels_Rear             int32\n",
       "dtype: object"
      ]
     },
     "execution_count": 36,
     "metadata": {},
     "output_type": "execute_result"
    }
   ],
   "source": [
    "df.dtypes"
   ]
  },
  {
   "cell_type": "markdown",
   "metadata": {},
   "source": [
    "Chequeamos nuevamente que no haya ningún valor nulo."
   ]
  },
  {
   "cell_type": "code",
   "execution_count": 37,
   "metadata": {},
   "outputs": [
    {
     "data": {
      "text/plain": [
       "Levy                        0\n",
       "Prod_year                   0\n",
       "Mileage                     0\n",
       "Cylinders                   0\n",
       "Airbags                     0\n",
       "Price_raiz                  0\n",
       "Leather_interior_le         0\n",
       "Fuel_type_CNG               0\n",
       "Fuel_type_Diesel            0\n",
       "Fuel_type_Hybrid            0\n",
       "Fuel_type_Hydrogen          0\n",
       "Fuel_type_LPG               0\n",
       "Fuel_type_Petrol            0\n",
       "Fuel_type_Plug-in Hybrid    0\n",
       "Gear_box_type_Automatic     0\n",
       "Gear_box_type_Manual        0\n",
       "Gear_box_type_Tiptronic     0\n",
       "Gear_box_type_Variator      0\n",
       "Drive_wheels_4x4            0\n",
       "Drive_wheels_Front          0\n",
       "Drive_wheels_Rear           0\n",
       "dtype: int64"
      ]
     },
     "execution_count": 37,
     "metadata": {},
     "output_type": "execute_result"
    }
   ],
   "source": [
    "df.isnull().sum()"
   ]
  },
  {
   "cell_type": "markdown",
   "metadata": {},
   "source": [
    "Dentro de los datos de test eliminaremos la columna price_box que es nuestra columna respuesta."
   ]
  },
  {
   "cell_type": "markdown",
   "metadata": {},
   "source": [
    "Lo primero que haremos será separar los datos en X e y. Dentro de los datos de test eliminaremos la columna price_log que es nuestra columna respuesta."
   ]
  },
  {
   "cell_type": "code",
   "execution_count": 38,
   "metadata": {},
   "outputs": [],
   "source": [
    "X = df.drop([\"Price_raiz\"],  axis = 1)\n",
    "y = df[\"Price_raiz\"] "
   ]
  },
  {
   "cell_type": "markdown",
   "metadata": {},
   "source": [
    "X serán nuestras variables predictoras."
   ]
  },
  {
   "cell_type": "code",
   "execution_count": 39,
   "metadata": {},
   "outputs": [
    {
     "data": {
      "text/html": [
       "<div>\n",
       "<style scoped>\n",
       "    .dataframe tbody tr th:only-of-type {\n",
       "        vertical-align: middle;\n",
       "    }\n",
       "\n",
       "    .dataframe tbody tr th {\n",
       "        vertical-align: top;\n",
       "    }\n",
       "\n",
       "    .dataframe thead th {\n",
       "        text-align: right;\n",
       "    }\n",
       "</style>\n",
       "<table border=\"1\" class=\"dataframe\">\n",
       "  <thead>\n",
       "    <tr style=\"text-align: right;\">\n",
       "      <th></th>\n",
       "      <th>Levy</th>\n",
       "      <th>Prod_year</th>\n",
       "      <th>Mileage</th>\n",
       "      <th>Cylinders</th>\n",
       "      <th>Airbags</th>\n",
       "      <th>Leather_interior_le</th>\n",
       "      <th>Fuel_type_CNG</th>\n",
       "      <th>Fuel_type_Diesel</th>\n",
       "      <th>Fuel_type_Hybrid</th>\n",
       "      <th>Fuel_type_Hydrogen</th>\n",
       "      <th>Fuel_type_LPG</th>\n",
       "      <th>Fuel_type_Petrol</th>\n",
       "      <th>Fuel_type_Plug-in Hybrid</th>\n",
       "      <th>Gear_box_type_Automatic</th>\n",
       "      <th>Gear_box_type_Manual</th>\n",
       "      <th>Gear_box_type_Tiptronic</th>\n",
       "      <th>Gear_box_type_Variator</th>\n",
       "      <th>Drive_wheels_4x4</th>\n",
       "      <th>Drive_wheels_Front</th>\n",
       "      <th>Drive_wheels_Rear</th>\n",
       "    </tr>\n",
       "  </thead>\n",
       "  <tbody>\n",
       "    <tr>\n",
       "      <th>0</th>\n",
       "      <td>1.766963</td>\n",
       "      <td>-0.411248</td>\n",
       "      <td>0.237134</td>\n",
       "      <td>1.375313</td>\n",
       "      <td>1.329406</td>\n",
       "      <td>1</td>\n",
       "      <td>0</td>\n",
       "      <td>0</td>\n",
       "      <td>1</td>\n",
       "      <td>0</td>\n",
       "      <td>0</td>\n",
       "      <td>0</td>\n",
       "      <td>0</td>\n",
       "      <td>1</td>\n",
       "      <td>0</td>\n",
       "      <td>0</td>\n",
       "      <td>0</td>\n",
       "      <td>1</td>\n",
       "      <td>0</td>\n",
       "      <td>0</td>\n",
       "    </tr>\n",
       "    <tr>\n",
       "      <th>1</th>\n",
       "      <td>0.943936</td>\n",
       "      <td>-0.173337</td>\n",
       "      <td>0.273438</td>\n",
       "      <td>1.375313</td>\n",
       "      <td>0.319668</td>\n",
       "      <td>0</td>\n",
       "      <td>0</td>\n",
       "      <td>0</td>\n",
       "      <td>0</td>\n",
       "      <td>0</td>\n",
       "      <td>0</td>\n",
       "      <td>1</td>\n",
       "      <td>0</td>\n",
       "      <td>0</td>\n",
       "      <td>0</td>\n",
       "      <td>1</td>\n",
       "      <td>0</td>\n",
       "      <td>1</td>\n",
       "      <td>0</td>\n",
       "      <td>0</td>\n",
       "    </tr>\n",
       "  </tbody>\n",
       "</table>\n",
       "</div>"
      ],
      "text/plain": [
       "       Levy  Prod_year   Mileage  Cylinders   Airbags  Leather_interior_le  \\\n",
       "0  1.766963  -0.411248  0.237134   1.375313  1.329406                    1   \n",
       "1  0.943936  -0.173337  0.273438   1.375313  0.319668                    0   \n",
       "\n",
       "   Fuel_type_CNG  Fuel_type_Diesel  Fuel_type_Hybrid  Fuel_type_Hydrogen  \\\n",
       "0              0                 0                 1                   0   \n",
       "1              0                 0                 0                   0   \n",
       "\n",
       "   Fuel_type_LPG  Fuel_type_Petrol  Fuel_type_Plug-in Hybrid  \\\n",
       "0              0                 0                         0   \n",
       "1              0                 1                         0   \n",
       "\n",
       "   Gear_box_type_Automatic  Gear_box_type_Manual  Gear_box_type_Tiptronic  \\\n",
       "0                        1                     0                        0   \n",
       "1                        0                     0                        1   \n",
       "\n",
       "   Gear_box_type_Variator  Drive_wheels_4x4  Drive_wheels_Front  \\\n",
       "0                       0                 1                   0   \n",
       "1                       0                 1                   0   \n",
       "\n",
       "   Drive_wheels_Rear  \n",
       "0                  0  \n",
       "1                  0  "
      ]
     },
     "execution_count": 39,
     "metadata": {},
     "output_type": "execute_result"
    }
   ],
   "source": [
    "X.head(2)"
   ]
  },
  {
   "cell_type": "markdown",
   "metadata": {},
   "source": [
    "y será nuestra variable respuesta, es decir, el precio de los coches."
   ]
  },
  {
   "cell_type": "code",
   "execution_count": 40,
   "metadata": {},
   "outputs": [
    {
     "data": {
      "text/plain": [
       "0    115.446958\n",
       "1    128.922457\n",
       "Name: Price_raiz, dtype: float64"
      ]
     },
     "execution_count": 40,
     "metadata": {},
     "output_type": "execute_result"
    }
   ],
   "source": [
    "y.head(2)"
   ]
  },
  {
   "cell_type": "markdown",
   "metadata": {},
   "source": [
    "Vamos a dividir nuestros datos en conjunto de entrenamiento y test."
   ]
  },
  {
   "cell_type": "code",
   "execution_count": 41,
   "metadata": {},
   "outputs": [],
   "source": [
    "x_train, x_test, y_train, y_test = train_test_split(X, y, test_size = 0.2, random_state = 42)"
   ]
  },
  {
   "cell_type": "code",
   "execution_count": 42,
   "metadata": {},
   "outputs": [],
   "source": [
    "# iniciamos la regresión lineal. n_jobs hace referencia al número de nucleos que usaremos de nuestro ordenador. Al indicar -1 significa que los usaremos todos. \n",
    "\n",
    "lr = LinearRegression(n_jobs=-1)"
   ]
  },
  {
   "cell_type": "code",
   "execution_count": 43,
   "metadata": {},
   "outputs": [
    {
     "data": {
      "text/html": [
       "<style>#sk-container-id-2 {color: black;background-color: white;}#sk-container-id-2 pre{padding: 0;}#sk-container-id-2 div.sk-toggleable {background-color: white;}#sk-container-id-2 label.sk-toggleable__label {cursor: pointer;display: block;width: 100%;margin-bottom: 0;padding: 0.3em;box-sizing: border-box;text-align: center;}#sk-container-id-2 label.sk-toggleable__label-arrow:before {content: \"▸\";float: left;margin-right: 0.25em;color: #696969;}#sk-container-id-2 label.sk-toggleable__label-arrow:hover:before {color: black;}#sk-container-id-2 div.sk-estimator:hover label.sk-toggleable__label-arrow:before {color: black;}#sk-container-id-2 div.sk-toggleable__content {max-height: 0;max-width: 0;overflow: hidden;text-align: left;background-color: #f0f8ff;}#sk-container-id-2 div.sk-toggleable__content pre {margin: 0.2em;color: black;border-radius: 0.25em;background-color: #f0f8ff;}#sk-container-id-2 input.sk-toggleable__control:checked~div.sk-toggleable__content {max-height: 200px;max-width: 100%;overflow: auto;}#sk-container-id-2 input.sk-toggleable__control:checked~label.sk-toggleable__label-arrow:before {content: \"▾\";}#sk-container-id-2 div.sk-estimator input.sk-toggleable__control:checked~label.sk-toggleable__label {background-color: #d4ebff;}#sk-container-id-2 div.sk-label input.sk-toggleable__control:checked~label.sk-toggleable__label {background-color: #d4ebff;}#sk-container-id-2 input.sk-hidden--visually {border: 0;clip: rect(1px 1px 1px 1px);clip: rect(1px, 1px, 1px, 1px);height: 1px;margin: -1px;overflow: hidden;padding: 0;position: absolute;width: 1px;}#sk-container-id-2 div.sk-estimator {font-family: monospace;background-color: #f0f8ff;border: 1px dotted black;border-radius: 0.25em;box-sizing: border-box;margin-bottom: 0.5em;}#sk-container-id-2 div.sk-estimator:hover {background-color: #d4ebff;}#sk-container-id-2 div.sk-parallel-item::after {content: \"\";width: 100%;border-bottom: 1px solid gray;flex-grow: 1;}#sk-container-id-2 div.sk-label:hover label.sk-toggleable__label {background-color: #d4ebff;}#sk-container-id-2 div.sk-serial::before {content: \"\";position: absolute;border-left: 1px solid gray;box-sizing: border-box;top: 0;bottom: 0;left: 50%;z-index: 0;}#sk-container-id-2 div.sk-serial {display: flex;flex-direction: column;align-items: center;background-color: white;padding-right: 0.2em;padding-left: 0.2em;position: relative;}#sk-container-id-2 div.sk-item {position: relative;z-index: 1;}#sk-container-id-2 div.sk-parallel {display: flex;align-items: stretch;justify-content: center;background-color: white;position: relative;}#sk-container-id-2 div.sk-item::before, #sk-container-id-2 div.sk-parallel-item::before {content: \"\";position: absolute;border-left: 1px solid gray;box-sizing: border-box;top: 0;bottom: 0;left: 50%;z-index: -1;}#sk-container-id-2 div.sk-parallel-item {display: flex;flex-direction: column;z-index: 1;position: relative;background-color: white;}#sk-container-id-2 div.sk-parallel-item:first-child::after {align-self: flex-end;width: 50%;}#sk-container-id-2 div.sk-parallel-item:last-child::after {align-self: flex-start;width: 50%;}#sk-container-id-2 div.sk-parallel-item:only-child::after {width: 0;}#sk-container-id-2 div.sk-dashed-wrapped {border: 1px dashed gray;margin: 0 0.4em 0.5em 0.4em;box-sizing: border-box;padding-bottom: 0.4em;background-color: white;}#sk-container-id-2 div.sk-label label {font-family: monospace;font-weight: bold;display: inline-block;line-height: 1.2em;}#sk-container-id-2 div.sk-label-container {text-align: center;}#sk-container-id-2 div.sk-container {/* jupyter's `normalize.less` sets `[hidden] { display: none; }` but bootstrap.min.css set `[hidden] { display: none !important; }` so we also need the `!important` here to be able to override the default hidden behavior on the sphinx rendered scikit-learn.org. See: https://github.com/scikit-learn/scikit-learn/issues/21755 */display: inline-block !important;position: relative;}#sk-container-id-2 div.sk-text-repr-fallback {display: none;}</style><div id=\"sk-container-id-2\" class=\"sk-top-container\"><div class=\"sk-text-repr-fallback\"><pre>LinearRegression(n_jobs=-1)</pre><b>In a Jupyter environment, please rerun this cell to show the HTML representation or trust the notebook. <br />On GitHub, the HTML representation is unable to render, please try loading this page with nbviewer.org.</b></div><div class=\"sk-container\" hidden><div class=\"sk-item\"><div class=\"sk-estimator sk-toggleable\"><input class=\"sk-toggleable__control sk-hidden--visually\" id=\"sk-estimator-id-2\" type=\"checkbox\" checked><label for=\"sk-estimator-id-2\" class=\"sk-toggleable__label sk-toggleable__label-arrow\">LinearRegression</label><div class=\"sk-toggleable__content\"><pre>LinearRegression(n_jobs=-1)</pre></div></div></div></div></div>"
      ],
      "text/plain": [
       "LinearRegression(n_jobs=-1)"
      ]
     },
     "execution_count": 43,
     "metadata": {},
     "output_type": "execute_result"
    }
   ],
   "source": [
    "# fiteamos el modelo, lo que significa que le pasamos los datos de entrenamiento para que aprenda el algoritmo. Fijaros que para que aprenda, les paso solo los datos de entrenamiento\n",
    "\n",
    "lr.fit(x_train, y_train)"
   ]
  },
  {
   "cell_type": "code",
   "execution_count": 44,
   "metadata": {},
   "outputs": [
    {
     "data": {
      "text/plain": [
       "(7901, 20)"
      ]
     },
     "execution_count": 44,
     "metadata": {},
     "output_type": "execute_result"
    }
   ],
   "source": [
    "x_train.shape"
   ]
  },
  {
   "cell_type": "code",
   "execution_count": 45,
   "metadata": {},
   "outputs": [
    {
     "data": {
      "text/plain": [
       "(1976, 20)"
      ]
     },
     "execution_count": 45,
     "metadata": {},
     "output_type": "execute_result"
    }
   ],
   "source": [
    "x_test.shape"
   ]
  },
  {
   "cell_type": "code",
   "execution_count": 46,
   "metadata": {},
   "outputs": [
    {
     "data": {
      "text/plain": [
       "(7901,)"
      ]
     },
     "execution_count": 46,
     "metadata": {},
     "output_type": "execute_result"
    }
   ],
   "source": [
    "y_train.shape"
   ]
  },
  {
   "cell_type": "code",
   "execution_count": 47,
   "metadata": {},
   "outputs": [
    {
     "data": {
      "text/plain": [
       "(1976,)"
      ]
     },
     "execution_count": 47,
     "metadata": {},
     "output_type": "execute_result"
    }
   ],
   "source": [
    "y_test.shape"
   ]
  },
  {
   "cell_type": "code",
   "execution_count": 48,
   "metadata": {},
   "outputs": [],
   "source": [
    "# es el momento de hacer las predicciones, para eso usaremos el método predict() de sklearn \n",
    "\n",
    "y_predict_train = lr.predict(x_train) # hacemos las predicciones para los coches que tenemos en los datos de entrenamiento\n",
    "y_predict_test = lr.predict(x_test) # hacemos las predicciones para los coches que tenemos en los datos de test"
   ]
  },
  {
   "cell_type": "code",
   "execution_count": 49,
   "metadata": {},
   "outputs": [
    {
     "data": {
      "text/plain": [
       "(7901,)"
      ]
     },
     "execution_count": 49,
     "metadata": {},
     "output_type": "execute_result"
    }
   ],
   "source": [
    "y_predict_train.shape"
   ]
  },
  {
   "cell_type": "code",
   "execution_count": 50,
   "metadata": {},
   "outputs": [
    {
     "data": {
      "text/plain": [
       "(1976,)"
      ]
     },
     "execution_count": 50,
     "metadata": {},
     "output_type": "execute_result"
    }
   ],
   "source": [
    "y_predict_test.shape"
   ]
  },
  {
   "cell_type": "code",
   "execution_count": 51,
   "metadata": {},
   "outputs": [
    {
     "data": {
      "text/html": [
       "<div>\n",
       "<style scoped>\n",
       "    .dataframe tbody tr th:only-of-type {\n",
       "        vertical-align: middle;\n",
       "    }\n",
       "\n",
       "    .dataframe tbody tr th {\n",
       "        vertical-align: top;\n",
       "    }\n",
       "\n",
       "    .dataframe thead th {\n",
       "        text-align: right;\n",
       "    }\n",
       "</style>\n",
       "<table border=\"1\" class=\"dataframe\">\n",
       "  <thead>\n",
       "    <tr style=\"text-align: right;\">\n",
       "      <th></th>\n",
       "      <th>Real</th>\n",
       "      <th>Predicted</th>\n",
       "      <th>Set</th>\n",
       "    </tr>\n",
       "  </thead>\n",
       "  <tbody>\n",
       "    <tr>\n",
       "      <th>13506</th>\n",
       "      <td>45.144213</td>\n",
       "      <td>113.671875</td>\n",
       "      <td>Train</td>\n",
       "    </tr>\n",
       "    <tr>\n",
       "      <th>1284</th>\n",
       "      <td>110.195281</td>\n",
       "      <td>111.406250</td>\n",
       "      <td>Train</td>\n",
       "    </tr>\n",
       "    <tr>\n",
       "      <th>278</th>\n",
       "      <td>139.565355</td>\n",
       "      <td>146.500000</td>\n",
       "      <td>Train</td>\n",
       "    </tr>\n",
       "    <tr>\n",
       "      <th>12539</th>\n",
       "      <td>104.766407</td>\n",
       "      <td>113.476562</td>\n",
       "      <td>Train</td>\n",
       "    </tr>\n",
       "    <tr>\n",
       "      <th>7494</th>\n",
       "      <td>139.565355</td>\n",
       "      <td>139.664062</td>\n",
       "      <td>Train</td>\n",
       "    </tr>\n",
       "  </tbody>\n",
       "</table>\n",
       "</div>"
      ],
      "text/plain": [
       "             Real   Predicted    Set\n",
       "13506   45.144213  113.671875  Train\n",
       "1284   110.195281  111.406250  Train\n",
       "278    139.565355  146.500000  Train\n",
       "12539  104.766407  113.476562  Train\n",
       "7494   139.565355  139.664062  Train"
      ]
     },
     "execution_count": 51,
     "metadata": {},
     "output_type": "execute_result"
    }
   ],
   "source": [
    "train_df = pd.DataFrame({'Real': y_train, 'Predicted': y_predict_train, 'Set': ['Train']*len(y_train)})\n",
    "test_df  = pd.DataFrame({'Real': y_test,  'Predicted': y_predict_test,  'Set': ['Test']*len(y_test)})\n",
    "resultados = pd.concat([train_df,test_df], axis = 0)\n",
    "resultados.head()"
   ]
  },
  {
   "cell_type": "code",
   "execution_count": 52,
   "metadata": {},
   "outputs": [
    {
     "data": {
      "text/html": [
       "<div>\n",
       "<style scoped>\n",
       "    .dataframe tbody tr th:only-of-type {\n",
       "        vertical-align: middle;\n",
       "    }\n",
       "\n",
       "    .dataframe tbody tr th {\n",
       "        vertical-align: top;\n",
       "    }\n",
       "\n",
       "    .dataframe thead th {\n",
       "        text-align: right;\n",
       "    }\n",
       "</style>\n",
       "<table border=\"1\" class=\"dataframe\">\n",
       "  <thead>\n",
       "    <tr style=\"text-align: right;\">\n",
       "      <th></th>\n",
       "      <th>Real</th>\n",
       "      <th>Predicted</th>\n",
       "      <th>Set</th>\n",
       "      <th>residuos</th>\n",
       "    </tr>\n",
       "  </thead>\n",
       "  <tbody>\n",
       "    <tr>\n",
       "      <th>13506</th>\n",
       "      <td>45.144213</td>\n",
       "      <td>113.671875</td>\n",
       "      <td>Train</td>\n",
       "      <td>-68.527662</td>\n",
       "    </tr>\n",
       "    <tr>\n",
       "      <th>1284</th>\n",
       "      <td>110.195281</td>\n",
       "      <td>111.406250</td>\n",
       "      <td>Train</td>\n",
       "      <td>-1.210969</td>\n",
       "    </tr>\n",
       "    <tr>\n",
       "      <th>278</th>\n",
       "      <td>139.565355</td>\n",
       "      <td>146.500000</td>\n",
       "      <td>Train</td>\n",
       "      <td>-6.934645</td>\n",
       "    </tr>\n",
       "    <tr>\n",
       "      <th>12539</th>\n",
       "      <td>104.766407</td>\n",
       "      <td>113.476562</td>\n",
       "      <td>Train</td>\n",
       "      <td>-8.710156</td>\n",
       "    </tr>\n",
       "    <tr>\n",
       "      <th>7494</th>\n",
       "      <td>139.565355</td>\n",
       "      <td>139.664062</td>\n",
       "      <td>Train</td>\n",
       "      <td>-0.098707</td>\n",
       "    </tr>\n",
       "  </tbody>\n",
       "</table>\n",
       "</div>"
      ],
      "text/plain": [
       "             Real   Predicted    Set   residuos\n",
       "13506   45.144213  113.671875  Train -68.527662\n",
       "1284   110.195281  111.406250  Train  -1.210969\n",
       "278    139.565355  146.500000  Train  -6.934645\n",
       "12539  104.766407  113.476562  Train  -8.710156\n",
       "7494   139.565355  139.664062  Train  -0.098707"
      ]
     },
     "execution_count": 52,
     "metadata": {},
     "output_type": "execute_result"
    }
   ],
   "source": [
    "resultados['residuos'] = resultados['Real'] - resultados['Predicted']\n",
    "resultados.head()"
   ]
  },
  {
   "cell_type": "code",
   "execution_count": 54,
   "metadata": {},
   "outputs": [
    {
     "data": {
      "text/plain": [
       "(9877, 4)"
      ]
     },
     "execution_count": 54,
     "metadata": {},
     "output_type": "execute_result"
    }
   ],
   "source": [
    "resultados.shape"
   ]
  },
  {
   "cell_type": "code",
   "execution_count": 55,
   "metadata": {},
   "outputs": [
    {
     "data": {
      "text/plain": [
       "array(['Train', 'Test'], dtype=object)"
      ]
     },
     "execution_count": 55,
     "metadata": {},
     "output_type": "execute_result"
    }
   ],
   "source": [
    "resultados.Set.unique()"
   ]
  },
  {
   "cell_type": "code",
   "execution_count": 56,
   "metadata": {},
   "outputs": [
    {
     "data": {
      "text/html": [
       "<div>\n",
       "<style scoped>\n",
       "    .dataframe tbody tr th:only-of-type {\n",
       "        vertical-align: middle;\n",
       "    }\n",
       "\n",
       "    .dataframe tbody tr th {\n",
       "        vertical-align: top;\n",
       "    }\n",
       "\n",
       "    .dataframe thead th {\n",
       "        text-align: right;\n",
       "    }\n",
       "</style>\n",
       "<table border=\"1\" class=\"dataframe\">\n",
       "  <thead>\n",
       "    <tr style=\"text-align: right;\">\n",
       "      <th></th>\n",
       "      <th>count</th>\n",
       "      <th>mean</th>\n",
       "      <th>std</th>\n",
       "      <th>min</th>\n",
       "      <th>25%</th>\n",
       "      <th>50%</th>\n",
       "      <th>75%</th>\n",
       "      <th>max</th>\n",
       "    </tr>\n",
       "  </thead>\n",
       "  <tbody>\n",
       "    <tr>\n",
       "      <th>Real</th>\n",
       "      <td>9877.0</td>\n",
       "      <td>1.238427e+02</td>\n",
       "      <td>4.285159e+01</td>\n",
       "      <td>2.343075e+01</td>\n",
       "      <td>98.600203</td>\n",
       "      <td>127.702780</td>\n",
       "      <td>148.165448</td>\n",
       "      <td>2.170415e+02</td>\n",
       "    </tr>\n",
       "    <tr>\n",
       "      <th>Predicted</th>\n",
       "      <td>9877.0</td>\n",
       "      <td>4.367330e+07</td>\n",
       "      <td>4.340376e+09</td>\n",
       "      <td>8.050781e+01</td>\n",
       "      <td>112.195312</td>\n",
       "      <td>114.687500</td>\n",
       "      <td>138.257812</td>\n",
       "      <td>4.313600e+11</td>\n",
       "    </tr>\n",
       "    <tr>\n",
       "      <th>residuos</th>\n",
       "      <td>9877.0</td>\n",
       "      <td>-4.367318e+07</td>\n",
       "      <td>4.340376e+09</td>\n",
       "      <td>-4.313600e+11</td>\n",
       "      <td>-23.260913</td>\n",
       "      <td>1.323168</td>\n",
       "      <td>25.162806</td>\n",
       "      <td>1.173839e+02</td>\n",
       "    </tr>\n",
       "  </tbody>\n",
       "</table>\n",
       "</div>"
      ],
      "text/plain": [
       "            count          mean           std           min         25%  \\\n",
       "Real       9877.0  1.238427e+02  4.285159e+01  2.343075e+01   98.600203   \n",
       "Predicted  9877.0  4.367330e+07  4.340376e+09  8.050781e+01  112.195312   \n",
       "residuos   9877.0 -4.367318e+07  4.340376e+09 -4.313600e+11  -23.260913   \n",
       "\n",
       "                  50%         75%           max  \n",
       "Real       127.702780  148.165448  2.170415e+02  \n",
       "Predicted  114.687500  138.257812  4.313600e+11  \n",
       "residuos     1.323168   25.162806  1.173839e+02  "
      ]
     },
     "execution_count": 56,
     "metadata": {},
     "output_type": "execute_result"
    }
   ],
   "source": [
    "resultados.describe().T"
   ]
  },
  {
   "cell_type": "code",
   "execution_count": 57,
   "metadata": {},
   "outputs": [
    {
     "data": {
      "text/html": [
       "<div>\n",
       "<style scoped>\n",
       "    .dataframe tbody tr th:only-of-type {\n",
       "        vertical-align: middle;\n",
       "    }\n",
       "\n",
       "    .dataframe tbody tr th {\n",
       "        vertical-align: top;\n",
       "    }\n",
       "\n",
       "    .dataframe thead th {\n",
       "        text-align: right;\n",
       "    }\n",
       "</style>\n",
       "<table border=\"1\" class=\"dataframe\">\n",
       "  <thead>\n",
       "    <tr style=\"text-align: right;\">\n",
       "      <th></th>\n",
       "      <th>Real</th>\n",
       "      <th>Predicted</th>\n",
       "      <th>Set</th>\n",
       "      <th>residuos</th>\n",
       "    </tr>\n",
       "  </thead>\n",
       "  <tbody>\n",
       "    <tr>\n",
       "      <th>13506</th>\n",
       "      <td>45.144213</td>\n",
       "      <td>113.671875</td>\n",
       "      <td>Train</td>\n",
       "      <td>-68.527662</td>\n",
       "    </tr>\n",
       "    <tr>\n",
       "      <th>1284</th>\n",
       "      <td>110.195281</td>\n",
       "      <td>111.406250</td>\n",
       "      <td>Train</td>\n",
       "      <td>-1.210969</td>\n",
       "    </tr>\n",
       "    <tr>\n",
       "      <th>278</th>\n",
       "      <td>139.565355</td>\n",
       "      <td>146.500000</td>\n",
       "      <td>Train</td>\n",
       "      <td>-6.934645</td>\n",
       "    </tr>\n",
       "    <tr>\n",
       "      <th>12539</th>\n",
       "      <td>104.766407</td>\n",
       "      <td>113.476562</td>\n",
       "      <td>Train</td>\n",
       "      <td>-8.710156</td>\n",
       "    </tr>\n",
       "    <tr>\n",
       "      <th>7494</th>\n",
       "      <td>139.565355</td>\n",
       "      <td>139.664062</td>\n",
       "      <td>Train</td>\n",
       "      <td>-0.098707</td>\n",
       "    </tr>\n",
       "    <tr>\n",
       "      <th>...</th>\n",
       "      <td>...</td>\n",
       "      <td>...</td>\n",
       "      <td>...</td>\n",
       "      <td>...</td>\n",
       "    </tr>\n",
       "    <tr>\n",
       "      <th>12837</th>\n",
       "      <td>189.081993</td>\n",
       "      <td>136.601562</td>\n",
       "      <td>Test</td>\n",
       "      <td>52.480430</td>\n",
       "    </tr>\n",
       "    <tr>\n",
       "      <th>6717</th>\n",
       "      <td>76.700717</td>\n",
       "      <td>113.828125</td>\n",
       "      <td>Test</td>\n",
       "      <td>-37.127408</td>\n",
       "    </tr>\n",
       "    <tr>\n",
       "      <th>8534</th>\n",
       "      <td>112.000000</td>\n",
       "      <td>110.929688</td>\n",
       "      <td>Test</td>\n",
       "      <td>1.070312</td>\n",
       "    </tr>\n",
       "    <tr>\n",
       "      <th>11366</th>\n",
       "      <td>168.914179</td>\n",
       "      <td>145.781250</td>\n",
       "      <td>Test</td>\n",
       "      <td>23.132929</td>\n",
       "    </tr>\n",
       "    <tr>\n",
       "      <th>7630</th>\n",
       "      <td>120.224789</td>\n",
       "      <td>114.765625</td>\n",
       "      <td>Test</td>\n",
       "      <td>5.459164</td>\n",
       "    </tr>\n",
       "  </tbody>\n",
       "</table>\n",
       "<p>9877 rows × 4 columns</p>\n",
       "</div>"
      ],
      "text/plain": [
       "             Real   Predicted    Set   residuos\n",
       "13506   45.144213  113.671875  Train -68.527662\n",
       "1284   110.195281  111.406250  Train  -1.210969\n",
       "278    139.565355  146.500000  Train  -6.934645\n",
       "12539  104.766407  113.476562  Train  -8.710156\n",
       "7494   139.565355  139.664062  Train  -0.098707\n",
       "...           ...         ...    ...        ...\n",
       "12837  189.081993  136.601562   Test  52.480430\n",
       "6717    76.700717  113.828125   Test -37.127408\n",
       "8534   112.000000  110.929688   Test   1.070312\n",
       "11366  168.914179  145.781250   Test  23.132929\n",
       "7630   120.224789  114.765625   Test   5.459164\n",
       "\n",
       "[9877 rows x 4 columns]"
      ]
     },
     "execution_count": 57,
     "metadata": {},
     "output_type": "execute_result"
    }
   ],
   "source": [
    "resultados"
   ]
  },
  {
   "cell_type": "markdown",
   "metadata": {},
   "source": [
    "Hemos detectado tarde que tenemos un valor muy alto y por eso vamos a hacer un filtrado para qyue descarte ese valor."
   ]
  },
  {
   "cell_type": "code",
   "execution_count": null,
   "metadata": {},
   "outputs": [],
   "source": [
    "resultados['Predicted'].max()"
   ]
  },
  {
   "cell_type": "code",
   "execution_count": 60,
   "metadata": {},
   "outputs": [],
   "source": [
    "resultados2 = resultados[resultados['Predicted'] < resultados['Predicted'].max()]"
   ]
  },
  {
   "cell_type": "code",
   "execution_count": 65,
   "metadata": {},
   "outputs": [
    {
     "data": {
      "text/html": [
       "<div>\n",
       "<style scoped>\n",
       "    .dataframe tbody tr th:only-of-type {\n",
       "        vertical-align: middle;\n",
       "    }\n",
       "\n",
       "    .dataframe tbody tr th {\n",
       "        vertical-align: top;\n",
       "    }\n",
       "\n",
       "    .dataframe thead th {\n",
       "        text-align: right;\n",
       "    }\n",
       "</style>\n",
       "<table border=\"1\" class=\"dataframe\">\n",
       "  <thead>\n",
       "    <tr style=\"text-align: right;\">\n",
       "      <th></th>\n",
       "      <th>Real</th>\n",
       "      <th>Predicted</th>\n",
       "      <th>Set</th>\n",
       "      <th>residuos</th>\n",
       "    </tr>\n",
       "  </thead>\n",
       "  <tbody>\n",
       "    <tr>\n",
       "      <th>13506</th>\n",
       "      <td>45.144213</td>\n",
       "      <td>113.671875</td>\n",
       "      <td>Train</td>\n",
       "      <td>-68.527662</td>\n",
       "    </tr>\n",
       "    <tr>\n",
       "      <th>1284</th>\n",
       "      <td>110.195281</td>\n",
       "      <td>111.406250</td>\n",
       "      <td>Train</td>\n",
       "      <td>-1.210969</td>\n",
       "    </tr>\n",
       "    <tr>\n",
       "      <th>278</th>\n",
       "      <td>139.565355</td>\n",
       "      <td>146.500000</td>\n",
       "      <td>Train</td>\n",
       "      <td>-6.934645</td>\n",
       "    </tr>\n",
       "    <tr>\n",
       "      <th>12539</th>\n",
       "      <td>104.766407</td>\n",
       "      <td>113.476562</td>\n",
       "      <td>Train</td>\n",
       "      <td>-8.710156</td>\n",
       "    </tr>\n",
       "    <tr>\n",
       "      <th>7494</th>\n",
       "      <td>139.565355</td>\n",
       "      <td>139.664062</td>\n",
       "      <td>Train</td>\n",
       "      <td>-0.098707</td>\n",
       "    </tr>\n",
       "  </tbody>\n",
       "</table>\n",
       "</div>"
      ],
      "text/plain": [
       "             Real   Predicted    Set   residuos\n",
       "13506   45.144213  113.671875  Train -68.527662\n",
       "1284   110.195281  111.406250  Train  -1.210969\n",
       "278    139.565355  146.500000  Train  -6.934645\n",
       "12539  104.766407  113.476562  Train  -8.710156\n",
       "7494   139.565355  139.664062  Train  -0.098707"
      ]
     },
     "execution_count": 65,
     "metadata": {},
     "output_type": "execute_result"
    }
   ],
   "source": [
    "resultados2.head()"
   ]
  },
  {
   "cell_type": "markdown",
   "metadata": {},
   "source": [
    "> Los residuos (o errores) son la diferencia entre los valores observados y los valores que predice el modelo:\n",
    "\n",
    "Vemos que tenemos residuos negativos, por lo tanto, el valor observado de Y es menor que su valor estimado y por lo tanto se sobreestima la variable Y, en nuestro caso el precio de las coches"
   ]
  },
  {
   "cell_type": "markdown",
   "metadata": {},
   "source": [
    "Observando los residuos, podemos decir que tenemos tanto sobreestimado como infraestimado. Vamos a verlo graficamente"
   ]
  },
  {
   "cell_type": "code",
   "execution_count": 64,
   "metadata": {},
   "outputs": [
    {
     "data": {
      "image/png": "[encoded data removed]",
      "text/plain": [
       "<Figure size 1440x1440 with 4 Axes>"
      ]
     },
     "metadata": {
      "needs_background": "light"
     },
     "output_type": "display_data"
    }
   ],
   "source": [
    "fig, ax = plt.subplots(2,2,figsize=(20,20))\n",
    "\n",
    "\n",
    "# ploteamos los reales vs los predichos\n",
    "sns.regplot(data = resultados2[resultados2['Set'] == \"Train\"], \n",
    "            x = \"Real\", \n",
    "            y = \"Predicted\", \n",
    "            ax = ax[0,0], \n",
    "            color = \"grey\",\n",
    "            line_kws = {\"color\": \"red\", \"alpha\": 0.7 })\n",
    "\n",
    "\n",
    "sns.regplot(data = resultados2[resultados2['Set'] == \"Test\"], \n",
    "            x = \"Real\",\n",
    "            y = \"Predicted\", \n",
    "            color = \"grey\",\n",
    "            line_kws = {\"color\": \"red\", \"alpha\": 0.7 }, \n",
    "            ax = ax[1,0])\n",
    "\n",
    "\n",
    "# ploteamos los residuos\n",
    "sns.histplot(resultados2[resultados2['Set'] == \"Train\"],\n",
    "             x=\"residuos\",\n",
    "             color =\"grey\",\n",
    "             kde=True, \n",
    "             ax = ax[0,1])\n",
    "\n",
    "\n",
    "sns.histplot(resultados2[resultados2['Set'] == \"Test\"],\n",
    "             x=\"residuos\",\n",
    "             color = \"grey\",\n",
    "             kde=True, \n",
    "             ax = ax[1,1])\n",
    "\n",
    "ax[0,0].set_title(\"Train reales vs predichos\", fontsize = 15, fontweight = \"bold\")\n",
    "ax[0,1].set_title(\"Train residuos\", fontsize = 15, fontweight = \"bold\")\n",
    "ax[1,0].set_title(\"Test reales vs predichos\", fontsize = 15, fontweight = \"bold\")\n",
    "ax[1,1].set_title(\"Test residuos\", fontsize = 15, fontweight = \"bold\");\n"
   ]
  },
  {
   "cell_type": "markdown",
   "metadata": {},
   "source": [
    "Con estas gráficas vemos que en los valores reales y predichos hay bastante dispersión por lo que sabemos que "
   ]
  },
  {
   "cell_type": "code",
   "execution_count": 66,
   "metadata": {},
   "outputs": [
    {
     "name": "stdout",
     "output_type": "stream",
     "text": [
      "Métricas validación cruzada: [-4.27651054e+01 -4.17656669e+01 -4.00632894e+01 -4.00854742e+01\n",
      " -3.88562524e+01 -4.13762668e+01 -3.95787232e+01 -3.86740462e+01\n",
      " -3.78826330e+01 -6.02335446e+13]\n",
      "Média métricas de validación cruzada: -6023354459847.525\n"
     ]
    }
   ],
   "source": [
    "# Validación cruzada repetida con una única métrica\n",
    "# ==============================================================================\n",
    "cv_scores = cross_val_score(\n",
    "                estimator = LinearRegression(), # que algoritmo  queremos usar para ajustar el modelo\n",
    "                X         = X, # cuales son las variables X. Fijaos que no le pasamos el X_train, le pasamos todos los datos de la X\n",
    "                y         = y, # cual es nuestra variable y\n",
    "                scoring   = 'neg_root_mean_squared_error', # que métrica queremos calcular\n",
    "                cv        = 10 # número de veces que queremos hacer la validación\n",
    "             )\n",
    "\n",
    "print(f\"Métricas validación cruzada: {cv_scores}\") # sacamos las métricas para cada una de las iteraciones\n",
    "print(f\"Média métricas de validación cruzada: {cv_scores.mean()}\") # calculamos la media de todas las iteraciones. "
   ]
  },
  {
   "cell_type": "code",
   "execution_count": 67,
   "metadata": {},
   "outputs": [
    {
     "data": {
      "text/html": [
       "<div>\n",
       "<style scoped>\n",
       "    .dataframe tbody tr th:only-of-type {\n",
       "        vertical-align: middle;\n",
       "    }\n",
       "\n",
       "    .dataframe tbody tr th {\n",
       "        vertical-align: top;\n",
       "    }\n",
       "\n",
       "    .dataframe thead th {\n",
       "        text-align: right;\n",
       "    }\n",
       "</style>\n",
       "<table border=\"1\" class=\"dataframe\">\n",
       "  <thead>\n",
       "    <tr style=\"text-align: right;\">\n",
       "      <th></th>\n",
       "      <th>fit_time</th>\n",
       "      <th>score_time</th>\n",
       "      <th>test_r2</th>\n",
       "      <th>test_neg_root_mean_squared_error</th>\n",
       "    </tr>\n",
       "  </thead>\n",
       "  <tbody>\n",
       "    <tr>\n",
       "      <th>0</th>\n",
       "      <td>0.008027</td>\n",
       "      <td>0.002013</td>\n",
       "      <td>1.191471e-01</td>\n",
       "      <td>-4.276511e+01</td>\n",
       "    </tr>\n",
       "    <tr>\n",
       "      <th>1</th>\n",
       "      <td>0.010466</td>\n",
       "      <td>0.002000</td>\n",
       "      <td>9.543866e-02</td>\n",
       "      <td>-4.176567e+01</td>\n",
       "    </tr>\n",
       "    <tr>\n",
       "      <th>2</th>\n",
       "      <td>0.012001</td>\n",
       "      <td>0.001999</td>\n",
       "      <td>1.413747e-01</td>\n",
       "      <td>-4.006329e+01</td>\n",
       "    </tr>\n",
       "    <tr>\n",
       "      <th>3</th>\n",
       "      <td>0.009001</td>\n",
       "      <td>0.002000</td>\n",
       "      <td>1.160343e-01</td>\n",
       "      <td>-4.008547e+01</td>\n",
       "    </tr>\n",
       "    <tr>\n",
       "      <th>4</th>\n",
       "      <td>0.008266</td>\n",
       "      <td>0.000998</td>\n",
       "      <td>1.628156e-01</td>\n",
       "      <td>-3.885625e+01</td>\n",
       "    </tr>\n",
       "    <tr>\n",
       "      <th>5</th>\n",
       "      <td>0.009002</td>\n",
       "      <td>0.001999</td>\n",
       "      <td>1.276641e-01</td>\n",
       "      <td>-4.137627e+01</td>\n",
       "    </tr>\n",
       "    <tr>\n",
       "      <th>6</th>\n",
       "      <td>0.008001</td>\n",
       "      <td>0.001998</td>\n",
       "      <td>1.161233e-01</td>\n",
       "      <td>-3.957872e+01</td>\n",
       "    </tr>\n",
       "    <tr>\n",
       "      <th>7</th>\n",
       "      <td>0.013001</td>\n",
       "      <td>0.001999</td>\n",
       "      <td>1.444042e-01</td>\n",
       "      <td>-3.867405e+01</td>\n",
       "    </tr>\n",
       "    <tr>\n",
       "      <th>8</th>\n",
       "      <td>0.011001</td>\n",
       "      <td>0.001999</td>\n",
       "      <td>1.273220e-01</td>\n",
       "      <td>-3.788263e+01</td>\n",
       "    </tr>\n",
       "    <tr>\n",
       "      <th>9</th>\n",
       "      <td>0.009001</td>\n",
       "      <td>0.002030</td>\n",
       "      <td>-2.178835e+24</td>\n",
       "      <td>-6.023354e+13</td>\n",
       "    </tr>\n",
       "  </tbody>\n",
       "</table>\n",
       "</div>"
      ],
      "text/plain": [
       "   fit_time  score_time       test_r2  test_neg_root_mean_squared_error\n",
       "0  0.008027    0.002013  1.191471e-01                     -4.276511e+01\n",
       "1  0.010466    0.002000  9.543866e-02                     -4.176567e+01\n",
       "2  0.012001    0.001999  1.413747e-01                     -4.006329e+01\n",
       "3  0.009001    0.002000  1.160343e-01                     -4.008547e+01\n",
       "4  0.008266    0.000998  1.628156e-01                     -3.885625e+01\n",
       "5  0.009002    0.001999  1.276641e-01                     -4.137627e+01\n",
       "6  0.008001    0.001998  1.161233e-01                     -3.957872e+01\n",
       "7  0.013001    0.001999  1.444042e-01                     -3.867405e+01\n",
       "8  0.011001    0.001999  1.273220e-01                     -3.788263e+01\n",
       "9  0.009001    0.002030 -2.178835e+24                     -6.023354e+13"
      ]
     },
     "execution_count": 67,
     "metadata": {},
     "output_type": "execute_result"
    }
   ],
   "source": [
    "# Validación cruzada repetida con múltiples métricas\n",
    "# ==============================================================================\n",
    "\n",
    "cv_scores = cross_validate(\n",
    "                estimator = LinearRegression(),\n",
    "                X         = X,\n",
    "                y         = y,\n",
    "                scoring   = ('r2', 'neg_root_mean_squared_error'),\n",
    "                cv        = 10)\n",
    "\n",
    "# Se convierte el diccionario a dataframe para facilitar la visualización\n",
    "cv_scores = pd.DataFrame(cv_scores)\n",
    "cv_scores"
   ]
  }
 ],
 "metadata": {
  "kernelspec": {
   "display_name": "Python 3.10.5 64-bit",
   "language": "python",
   "name": "python3"
  },
  "language_info": {
   "codemirror_mode": {
    "name": "ipython",
    "version": 3
   },
   "file_extension": ".py",
   "mimetype": "text/x-python",
   "name": "python",
   "nbconvert_exporter": "python",
   "pygments_lexer": "ipython3",
   "version": "3.10.5"
  },
  "orig_nbformat": 4,
  "vscode": {
   "interpreter": {
    "hash": "6c417e8ec6dca726918e9382ccd5f9a276f75c00fe45ac2c66804bdd5db60888"
   }
  }
 },
 "nbformat": 4,
 "nbformat_minor": 2
}
