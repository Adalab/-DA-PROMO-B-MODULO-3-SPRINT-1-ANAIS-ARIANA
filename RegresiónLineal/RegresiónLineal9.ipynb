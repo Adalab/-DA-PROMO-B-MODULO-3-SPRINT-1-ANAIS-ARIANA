{
 "cells": [
  {
   "cell_type": "code",
   "execution_count": 1,
   "metadata": {},
   "outputs": [],
   "source": [
    "\n",
    "import numpy as np\n",
    "import pandas as pd\n",
    "\n",
    "import matplotlib.pyplot as plt\n",
    "import seaborn as sns\n",
    "\n",
    "\n",
    "from sklearn.model_selection import train_test_split\n",
    "from sklearn.linear_model import LinearRegression\n",
    "\n",
    "\n",
    "from sklearn.model_selection import cross_val_score\n",
    "from sklearn.model_selection import cross_validate\n",
    "from sklearn import metrics\n",
    "\n",
    "\n",
    "import warnings\n",
    "warnings.filterwarnings('ignore')\n",
    "\n",
    "plt.rcParams[\"figure.figsize\"] = (20,10) \n",
    "pd.options.display.max_columns = None"
   ]
  },
  {
   "cell_type": "code",
   "execution_count": 2,
   "metadata": {},
   "outputs": [
    {
     "data": {
      "text/html": [
       "<div>\n",
       "<style scoped>\n",
       "    .dataframe tbody tr th:only-of-type {\n",
       "        vertical-align: middle;\n",
       "    }\n",
       "\n",
       "    .dataframe tbody tr th {\n",
       "        vertical-align: top;\n",
       "    }\n",
       "\n",
       "    .dataframe thead th {\n",
       "        text-align: right;\n",
       "    }\n",
       "</style>\n",
       "<table border=\"1\" class=\"dataframe\">\n",
       "  <thead>\n",
       "    <tr style=\"text-align: right;\">\n",
       "      <th></th>\n",
       "      <th>Levy</th>\n",
       "      <th>Prod_year</th>\n",
       "      <th>Mileage</th>\n",
       "      <th>Cylinders</th>\n",
       "      <th>Airbags</th>\n",
       "      <th>Price_log</th>\n",
       "      <th>Leather_interior_le</th>\n",
       "      <th>Fuel_type_CNG</th>\n",
       "      <th>Fuel_type_Diesel</th>\n",
       "      <th>Fuel_type_Hybrid</th>\n",
       "      <th>Fuel_type_Hydrogen</th>\n",
       "      <th>Fuel_type_LPG</th>\n",
       "      <th>Fuel_type_Petrol</th>\n",
       "      <th>Fuel_type_Plug-in Hybrid</th>\n",
       "      <th>Gear_box_type_Automatic</th>\n",
       "      <th>Gear_box_type_Manual</th>\n",
       "      <th>Gear_box_type_Tiptronic</th>\n",
       "      <th>Gear_box_type_Variator</th>\n",
       "      <th>Drive_wheels_4x4</th>\n",
       "      <th>Drive_wheels_Front</th>\n",
       "      <th>Drive_wheels_Rear</th>\n",
       "      <th>Category_Cabriolet</th>\n",
       "      <th>Category_Coupe</th>\n",
       "      <th>Category_Goods wagon</th>\n",
       "      <th>Category_Hatchback</th>\n",
       "      <th>Category_Jeep</th>\n",
       "      <th>Category_Limousine</th>\n",
       "      <th>Category_Microbus</th>\n",
       "      <th>Category_Minivan</th>\n",
       "      <th>Category_Pickup</th>\n",
       "      <th>Category_Sedan</th>\n",
       "      <th>Category_Universal</th>\n",
       "    </tr>\n",
       "  </thead>\n",
       "  <tbody>\n",
       "    <tr>\n",
       "      <th>0</th>\n",
       "      <td>1.766963</td>\n",
       "      <td>-0.411248</td>\n",
       "      <td>0.237134</td>\n",
       "      <td>1.375313</td>\n",
       "      <td>1.329406</td>\n",
       "      <td>9.497622</td>\n",
       "      <td>1</td>\n",
       "      <td>0</td>\n",
       "      <td>0</td>\n",
       "      <td>1</td>\n",
       "      <td>0</td>\n",
       "      <td>0</td>\n",
       "      <td>0</td>\n",
       "      <td>0</td>\n",
       "      <td>1</td>\n",
       "      <td>0</td>\n",
       "      <td>0</td>\n",
       "      <td>0</td>\n",
       "      <td>1</td>\n",
       "      <td>0</td>\n",
       "      <td>0</td>\n",
       "      <td>0</td>\n",
       "      <td>0</td>\n",
       "      <td>0</td>\n",
       "      <td>0</td>\n",
       "      <td>1</td>\n",
       "      <td>0</td>\n",
       "      <td>0</td>\n",
       "      <td>0</td>\n",
       "      <td>0</td>\n",
       "      <td>0</td>\n",
       "      <td>0</td>\n",
       "    </tr>\n",
       "    <tr>\n",
       "      <th>1</th>\n",
       "      <td>0.943936</td>\n",
       "      <td>-0.173337</td>\n",
       "      <td>0.273438</td>\n",
       "      <td>1.375313</td>\n",
       "      <td>0.319668</td>\n",
       "      <td>9.718422</td>\n",
       "      <td>0</td>\n",
       "      <td>0</td>\n",
       "      <td>0</td>\n",
       "      <td>0</td>\n",
       "      <td>0</td>\n",
       "      <td>0</td>\n",
       "      <td>1</td>\n",
       "      <td>0</td>\n",
       "      <td>0</td>\n",
       "      <td>0</td>\n",
       "      <td>1</td>\n",
       "      <td>0</td>\n",
       "      <td>1</td>\n",
       "      <td>0</td>\n",
       "      <td>0</td>\n",
       "      <td>0</td>\n",
       "      <td>0</td>\n",
       "      <td>0</td>\n",
       "      <td>0</td>\n",
       "      <td>1</td>\n",
       "      <td>0</td>\n",
       "      <td>0</td>\n",
       "      <td>0</td>\n",
       "      <td>0</td>\n",
       "      <td>0</td>\n",
       "      <td>0</td>\n",
       "    </tr>\n",
       "  </tbody>\n",
       "</table>\n",
       "</div>"
      ],
      "text/plain": [
       "       Levy  Prod_year   Mileage  Cylinders   Airbags  Price_log  \\\n",
       "0  1.766963  -0.411248  0.237134   1.375313  1.329406   9.497622   \n",
       "1  0.943936  -0.173337  0.273438   1.375313  0.319668   9.718422   \n",
       "\n",
       "   Leather_interior_le  Fuel_type_CNG  Fuel_type_Diesel  Fuel_type_Hybrid  \\\n",
       "0                    1              0                 0                 1   \n",
       "1                    0              0                 0                 0   \n",
       "\n",
       "   Fuel_type_Hydrogen  Fuel_type_LPG  Fuel_type_Petrol  \\\n",
       "0                   0              0                 0   \n",
       "1                   0              0                 1   \n",
       "\n",
       "   Fuel_type_Plug-in Hybrid  Gear_box_type_Automatic  Gear_box_type_Manual  \\\n",
       "0                         0                        1                     0   \n",
       "1                         0                        0                     0   \n",
       "\n",
       "   Gear_box_type_Tiptronic  Gear_box_type_Variator  Drive_wheels_4x4  \\\n",
       "0                        0                       0                 1   \n",
       "1                        1                       0                 1   \n",
       "\n",
       "   Drive_wheels_Front  Drive_wheels_Rear  Category_Cabriolet  Category_Coupe  \\\n",
       "0                   0                  0                   0               0   \n",
       "1                   0                  0                   0               0   \n",
       "\n",
       "   Category_Goods wagon  Category_Hatchback  Category_Jeep  \\\n",
       "0                     0                   0              1   \n",
       "1                     0                   0              1   \n",
       "\n",
       "   Category_Limousine  Category_Microbus  Category_Minivan  Category_Pickup  \\\n",
       "0                   0                  0                 0                0   \n",
       "1                   0                  0                 0                0   \n",
       "\n",
       "   Category_Sedan  Category_Universal  \n",
       "0               0                   0  \n",
       "1               0                   0  "
      ]
     },
     "execution_count": 2,
     "metadata": {},
     "output_type": "execute_result"
    }
   ],
   "source": [
    "df= pd.read_pickle('datos/cars_price_norm_est_cod.pkl')\n",
    "df.head(2)"
   ]
  },
  {
   "cell_type": "markdown",
   "metadata": {},
   "source": [
    "##### <font color=green>  El objetivo de este pairprogramming es que hagáis vuestro primer modelo de machine learning. Para eso recordad que:\n",
    "##### <font color=green> Deberéis separar la X y la y.\n",
    "##### <font color=green> Deberéis crear el train y el test.\n",
    "##### <font color=green> Ajustar vuestro modelo."
   ]
  },
  {
   "cell_type": "code",
   "execution_count": 3,
   "metadata": {},
   "outputs": [
    {
     "data": {
      "text/plain": [
       "Levy                        float64\n",
       "Prod_year                   float64\n",
       "Mileage                     float64\n",
       "Cylinders                   float64\n",
       "Airbags                     float64\n",
       "Price_log                   float64\n",
       "Leather_interior_le           int32\n",
       "Fuel_type_CNG                 int32\n",
       "Fuel_type_Diesel              int32\n",
       "Fuel_type_Hybrid              int32\n",
       "Fuel_type_Hydrogen            int32\n",
       "Fuel_type_LPG                 int32\n",
       "Fuel_type_Petrol              int32\n",
       "Fuel_type_Plug-in Hybrid      int32\n",
       "Gear_box_type_Automatic       int32\n",
       "Gear_box_type_Manual          int32\n",
       "Gear_box_type_Tiptronic       int32\n",
       "Gear_box_type_Variator        int32\n",
       "Drive_wheels_4x4              int32\n",
       "Drive_wheels_Front            int32\n",
       "Drive_wheels_Rear             int32\n",
       "Category_Cabriolet            int32\n",
       "Category_Coupe                int32\n",
       "Category_Goods wagon          int32\n",
       "Category_Hatchback            int32\n",
       "Category_Jeep                 int32\n",
       "Category_Limousine            int32\n",
       "Category_Microbus             int32\n",
       "Category_Minivan              int32\n",
       "Category_Pickup               int32\n",
       "Category_Sedan                int32\n",
       "Category_Universal            int32\n",
       "dtype: object"
      ]
     },
     "execution_count": 3,
     "metadata": {},
     "output_type": "execute_result"
    }
   ],
   "source": [
    "df.dtypes"
   ]
  },
  {
   "cell_type": "markdown",
   "metadata": {},
   "source": [
    "Chequeamos nuevamente que no haya ningún valor nulo."
   ]
  },
  {
   "cell_type": "code",
   "execution_count": 4,
   "metadata": {},
   "outputs": [
    {
     "data": {
      "text/plain": [
       "Levy                        0\n",
       "Prod_year                   0\n",
       "Mileage                     0\n",
       "Cylinders                   0\n",
       "Airbags                     0\n",
       "Price_log                   0\n",
       "Leather_interior_le         0\n",
       "Fuel_type_CNG               0\n",
       "Fuel_type_Diesel            0\n",
       "Fuel_type_Hybrid            0\n",
       "Fuel_type_Hydrogen          0\n",
       "Fuel_type_LPG               0\n",
       "Fuel_type_Petrol            0\n",
       "Fuel_type_Plug-in Hybrid    0\n",
       "Gear_box_type_Automatic     0\n",
       "Gear_box_type_Manual        0\n",
       "Gear_box_type_Tiptronic     0\n",
       "Gear_box_type_Variator      0\n",
       "Drive_wheels_4x4            0\n",
       "Drive_wheels_Front          0\n",
       "Drive_wheels_Rear           0\n",
       "Category_Cabriolet          0\n",
       "Category_Coupe              0\n",
       "Category_Goods wagon        0\n",
       "Category_Hatchback          0\n",
       "Category_Jeep               0\n",
       "Category_Limousine          0\n",
       "Category_Microbus           0\n",
       "Category_Minivan            0\n",
       "Category_Pickup             0\n",
       "Category_Sedan              0\n",
       "Category_Universal          0\n",
       "dtype: int64"
      ]
     },
     "execution_count": 4,
     "metadata": {},
     "output_type": "execute_result"
    }
   ],
   "source": [
    "df.isnull().sum()"
   ]
  },
  {
   "cell_type": "markdown",
   "metadata": {},
   "source": [
    "Dentro de los datos de test eliminaremos la columna price_box que es nuestra columna respuesta."
   ]
  },
  {
   "cell_type": "markdown",
   "metadata": {},
   "source": [
    "Lo primero que haremos será separar los datos en X e y. Dentro de los datos de test eliminaremos la columna price_log que es nuestra columna respuesta."
   ]
  },
  {
   "cell_type": "code",
   "execution_count": 5,
   "metadata": {},
   "outputs": [],
   "source": [
    "X = df.drop([\"Price_log\"],  axis = 1)\n",
    "y = df[\"Price_log\"] "
   ]
  },
  {
   "cell_type": "markdown",
   "metadata": {},
   "source": [
    "X serán nuestras variables predictoras."
   ]
  },
  {
   "cell_type": "code",
   "execution_count": 6,
   "metadata": {},
   "outputs": [
    {
     "data": {
      "text/html": [
       "<div>\n",
       "<style scoped>\n",
       "    .dataframe tbody tr th:only-of-type {\n",
       "        vertical-align: middle;\n",
       "    }\n",
       "\n",
       "    .dataframe tbody tr th {\n",
       "        vertical-align: top;\n",
       "    }\n",
       "\n",
       "    .dataframe thead th {\n",
       "        text-align: right;\n",
       "    }\n",
       "</style>\n",
       "<table border=\"1\" class=\"dataframe\">\n",
       "  <thead>\n",
       "    <tr style=\"text-align: right;\">\n",
       "      <th></th>\n",
       "      <th>Levy</th>\n",
       "      <th>Prod_year</th>\n",
       "      <th>Mileage</th>\n",
       "      <th>Cylinders</th>\n",
       "      <th>Airbags</th>\n",
       "      <th>Leather_interior_le</th>\n",
       "      <th>Fuel_type_CNG</th>\n",
       "      <th>Fuel_type_Diesel</th>\n",
       "      <th>Fuel_type_Hybrid</th>\n",
       "      <th>Fuel_type_Hydrogen</th>\n",
       "      <th>Fuel_type_LPG</th>\n",
       "      <th>Fuel_type_Petrol</th>\n",
       "      <th>Fuel_type_Plug-in Hybrid</th>\n",
       "      <th>Gear_box_type_Automatic</th>\n",
       "      <th>Gear_box_type_Manual</th>\n",
       "      <th>Gear_box_type_Tiptronic</th>\n",
       "      <th>Gear_box_type_Variator</th>\n",
       "      <th>Drive_wheels_4x4</th>\n",
       "      <th>Drive_wheels_Front</th>\n",
       "      <th>Drive_wheels_Rear</th>\n",
       "      <th>Category_Cabriolet</th>\n",
       "      <th>Category_Coupe</th>\n",
       "      <th>Category_Goods wagon</th>\n",
       "      <th>Category_Hatchback</th>\n",
       "      <th>Category_Jeep</th>\n",
       "      <th>Category_Limousine</th>\n",
       "      <th>Category_Microbus</th>\n",
       "      <th>Category_Minivan</th>\n",
       "      <th>Category_Pickup</th>\n",
       "      <th>Category_Sedan</th>\n",
       "      <th>Category_Universal</th>\n",
       "    </tr>\n",
       "  </thead>\n",
       "  <tbody>\n",
       "    <tr>\n",
       "      <th>0</th>\n",
       "      <td>1.766963</td>\n",
       "      <td>-0.411248</td>\n",
       "      <td>0.237134</td>\n",
       "      <td>1.375313</td>\n",
       "      <td>1.329406</td>\n",
       "      <td>1</td>\n",
       "      <td>0</td>\n",
       "      <td>0</td>\n",
       "      <td>1</td>\n",
       "      <td>0</td>\n",
       "      <td>0</td>\n",
       "      <td>0</td>\n",
       "      <td>0</td>\n",
       "      <td>1</td>\n",
       "      <td>0</td>\n",
       "      <td>0</td>\n",
       "      <td>0</td>\n",
       "      <td>1</td>\n",
       "      <td>0</td>\n",
       "      <td>0</td>\n",
       "      <td>0</td>\n",
       "      <td>0</td>\n",
       "      <td>0</td>\n",
       "      <td>0</td>\n",
       "      <td>1</td>\n",
       "      <td>0</td>\n",
       "      <td>0</td>\n",
       "      <td>0</td>\n",
       "      <td>0</td>\n",
       "      <td>0</td>\n",
       "      <td>0</td>\n",
       "    </tr>\n",
       "    <tr>\n",
       "      <th>1</th>\n",
       "      <td>0.943936</td>\n",
       "      <td>-0.173337</td>\n",
       "      <td>0.273438</td>\n",
       "      <td>1.375313</td>\n",
       "      <td>0.319668</td>\n",
       "      <td>0</td>\n",
       "      <td>0</td>\n",
       "      <td>0</td>\n",
       "      <td>0</td>\n",
       "      <td>0</td>\n",
       "      <td>0</td>\n",
       "      <td>1</td>\n",
       "      <td>0</td>\n",
       "      <td>0</td>\n",
       "      <td>0</td>\n",
       "      <td>1</td>\n",
       "      <td>0</td>\n",
       "      <td>1</td>\n",
       "      <td>0</td>\n",
       "      <td>0</td>\n",
       "      <td>0</td>\n",
       "      <td>0</td>\n",
       "      <td>0</td>\n",
       "      <td>0</td>\n",
       "      <td>1</td>\n",
       "      <td>0</td>\n",
       "      <td>0</td>\n",
       "      <td>0</td>\n",
       "      <td>0</td>\n",
       "      <td>0</td>\n",
       "      <td>0</td>\n",
       "    </tr>\n",
       "  </tbody>\n",
       "</table>\n",
       "</div>"
      ],
      "text/plain": [
       "       Levy  Prod_year   Mileage  Cylinders   Airbags  Leather_interior_le  \\\n",
       "0  1.766963  -0.411248  0.237134   1.375313  1.329406                    1   \n",
       "1  0.943936  -0.173337  0.273438   1.375313  0.319668                    0   \n",
       "\n",
       "   Fuel_type_CNG  Fuel_type_Diesel  Fuel_type_Hybrid  Fuel_type_Hydrogen  \\\n",
       "0              0                 0                 1                   0   \n",
       "1              0                 0                 0                   0   \n",
       "\n",
       "   Fuel_type_LPG  Fuel_type_Petrol  Fuel_type_Plug-in Hybrid  \\\n",
       "0              0                 0                         0   \n",
       "1              0                 1                         0   \n",
       "\n",
       "   Gear_box_type_Automatic  Gear_box_type_Manual  Gear_box_type_Tiptronic  \\\n",
       "0                        1                     0                        0   \n",
       "1                        0                     0                        1   \n",
       "\n",
       "   Gear_box_type_Variator  Drive_wheels_4x4  Drive_wheels_Front  \\\n",
       "0                       0                 1                   0   \n",
       "1                       0                 1                   0   \n",
       "\n",
       "   Drive_wheels_Rear  Category_Cabriolet  Category_Coupe  \\\n",
       "0                  0                   0               0   \n",
       "1                  0                   0               0   \n",
       "\n",
       "   Category_Goods wagon  Category_Hatchback  Category_Jeep  \\\n",
       "0                     0                   0              1   \n",
       "1                     0                   0              1   \n",
       "\n",
       "   Category_Limousine  Category_Microbus  Category_Minivan  Category_Pickup  \\\n",
       "0                   0                  0                 0                0   \n",
       "1                   0                  0                 0                0   \n",
       "\n",
       "   Category_Sedan  Category_Universal  \n",
       "0               0                   0  \n",
       "1               0                   0  "
      ]
     },
     "execution_count": 6,
     "metadata": {},
     "output_type": "execute_result"
    }
   ],
   "source": [
    "X.head(2)"
   ]
  },
  {
   "cell_type": "markdown",
   "metadata": {},
   "source": [
    "y será nuestra variable respuesta, es decir, el precio de los coches."
   ]
  },
  {
   "cell_type": "code",
   "execution_count": 7,
   "metadata": {},
   "outputs": [
    {
     "data": {
      "text/plain": [
       "0    9.497622\n",
       "1    9.718422\n",
       "Name: Price_log, dtype: float64"
      ]
     },
     "execution_count": 7,
     "metadata": {},
     "output_type": "execute_result"
    }
   ],
   "source": [
    "y.head(2)"
   ]
  },
  {
   "cell_type": "markdown",
   "metadata": {},
   "source": [
    "Vamos a dividir nuestros datos en conjunto de entrenamiento y test."
   ]
  },
  {
   "cell_type": "code",
   "execution_count": 8,
   "metadata": {},
   "outputs": [],
   "source": [
    "x_train, x_test, y_train, y_test = train_test_split(X, y, test_size = 0.2, random_state = 42)"
   ]
  },
  {
   "cell_type": "code",
   "execution_count": 9,
   "metadata": {},
   "outputs": [],
   "source": [
    "# iniciamos la regresión lineal. n_jobs hace referencia al número de nucleos que usaremos de nuestro ordenador. Al indicar -1 significa que los usaremos todos. \n",
    "\n",
    "lr = LinearRegression(n_jobs=-1)"
   ]
  },
  {
   "cell_type": "code",
   "execution_count": 10,
   "metadata": {},
   "outputs": [
    {
     "data": {
      "text/html": [
       "<style>#sk-container-id-1 {color: black;background-color: white;}#sk-container-id-1 pre{padding: 0;}#sk-container-id-1 div.sk-toggleable {background-color: white;}#sk-container-id-1 label.sk-toggleable__label {cursor: pointer;display: block;width: 100%;margin-bottom: 0;padding: 0.3em;box-sizing: border-box;text-align: center;}#sk-container-id-1 label.sk-toggleable__label-arrow:before {content: \"▸\";float: left;margin-right: 0.25em;color: #696969;}#sk-container-id-1 label.sk-toggleable__label-arrow:hover:before {color: black;}#sk-container-id-1 div.sk-estimator:hover label.sk-toggleable__label-arrow:before {color: black;}#sk-container-id-1 div.sk-toggleable__content {max-height: 0;max-width: 0;overflow: hidden;text-align: left;background-color: #f0f8ff;}#sk-container-id-1 div.sk-toggleable__content pre {margin: 0.2em;color: black;border-radius: 0.25em;background-color: #f0f8ff;}#sk-container-id-1 input.sk-toggleable__control:checked~div.sk-toggleable__content {max-height: 200px;max-width: 100%;overflow: auto;}#sk-container-id-1 input.sk-toggleable__control:checked~label.sk-toggleable__label-arrow:before {content: \"▾\";}#sk-container-id-1 div.sk-estimator input.sk-toggleable__control:checked~label.sk-toggleable__label {background-color: #d4ebff;}#sk-container-id-1 div.sk-label input.sk-toggleable__control:checked~label.sk-toggleable__label {background-color: #d4ebff;}#sk-container-id-1 input.sk-hidden--visually {border: 0;clip: rect(1px 1px 1px 1px);clip: rect(1px, 1px, 1px, 1px);height: 1px;margin: -1px;overflow: hidden;padding: 0;position: absolute;width: 1px;}#sk-container-id-1 div.sk-estimator {font-family: monospace;background-color: #f0f8ff;border: 1px dotted black;border-radius: 0.25em;box-sizing: border-box;margin-bottom: 0.5em;}#sk-container-id-1 div.sk-estimator:hover {background-color: #d4ebff;}#sk-container-id-1 div.sk-parallel-item::after {content: \"\";width: 100%;border-bottom: 1px solid gray;flex-grow: 1;}#sk-container-id-1 div.sk-label:hover label.sk-toggleable__label {background-color: #d4ebff;}#sk-container-id-1 div.sk-serial::before {content: \"\";position: absolute;border-left: 1px solid gray;box-sizing: border-box;top: 0;bottom: 0;left: 50%;z-index: 0;}#sk-container-id-1 div.sk-serial {display: flex;flex-direction: column;align-items: center;background-color: white;padding-right: 0.2em;padding-left: 0.2em;position: relative;}#sk-container-id-1 div.sk-item {position: relative;z-index: 1;}#sk-container-id-1 div.sk-parallel {display: flex;align-items: stretch;justify-content: center;background-color: white;position: relative;}#sk-container-id-1 div.sk-item::before, #sk-container-id-1 div.sk-parallel-item::before {content: \"\";position: absolute;border-left: 1px solid gray;box-sizing: border-box;top: 0;bottom: 0;left: 50%;z-index: -1;}#sk-container-id-1 div.sk-parallel-item {display: flex;flex-direction: column;z-index: 1;position: relative;background-color: white;}#sk-container-id-1 div.sk-parallel-item:first-child::after {align-self: flex-end;width: 50%;}#sk-container-id-1 div.sk-parallel-item:last-child::after {align-self: flex-start;width: 50%;}#sk-container-id-1 div.sk-parallel-item:only-child::after {width: 0;}#sk-container-id-1 div.sk-dashed-wrapped {border: 1px dashed gray;margin: 0 0.4em 0.5em 0.4em;box-sizing: border-box;padding-bottom: 0.4em;background-color: white;}#sk-container-id-1 div.sk-label label {font-family: monospace;font-weight: bold;display: inline-block;line-height: 1.2em;}#sk-container-id-1 div.sk-label-container {text-align: center;}#sk-container-id-1 div.sk-container {/* jupyter's `normalize.less` sets `[hidden] { display: none; }` but bootstrap.min.css set `[hidden] { display: none !important; }` so we also need the `!important` here to be able to override the default hidden behavior on the sphinx rendered scikit-learn.org. See: https://github.com/scikit-learn/scikit-learn/issues/21755 */display: inline-block !important;position: relative;}#sk-container-id-1 div.sk-text-repr-fallback {display: none;}</style><div id=\"sk-container-id-1\" class=\"sk-top-container\"><div class=\"sk-text-repr-fallback\"><pre>LinearRegression(n_jobs=-1)</pre><b>In a Jupyter environment, please rerun this cell to show the HTML representation or trust the notebook. <br />On GitHub, the HTML representation is unable to render, please try loading this page with nbviewer.org.</b></div><div class=\"sk-container\" hidden><div class=\"sk-item\"><div class=\"sk-estimator sk-toggleable\"><input class=\"sk-toggleable__control sk-hidden--visually\" id=\"sk-estimator-id-1\" type=\"checkbox\" checked><label for=\"sk-estimator-id-1\" class=\"sk-toggleable__label sk-toggleable__label-arrow\">LinearRegression</label><div class=\"sk-toggleable__content\"><pre>LinearRegression(n_jobs=-1)</pre></div></div></div></div></div>"
      ],
      "text/plain": [
       "LinearRegression(n_jobs=-1)"
      ]
     },
     "execution_count": 10,
     "metadata": {},
     "output_type": "execute_result"
    }
   ],
   "source": [
    "# fiteamos el modelo, lo que significa que le pasamos los datos de entrenamiento para que aprenda el algoritmo. Fijaros que para que aprenda, les paso solo los datos de entrenamiento\n",
    "\n",
    "lr.fit(x_train, y_train)"
   ]
  },
  {
   "cell_type": "code",
   "execution_count": 11,
   "metadata": {},
   "outputs": [
    {
     "data": {
      "text/plain": [
       "(7901, 31)"
      ]
     },
     "execution_count": 11,
     "metadata": {},
     "output_type": "execute_result"
    }
   ],
   "source": [
    "x_train.shape"
   ]
  },
  {
   "cell_type": "code",
   "execution_count": 12,
   "metadata": {},
   "outputs": [
    {
     "data": {
      "text/plain": [
       "(1976, 31)"
      ]
     },
     "execution_count": 12,
     "metadata": {},
     "output_type": "execute_result"
    }
   ],
   "source": [
    "x_test.shape"
   ]
  },
  {
   "cell_type": "code",
   "execution_count": 13,
   "metadata": {},
   "outputs": [
    {
     "data": {
      "text/plain": [
       "(7901,)"
      ]
     },
     "execution_count": 13,
     "metadata": {},
     "output_type": "execute_result"
    }
   ],
   "source": [
    "y_train.shape"
   ]
  },
  {
   "cell_type": "code",
   "execution_count": 14,
   "metadata": {},
   "outputs": [
    {
     "data": {
      "text/plain": [
       "(1976,)"
      ]
     },
     "execution_count": 14,
     "metadata": {},
     "output_type": "execute_result"
    }
   ],
   "source": [
    "y_test.shape"
   ]
  },
  {
   "cell_type": "code",
   "execution_count": 15,
   "metadata": {},
   "outputs": [],
   "source": [
    "# es el momento de hacer las predicciones, para eso usaremos el método predict() de sklearn \n",
    "\n",
    "y_predict_train = lr.predict(x_train) # hacemos las predicciones para los coches que tenemos en los datos de entrenamiento\n",
    "y_predict_test = lr.predict(x_test) # hacemos las predicciones para los coches que tenemos en los datos de test"
   ]
  },
  {
   "cell_type": "code",
   "execution_count": 16,
   "metadata": {},
   "outputs": [
    {
     "data": {
      "text/plain": [
       "(7901,)"
      ]
     },
     "execution_count": 16,
     "metadata": {},
     "output_type": "execute_result"
    }
   ],
   "source": [
    "y_predict_train.shape"
   ]
  },
  {
   "cell_type": "code",
   "execution_count": 17,
   "metadata": {},
   "outputs": [
    {
     "data": {
      "text/plain": [
       "(1976,)"
      ]
     },
     "execution_count": 17,
     "metadata": {},
     "output_type": "execute_result"
    }
   ],
   "source": [
    "y_predict_test.shape"
   ]
  },
  {
   "cell_type": "code",
   "execution_count": 18,
   "metadata": {},
   "outputs": [
    {
     "data": {
      "text/html": [
       "<div>\n",
       "<style scoped>\n",
       "    .dataframe tbody tr th:only-of-type {\n",
       "        vertical-align: middle;\n",
       "    }\n",
       "\n",
       "    .dataframe tbody tr th {\n",
       "        vertical-align: top;\n",
       "    }\n",
       "\n",
       "    .dataframe thead th {\n",
       "        text-align: right;\n",
       "    }\n",
       "</style>\n",
       "<table border=\"1\" class=\"dataframe\">\n",
       "  <thead>\n",
       "    <tr style=\"text-align: right;\">\n",
       "      <th></th>\n",
       "      <th>Real</th>\n",
       "      <th>Predicted</th>\n",
       "      <th>Set</th>\n",
       "    </tr>\n",
       "  </thead>\n",
       "  <tbody>\n",
       "    <tr>\n",
       "      <th>13506</th>\n",
       "      <td>7.619724</td>\n",
       "      <td>9.199463</td>\n",
       "      <td>Train</td>\n",
       "    </tr>\n",
       "    <tr>\n",
       "      <th>1284</th>\n",
       "      <td>9.404508</td>\n",
       "      <td>9.326050</td>\n",
       "      <td>Train</td>\n",
       "    </tr>\n",
       "    <tr>\n",
       "      <th>278</th>\n",
       "      <td>10.816934</td>\n",
       "      <td>10.130859</td>\n",
       "      <td>Train</td>\n",
       "    </tr>\n",
       "    <tr>\n",
       "      <th>12539</th>\n",
       "      <td>9.303466</td>\n",
       "      <td>9.416870</td>\n",
       "      <td>Train</td>\n",
       "    </tr>\n",
       "    <tr>\n",
       "      <th>7494</th>\n",
       "      <td>10.810738</td>\n",
       "      <td>10.117676</td>\n",
       "      <td>Train</td>\n",
       "    </tr>\n",
       "  </tbody>\n",
       "</table>\n",
       "</div>"
      ],
      "text/plain": [
       "            Real  Predicted    Set\n",
       "13506   7.619724   9.199463  Train\n",
       "1284    9.404508   9.326050  Train\n",
       "278    10.816934  10.130859  Train\n",
       "12539   9.303466   9.416870  Train\n",
       "7494   10.810738  10.117676  Train"
      ]
     },
     "execution_count": 18,
     "metadata": {},
     "output_type": "execute_result"
    }
   ],
   "source": [
    "train_df = pd.DataFrame({'Real': y_train, 'Predicted': y_predict_train, 'Set': ['Train']*len(y_train)})\n",
    "test_df  = pd.DataFrame({'Real': y_test,  'Predicted': y_predict_test,  'Set': ['Test']*len(y_test)})\n",
    "resultados = pd.concat([train_df,test_df], axis = 0)\n",
    "resultados.head()"
   ]
  },
  {
   "cell_type": "code",
   "execution_count": 19,
   "metadata": {},
   "outputs": [
    {
     "data": {
      "text/html": [
       "<div>\n",
       "<style scoped>\n",
       "    .dataframe tbody tr th:only-of-type {\n",
       "        vertical-align: middle;\n",
       "    }\n",
       "\n",
       "    .dataframe tbody tr th {\n",
       "        vertical-align: top;\n",
       "    }\n",
       "\n",
       "    .dataframe thead th {\n",
       "        text-align: right;\n",
       "    }\n",
       "</style>\n",
       "<table border=\"1\" class=\"dataframe\">\n",
       "  <thead>\n",
       "    <tr style=\"text-align: right;\">\n",
       "      <th></th>\n",
       "      <th>Real</th>\n",
       "      <th>Predicted</th>\n",
       "      <th>Set</th>\n",
       "      <th>residuos</th>\n",
       "    </tr>\n",
       "  </thead>\n",
       "  <tbody>\n",
       "    <tr>\n",
       "      <th>13506</th>\n",
       "      <td>7.619724</td>\n",
       "      <td>9.199463</td>\n",
       "      <td>Train</td>\n",
       "      <td>-1.579739</td>\n",
       "    </tr>\n",
       "    <tr>\n",
       "      <th>1284</th>\n",
       "      <td>9.404508</td>\n",
       "      <td>9.326050</td>\n",
       "      <td>Train</td>\n",
       "      <td>0.078458</td>\n",
       "    </tr>\n",
       "    <tr>\n",
       "      <th>278</th>\n",
       "      <td>10.816934</td>\n",
       "      <td>10.130859</td>\n",
       "      <td>Train</td>\n",
       "      <td>0.686075</td>\n",
       "    </tr>\n",
       "    <tr>\n",
       "      <th>12539</th>\n",
       "      <td>9.303466</td>\n",
       "      <td>9.416870</td>\n",
       "      <td>Train</td>\n",
       "      <td>-0.113404</td>\n",
       "    </tr>\n",
       "    <tr>\n",
       "      <th>7494</th>\n",
       "      <td>10.810738</td>\n",
       "      <td>10.117676</td>\n",
       "      <td>Train</td>\n",
       "      <td>0.693062</td>\n",
       "    </tr>\n",
       "  </tbody>\n",
       "</table>\n",
       "</div>"
      ],
      "text/plain": [
       "            Real  Predicted    Set  residuos\n",
       "13506   7.619724   9.199463  Train -1.579739\n",
       "1284    9.404508   9.326050  Train  0.078458\n",
       "278    10.816934  10.130859  Train  0.686075\n",
       "12539   9.303466   9.416870  Train -0.113404\n",
       "7494   10.810738  10.117676  Train  0.693062"
      ]
     },
     "execution_count": 19,
     "metadata": {},
     "output_type": "execute_result"
    }
   ],
   "source": [
    "resultados['residuos'] = resultados['Real'] - resultados['Predicted']\n",
    "resultados.head()"
   ]
  },
  {
   "cell_type": "code",
   "execution_count": 20,
   "metadata": {},
   "outputs": [
    {
     "data": {
      "text/plain": [
       "(9877, 4)"
      ]
     },
     "execution_count": 20,
     "metadata": {},
     "output_type": "execute_result"
    }
   ],
   "source": [
    "resultados.shape"
   ]
  },
  {
   "cell_type": "code",
   "execution_count": 21,
   "metadata": {},
   "outputs": [
    {
     "data": {
      "text/plain": [
       "array(['Train', 'Test'], dtype=object)"
      ]
     },
     "execution_count": 21,
     "metadata": {},
     "output_type": "execute_result"
    }
   ],
   "source": [
    "resultados.Set.unique()"
   ]
  },
  {
   "cell_type": "code",
   "execution_count": 22,
   "metadata": {},
   "outputs": [
    {
     "data": {
      "text/html": [
       "<div>\n",
       "<style scoped>\n",
       "    .dataframe tbody tr th:only-of-type {\n",
       "        vertical-align: middle;\n",
       "    }\n",
       "\n",
       "    .dataframe tbody tr th {\n",
       "        vertical-align: top;\n",
       "    }\n",
       "\n",
       "    .dataframe thead th {\n",
       "        text-align: right;\n",
       "    }\n",
       "</style>\n",
       "<table border=\"1\" class=\"dataframe\">\n",
       "  <thead>\n",
       "    <tr style=\"text-align: right;\">\n",
       "      <th></th>\n",
       "      <th>count</th>\n",
       "      <th>mean</th>\n",
       "      <th>std</th>\n",
       "      <th>min</th>\n",
       "      <th>25%</th>\n",
       "      <th>50%</th>\n",
       "      <th>75%</th>\n",
       "      <th>max</th>\n",
       "    </tr>\n",
       "  </thead>\n",
       "  <tbody>\n",
       "    <tr>\n",
       "      <th>Real</th>\n",
       "      <td>9877.0</td>\n",
       "      <td>9.557538e+00</td>\n",
       "      <td>9.947122e-01</td>\n",
       "      <td>6.308098e+00</td>\n",
       "      <td>9.182147</td>\n",
       "      <td>9.699411</td>\n",
       "      <td>10.130185</td>\n",
       "      <td>1.264079e+01</td>\n",
       "    </tr>\n",
       "    <tr>\n",
       "      <th>Predicted</th>\n",
       "      <td>9877.0</td>\n",
       "      <td>5.244363e+07</td>\n",
       "      <td>5.212010e+09</td>\n",
       "      <td>8.471313e+00</td>\n",
       "      <td>9.209839</td>\n",
       "      <td>9.451538</td>\n",
       "      <td>9.891846</td>\n",
       "      <td>5.179857e+11</td>\n",
       "    </tr>\n",
       "    <tr>\n",
       "      <th>residuos</th>\n",
       "      <td>9877.0</td>\n",
       "      <td>-5.244362e+07</td>\n",
       "      <td>5.212010e+09</td>\n",
       "      <td>-5.179857e+11</td>\n",
       "      <td>-0.354171</td>\n",
       "      <td>0.112604</td>\n",
       "      <td>0.546149</td>\n",
       "      <td>3.230880e+00</td>\n",
       "    </tr>\n",
       "  </tbody>\n",
       "</table>\n",
       "</div>"
      ],
      "text/plain": [
       "            count          mean           std           min       25%  \\\n",
       "Real       9877.0  9.557538e+00  9.947122e-01  6.308098e+00  9.182147   \n",
       "Predicted  9877.0  5.244363e+07  5.212010e+09  8.471313e+00  9.209839   \n",
       "residuos   9877.0 -5.244362e+07  5.212010e+09 -5.179857e+11 -0.354171   \n",
       "\n",
       "                50%        75%           max  \n",
       "Real       9.699411  10.130185  1.264079e+01  \n",
       "Predicted  9.451538   9.891846  5.179857e+11  \n",
       "residuos   0.112604   0.546149  3.230880e+00  "
      ]
     },
     "execution_count": 22,
     "metadata": {},
     "output_type": "execute_result"
    }
   ],
   "source": [
    "resultados.describe().T"
   ]
  },
  {
   "cell_type": "code",
   "execution_count": 23,
   "metadata": {},
   "outputs": [
    {
     "data": {
      "text/html": [
       "<div>\n",
       "<style scoped>\n",
       "    .dataframe tbody tr th:only-of-type {\n",
       "        vertical-align: middle;\n",
       "    }\n",
       "\n",
       "    .dataframe tbody tr th {\n",
       "        vertical-align: top;\n",
       "    }\n",
       "\n",
       "    .dataframe thead th {\n",
       "        text-align: right;\n",
       "    }\n",
       "</style>\n",
       "<table border=\"1\" class=\"dataframe\">\n",
       "  <thead>\n",
       "    <tr style=\"text-align: right;\">\n",
       "      <th></th>\n",
       "      <th>Real</th>\n",
       "      <th>Predicted</th>\n",
       "      <th>Set</th>\n",
       "      <th>residuos</th>\n",
       "    </tr>\n",
       "  </thead>\n",
       "  <tbody>\n",
       "    <tr>\n",
       "      <th>13506</th>\n",
       "      <td>7.619724</td>\n",
       "      <td>9.199463</td>\n",
       "      <td>Train</td>\n",
       "      <td>-1.579739</td>\n",
       "    </tr>\n",
       "    <tr>\n",
       "      <th>1284</th>\n",
       "      <td>9.404508</td>\n",
       "      <td>9.326050</td>\n",
       "      <td>Train</td>\n",
       "      <td>0.078458</td>\n",
       "    </tr>\n",
       "    <tr>\n",
       "      <th>278</th>\n",
       "      <td>10.816934</td>\n",
       "      <td>10.130859</td>\n",
       "      <td>Train</td>\n",
       "      <td>0.686075</td>\n",
       "    </tr>\n",
       "    <tr>\n",
       "      <th>12539</th>\n",
       "      <td>9.303466</td>\n",
       "      <td>9.416870</td>\n",
       "      <td>Train</td>\n",
       "      <td>-0.113404</td>\n",
       "    </tr>\n",
       "    <tr>\n",
       "      <th>7494</th>\n",
       "      <td>10.810738</td>\n",
       "      <td>10.117676</td>\n",
       "      <td>Train</td>\n",
       "      <td>0.693062</td>\n",
       "    </tr>\n",
       "    <tr>\n",
       "      <th>...</th>\n",
       "      <td>...</td>\n",
       "      <td>...</td>\n",
       "      <td>...</td>\n",
       "      <td>...</td>\n",
       "    </tr>\n",
       "    <tr>\n",
       "      <th>12837</th>\n",
       "      <td>10.484361</td>\n",
       "      <td>10.095215</td>\n",
       "      <td>Test</td>\n",
       "      <td>0.389147</td>\n",
       "    </tr>\n",
       "    <tr>\n",
       "      <th>6717</th>\n",
       "      <td>8.679822</td>\n",
       "      <td>9.217285</td>\n",
       "      <td>Test</td>\n",
       "      <td>-0.537463</td>\n",
       "    </tr>\n",
       "    <tr>\n",
       "      <th>8534</th>\n",
       "      <td>9.436998</td>\n",
       "      <td>9.195190</td>\n",
       "      <td>Test</td>\n",
       "      <td>0.241807</td>\n",
       "    </tr>\n",
       "    <tr>\n",
       "      <th>11366</th>\n",
       "      <td>10.258782</td>\n",
       "      <td>10.121826</td>\n",
       "      <td>Test</td>\n",
       "      <td>0.136955</td>\n",
       "    </tr>\n",
       "    <tr>\n",
       "      <th>7630</th>\n",
       "      <td>9.578726</td>\n",
       "      <td>9.199585</td>\n",
       "      <td>Test</td>\n",
       "      <td>0.379142</td>\n",
       "    </tr>\n",
       "  </tbody>\n",
       "</table>\n",
       "<p>9877 rows × 4 columns</p>\n",
       "</div>"
      ],
      "text/plain": [
       "            Real  Predicted    Set  residuos\n",
       "13506   7.619724   9.199463  Train -1.579739\n",
       "1284    9.404508   9.326050  Train  0.078458\n",
       "278    10.816934  10.130859  Train  0.686075\n",
       "12539   9.303466   9.416870  Train -0.113404\n",
       "7494   10.810738  10.117676  Train  0.693062\n",
       "...          ...        ...    ...       ...\n",
       "12837  10.484361  10.095215   Test  0.389147\n",
       "6717    8.679822   9.217285   Test -0.537463\n",
       "8534    9.436998   9.195190   Test  0.241807\n",
       "11366  10.258782  10.121826   Test  0.136955\n",
       "7630    9.578726   9.199585   Test  0.379142\n",
       "\n",
       "[9877 rows x 4 columns]"
      ]
     },
     "execution_count": 23,
     "metadata": {},
     "output_type": "execute_result"
    }
   ],
   "source": [
    "resultados"
   ]
  },
  {
   "cell_type": "markdown",
   "metadata": {},
   "source": [
    "Hemos detectado tarde que tenemos un valor muy alto y por eso vamos a hacer un filtrado para qyue descarte ese valor."
   ]
  },
  {
   "cell_type": "code",
   "execution_count": 24,
   "metadata": {},
   "outputs": [
    {
     "data": {
      "text/plain": [
       "517985666328.53577"
      ]
     },
     "execution_count": 24,
     "metadata": {},
     "output_type": "execute_result"
    }
   ],
   "source": [
    "resultados['Predicted'].max()"
   ]
  },
  {
   "cell_type": "code",
   "execution_count": 25,
   "metadata": {},
   "outputs": [],
   "source": [
    "resultados2 = resultados[resultados['Predicted'] < resultados['Predicted'].max()]"
   ]
  },
  {
   "cell_type": "code",
   "execution_count": 26,
   "metadata": {},
   "outputs": [
    {
     "data": {
      "text/html": [
       "<div>\n",
       "<style scoped>\n",
       "    .dataframe tbody tr th:only-of-type {\n",
       "        vertical-align: middle;\n",
       "    }\n",
       "\n",
       "    .dataframe tbody tr th {\n",
       "        vertical-align: top;\n",
       "    }\n",
       "\n",
       "    .dataframe thead th {\n",
       "        text-align: right;\n",
       "    }\n",
       "</style>\n",
       "<table border=\"1\" class=\"dataframe\">\n",
       "  <thead>\n",
       "    <tr style=\"text-align: right;\">\n",
       "      <th></th>\n",
       "      <th>Real</th>\n",
       "      <th>Predicted</th>\n",
       "      <th>Set</th>\n",
       "      <th>residuos</th>\n",
       "    </tr>\n",
       "  </thead>\n",
       "  <tbody>\n",
       "    <tr>\n",
       "      <th>13506</th>\n",
       "      <td>7.619724</td>\n",
       "      <td>9.199463</td>\n",
       "      <td>Train</td>\n",
       "      <td>-1.579739</td>\n",
       "    </tr>\n",
       "    <tr>\n",
       "      <th>1284</th>\n",
       "      <td>9.404508</td>\n",
       "      <td>9.326050</td>\n",
       "      <td>Train</td>\n",
       "      <td>0.078458</td>\n",
       "    </tr>\n",
       "    <tr>\n",
       "      <th>278</th>\n",
       "      <td>10.816934</td>\n",
       "      <td>10.130859</td>\n",
       "      <td>Train</td>\n",
       "      <td>0.686075</td>\n",
       "    </tr>\n",
       "    <tr>\n",
       "      <th>12539</th>\n",
       "      <td>9.303466</td>\n",
       "      <td>9.416870</td>\n",
       "      <td>Train</td>\n",
       "      <td>-0.113404</td>\n",
       "    </tr>\n",
       "    <tr>\n",
       "      <th>7494</th>\n",
       "      <td>10.810738</td>\n",
       "      <td>10.117676</td>\n",
       "      <td>Train</td>\n",
       "      <td>0.693062</td>\n",
       "    </tr>\n",
       "  </tbody>\n",
       "</table>\n",
       "</div>"
      ],
      "text/plain": [
       "            Real  Predicted    Set  residuos\n",
       "13506   7.619724   9.199463  Train -1.579739\n",
       "1284    9.404508   9.326050  Train  0.078458\n",
       "278    10.816934  10.130859  Train  0.686075\n",
       "12539   9.303466   9.416870  Train -0.113404\n",
       "7494   10.810738  10.117676  Train  0.693062"
      ]
     },
     "execution_count": 26,
     "metadata": {},
     "output_type": "execute_result"
    }
   ],
   "source": [
    "resultados2.head()"
   ]
  },
  {
   "cell_type": "markdown",
   "metadata": {},
   "source": [
    "> Los residuos (o errores) son la diferencia entre los valores observados y los valores que predice el modelo:\n",
    "\n",
    "Vemos que tenemos residuos negativos, por lo tanto, el valor observado de Y es menor que su valor estimado y por lo tanto se sobreestima la variable Y, en nuestro caso el precio de las coches"
   ]
  },
  {
   "cell_type": "markdown",
   "metadata": {},
   "source": [
    "Observando los residuos, podemos decir que tenemos tanto sobreestimado como infraestimado. Vamos a verlo graficamente"
   ]
  },
  {
   "cell_type": "code",
   "execution_count": 27,
   "metadata": {},
   "outputs": [
    {
     "data": {
      "image/png": "[encoded data removed]",
      "text/plain": [
       "<Figure size 1440x1440 with 4 Axes>"
      ]
     },
     "metadata": {
      "needs_background": "light"
     },
     "output_type": "display_data"
    }
   ],
   "source": [
    "fig, ax = plt.subplots(2,2,figsize=(20,20))\n",
    "\n",
    "\n",
    "# ploteamos los reales vs los predichos\n",
    "sns.regplot(data = resultados2[resultados2['Set'] == \"Train\"], \n",
    "            x = \"Real\", \n",
    "            y = \"Predicted\", \n",
    "            ax = ax[0,0], \n",
    "            color = \"grey\",\n",
    "            line_kws = {\"color\": \"red\", \"alpha\": 0.7 })\n",
    "\n",
    "\n",
    "sns.regplot(data = resultados2[resultados2['Set'] == \"Test\"], \n",
    "            x = \"Real\",\n",
    "            y = \"Predicted\", \n",
    "            color = \"grey\",\n",
    "            line_kws = {\"color\": \"red\", \"alpha\": 0.7 }, \n",
    "            ax = ax[1,0])\n",
    "\n",
    "\n",
    "# ploteamos los residuos\n",
    "sns.histplot(resultados2[resultados2['Set'] == \"Train\"],\n",
    "             x=\"residuos\",\n",
    "             color =\"grey\",\n",
    "             kde=True, \n",
    "             ax = ax[0,1])\n",
    "\n",
    "\n",
    "sns.histplot(resultados2[resultados2['Set'] == \"Test\"],\n",
    "             x=\"residuos\",\n",
    "             color = \"grey\",\n",
    "             kde=True, \n",
    "             ax = ax[1,1])\n",
    "\n",
    "ax[0,0].set_title(\"Train reales vs predichos\", fontsize = 15, fontweight = \"bold\")\n",
    "ax[0,1].set_title(\"Train residuos\", fontsize = 15, fontweight = \"bold\")\n",
    "ax[1,0].set_title(\"Test reales vs predichos\", fontsize = 15, fontweight = \"bold\")\n",
    "ax[1,1].set_title(\"Test residuos\", fontsize = 15, fontweight = \"bold\");\n"
   ]
  },
  {
   "cell_type": "markdown",
   "metadata": {},
   "source": [
    "Con el análisis de los resultados crremos que el modelo está sobreajustado, ya que los resultados reales son prácticamente iguales a los predichos. Por lo tanto nuestro modelo es incapaz de hacer buenas predicciones cuando le entren nuevos datos porque se los ha aprendido de memoria."
   ]
  },
  {
   "cell_type": "markdown",
   "metadata": {},
   "source": [
    "Los próximos pasos es hacer comparaciones con las métricas correspondientes."
   ]
  }
 ],
 "metadata": {
  "kernelspec": {
   "display_name": "Python 3.10.5 64-bit",
   "language": "python",
   "name": "python3"
  },
  "language_info": {
   "codemirror_mode": {
    "name": "ipython",
    "version": 3
   },
   "file_extension": ".py",
   "mimetype": "text/x-python",
   "name": "python",
   "nbconvert_exporter": "python",
   "pygments_lexer": "ipython3",
   "version": "3.10.5"
  },
  "orig_nbformat": 4,
  "vscode": {
   "interpreter": {
    "hash": "6c417e8ec6dca726918e9382ccd5f9a276f75c00fe45ac2c66804bdd5db60888"
   }
  }
 },
 "nbformat": 4,
 "nbformat_minor": 2
}
