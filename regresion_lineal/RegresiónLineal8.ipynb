{
 "cells": [
  {
   "cell_type": "code",
   "execution_count": 41,
   "metadata": {},
   "outputs": [],
   "source": [
    "import pandas as pd\n",
    "import random \n",
    "import seaborn as sns\n",
    "import numpy as np\n",
    "import matplotlib.pyplot as plt\n",
    "from scipy import stats\n",
    "import statsmodels.api as sm\n",
    "\n",
    "import researchpy as rp\n",
    "import scipy.stats as stats\n",
    "from scipy.stats import levene\n",
    "from scipy.stats import kstest\n",
    "from scipy.stats import skew\n",
    "\n",
    "import math \n",
    "from sklearn.preprocessing import MinMaxScaler\n",
    "from sklearn.preprocessing import StandardScaler\n",
    "from sklearn.preprocessing import RobustScaler\n",
    "from statsmodels.formula.api import ols\n",
    "from statsmodels.multivariate.manova import MANOVA\n",
    "\n",
    "\n",
    "import warnings\n",
    "warnings.filterwarnings('ignore')\n",
    "\n",
    "plt.rcParams[\"figure.figsize\"] = (20,10) \n",
    "pd.options.display.max_columns = None"
   ]
  },
  {
   "cell_type": "code",
   "execution_count": 42,
   "metadata": {},
   "outputs": [
    {
     "data": {
      "text/html": [
       "<div>\n",
       "<style scoped>\n",
       "    .dataframe tbody tr th:only-of-type {\n",
       "        vertical-align: middle;\n",
       "    }\n",
       "\n",
       "    .dataframe tbody tr th {\n",
       "        vertical-align: top;\n",
       "    }\n",
       "\n",
       "    .dataframe thead th {\n",
       "        text-align: right;\n",
       "    }\n",
       "</style>\n",
       "<table border=\"1\" class=\"dataframe\">\n",
       "  <thead>\n",
       "    <tr style=\"text-align: right;\">\n",
       "      <th></th>\n",
       "      <th>Levy</th>\n",
       "      <th>Manufacturer</th>\n",
       "      <th>Prod_year</th>\n",
       "      <th>Category</th>\n",
       "      <th>Leather_interior</th>\n",
       "      <th>Fuel_type</th>\n",
       "      <th>Engine_volume</th>\n",
       "      <th>Mileage</th>\n",
       "      <th>Cylinders</th>\n",
       "      <th>Gear_box_type</th>\n",
       "      <th>Drive_wheels</th>\n",
       "      <th>Doors</th>\n",
       "      <th>Color</th>\n",
       "      <th>Airbags</th>\n",
       "      <th>Price_log</th>\n",
       "    </tr>\n",
       "  </thead>\n",
       "  <tbody>\n",
       "    <tr>\n",
       "      <th>0</th>\n",
       "      <td>1.766963</td>\n",
       "      <td>LEXUS</td>\n",
       "      <td>-0.411248</td>\n",
       "      <td>Jeep</td>\n",
       "      <td>Yes</td>\n",
       "      <td>Hybrid</td>\n",
       "      <td>3.5</td>\n",
       "      <td>0.237134</td>\n",
       "      <td>1.375313</td>\n",
       "      <td>Automatic</td>\n",
       "      <td>4x4</td>\n",
       "      <td>04</td>\n",
       "      <td>Silver</td>\n",
       "      <td>1.329406</td>\n",
       "      <td>9.497622</td>\n",
       "    </tr>\n",
       "    <tr>\n",
       "      <th>1</th>\n",
       "      <td>0.943936</td>\n",
       "      <td>CHEVROLET</td>\n",
       "      <td>-0.173337</td>\n",
       "      <td>Jeep</td>\n",
       "      <td>No</td>\n",
       "      <td>Petrol</td>\n",
       "      <td>3</td>\n",
       "      <td>0.273438</td>\n",
       "      <td>1.375313</td>\n",
       "      <td>Tiptronic</td>\n",
       "      <td>4x4</td>\n",
       "      <td>04</td>\n",
       "      <td>Black</td>\n",
       "      <td>0.319668</td>\n",
       "      <td>9.718422</td>\n",
       "    </tr>\n",
       "  </tbody>\n",
       "</table>\n",
       "</div>"
      ],
      "text/plain": [
       "       Levy Manufacturer  Prod_year Category Leather_interior Fuel_type  \\\n",
       "0  1.766963        LEXUS  -0.411248     Jeep              Yes    Hybrid   \n",
       "1  0.943936    CHEVROLET  -0.173337     Jeep               No    Petrol   \n",
       "\n",
       "  Engine_volume   Mileage  Cylinders Gear_box_type Drive_wheels Doors   Color  \\\n",
       "0           3.5  0.237134   1.375313     Automatic          4x4    04  Silver   \n",
       "1             3  0.273438   1.375313     Tiptronic          4x4    04   Black   \n",
       "\n",
       "    Airbags  Price_log  \n",
       "0  1.329406   9.497622  \n",
       "1  0.319668   9.718422  "
      ]
     },
     "execution_count": 42,
     "metadata": {},
     "output_type": "execute_result"
    }
   ],
   "source": [
    "df= pd.read_pickle('datos/cars_price_norm_est_an.pkl')\n",
    "df.head(2)"
   ]
  },
  {
   "cell_type": "markdown",
   "metadata": {},
   "source": [
    "##### <font color=green> Hacer una códificación de la/las variables categóricas que tengáis en vuestro set de datos.\n",
    "\n",
    "##### <font color=green> Recordad que lo primero que deberéis hacer es decidir su vuestras variables tienen o no orden, para que en función de esto uséis una aproximación u otra."
   ]
  },
  {
   "cell_type": "markdown",
   "metadata": {},
   "source": [
    "- Sacamos los valores únicos de cada variable categorica:"
   ]
  },
  {
   "cell_type": "code",
   "execution_count": 43,
   "metadata": {},
   "outputs": [
    {
     "data": {
      "text/plain": [
       "Levy                 float64\n",
       "Manufacturer          object\n",
       "Prod_year            float64\n",
       "Category              object\n",
       "Leather_interior      object\n",
       "Fuel_type             object\n",
       "Engine_volume         object\n",
       "Mileage              float64\n",
       "Cylinders            float64\n",
       "Gear_box_type         object\n",
       "Drive_wheels          object\n",
       "Doors               category\n",
       "Color                 object\n",
       "Airbags              float64\n",
       "Price_log            float64\n",
       "dtype: object"
      ]
     },
     "execution_count": 43,
     "metadata": {},
     "output_type": "execute_result"
    }
   ],
   "source": [
    "df.dtypes"
   ]
  },
  {
   "cell_type": "code",
   "execution_count": 44,
   "metadata": {},
   "outputs": [
    {
     "data": {
      "text/plain": [
       "array(['LEXUS', 'CHEVROLET', 'HONDA', 'FORD', 'HYUNDAI', 'TOYOTA',\n",
       "       'MERCEDES-BENZ', 'PORSCHE', 'JEEP', 'VOLKSWAGEN', 'AUDI',\n",
       "       'RENAULT', 'NISSAN', 'SUBARU', 'DAEWOO', 'BMW', 'KIA',\n",
       "       'MITSUBISHI', 'SSANGYONG', 'MAZDA', 'GMC', 'FIAT', 'INFINITI',\n",
       "       'ALFA ROMEO', 'SUZUKI', 'OPEL', 'LINCOLN', 'CITROEN', 'MINI',\n",
       "       'DODGE', 'CHRYSLER', 'JAGUAR', 'LAND ROVER', 'ACURA', 'VAZ',\n",
       "       'SKODA', 'DAIHATSU', 'BUICK', 'TESLA', 'CADILLAC', 'PEUGEOT',\n",
       "       'BENTLEY', 'VOLVO', 'სხვა', 'HAVAL', 'HUMMER', 'SCION', 'MERCURY',\n",
       "       'SEAT', 'LANCIA', 'FERRARI', 'MASERATI', 'SAAB', 'GAZ', 'PONTIAC',\n",
       "       'SATURN', 'ASTON MARTIN'], dtype=object)"
      ]
     },
     "execution_count": 44,
     "metadata": {},
     "output_type": "execute_result"
    }
   ],
   "source": [
    "df[\"Manufacturer\"].unique()"
   ]
  },
  {
   "cell_type": "code",
   "execution_count": 45,
   "metadata": {},
   "outputs": [
    {
     "data": {
      "text/plain": [
       "array(['Jeep', 'Hatchback', 'Sedan', 'Microbus', 'Goods wagon',\n",
       "       'Universal', 'Coupe', 'Minivan', 'Cabriolet', 'Pickup',\n",
       "       'Limousine'], dtype=object)"
      ]
     },
     "execution_count": 45,
     "metadata": {},
     "output_type": "execute_result"
    }
   ],
   "source": [
    "df[\"Category\"].unique()"
   ]
  },
  {
   "cell_type": "code",
   "execution_count": 46,
   "metadata": {},
   "outputs": [
    {
     "data": {
      "text/plain": [
       "array(['Yes', 'No'], dtype=object)"
      ]
     },
     "execution_count": 46,
     "metadata": {},
     "output_type": "execute_result"
    }
   ],
   "source": [
    "df[\"Leather_interior\"].unique()"
   ]
  },
  {
   "cell_type": "code",
   "execution_count": 47,
   "metadata": {},
   "outputs": [
    {
     "data": {
      "text/plain": [
       "array(['Hybrid', 'Petrol', 'Diesel', 'Plug-in Hybrid', 'LPG', 'CNG',\n",
       "       'Hydrogen'], dtype=object)"
      ]
     },
     "execution_count": 47,
     "metadata": {},
     "output_type": "execute_result"
    }
   ],
   "source": [
    "df[\"Fuel_type\"].unique()"
   ]
  },
  {
   "cell_type": "code",
   "execution_count": 48,
   "metadata": {},
   "outputs": [
    {
     "data": {
      "text/plain": [
       "array(['3.5', '3', '1.3', '2.5', '2', '1.8', '2.4', '3.3', '1.6',\n",
       "       '2.0 Turbo', '2.2 Turbo', '4.7', '3.0 Turbo', '1.4 Turbo', '3.6',\n",
       "       '1.5', '2.3', '1.5 Turbo', '1.6 Turbo', '2.2', '2.3 Turbo', '1.4',\n",
       "       '5.5', '3.2', '3.8', '4.6', '1.2', '5', '1.7', '2.9', '0.5',\n",
       "       '1.8 Turbo', '2.4 Turbo', '4', '1.9', '2.7', '4.8', '5.3', '2.8',\n",
       "       '2.1', '0.7', '5.4', '4.4', '1.3 Turbo', '3.7', '1', '2.6',\n",
       "       '4.4 Turbo', '4.7 Turbo', '2.5 Turbo', '0.8', '0.2 Turbo',\n",
       "       '3.5 Turbo', '5.7', '4.8 Turbo', '4.6 Turbo', '6.7', '6.2',\n",
       "       '1.2 Turbo', '3.4', '1.7 Turbo', '2.8 Turbo', '2.7 Turbo', '0.4',\n",
       "       '4.2', '2.9 Turbo', '0', '1.9 Turbo', '4.0 Turbo', '20',\n",
       "       '3.6 Turbo', '3.7 Turbo', '5.5 Turbo', '6.3 Turbo', '0.2',\n",
       "       '2.1 Turbo', '5.6', '6', '0.7 Turbo', '0.6 Turbo', '6.8', '4.5',\n",
       "       '3.2 Turbo', '0.6', '7.3', '0.1', '1.0 Turbo', '4.5 Turbo',\n",
       "       '0.8 Turbo', '4.2 Turbo', '5.0 Turbo', '1.1', '6.4', '6.3',\n",
       "       '5.7 Turbo', '3.9', '4.3', '0.4 Turbo'], dtype=object)"
      ]
     },
     "execution_count": 48,
     "metadata": {},
     "output_type": "execute_result"
    }
   ],
   "source": [
    "df[\"Engine_volume\"].unique()"
   ]
  },
  {
   "cell_type": "code",
   "execution_count": 49,
   "metadata": {},
   "outputs": [
    {
     "data": {
      "text/plain": [
       "array(['Automatic', 'Tiptronic', 'Variator', 'Manual'], dtype=object)"
      ]
     },
     "execution_count": 49,
     "metadata": {},
     "output_type": "execute_result"
    }
   ],
   "source": [
    "df[\"Gear_box_type\"].unique()"
   ]
  },
  {
   "cell_type": "code",
   "execution_count": 50,
   "metadata": {},
   "outputs": [
    {
     "data": {
      "text/plain": [
       "array(['4x4', 'Front', 'Rear'], dtype=object)"
      ]
     },
     "execution_count": 50,
     "metadata": {},
     "output_type": "execute_result"
    }
   ],
   "source": [
    "df[\"Drive_wheels\"].unique()"
   ]
  },
  {
   "cell_type": "code",
   "execution_count": 51,
   "metadata": {},
   "outputs": [
    {
     "data": {
      "text/plain": [
       "['04', '02', ' 5']\n",
       "Categories (3, object): [' 5', '02', '04']"
      ]
     },
     "execution_count": 51,
     "metadata": {},
     "output_type": "execute_result"
    }
   ],
   "source": [
    "df[\"Doors\"].unique()"
   ]
  },
  {
   "cell_type": "code",
   "execution_count": 52,
   "metadata": {},
   "outputs": [
    {
     "data": {
      "text/plain": [
       "array(['Silver', 'Black', 'White', 'Grey', 'Blue', 'Red', 'Sky blue',\n",
       "       'Orange', 'Green', 'Yellow', 'Golden', 'Beige', 'Brown',\n",
       "       'Carnelian red', 'Purple', 'Pink'], dtype=object)"
      ]
     },
     "execution_count": 52,
     "metadata": {},
     "output_type": "execute_result"
    }
   ],
   "source": [
    "df[\"Color\"].unique()"
   ]
  },
  {
   "cell_type": "markdown",
   "metadata": {},
   "source": [
    "Pensamos que todas las categóricas todas nuestras categoricas si que puede influir en el valor del coche, por lo tanto, establecemos que tiene orden."
   ]
  },
  {
   "cell_type": "markdown",
   "metadata": {},
   "source": [
    "Ya que hemos establecido que nuestras variables tienen orden, vamos a utilizar el label enconding"
   ]
  },
  {
   "cell_type": "code",
   "execution_count": 53,
   "metadata": {},
   "outputs": [],
   "source": [
    "from sklearn.preprocessing import LabelEncoder "
   ]
  },
  {
   "cell_type": "code",
   "execution_count": 54,
   "metadata": {},
   "outputs": [],
   "source": [
    "le = LabelEncoder()\n",
    "\n",
    "df['Manufacturer_le']=le.fit_transform(df['Manufacturer'])\n",
    "df['Category_le']=le.fit_transform(df['Category'])\n",
    "df['Leather_interior_le']=le.fit_transform(df['Leather_interior'])\n",
    "df['Fuel_type_le']=le.fit_transform(df['Fuel_type'])\n",
    "df['Engine_volume_le']=le.fit_transform(df['Engine_volume'])\n",
    "df['Gear_box_type_le']=le.fit_transform(df['Gear_box_type'])\n",
    "df['Drive_wheels_le']=le.fit_transform(df['Drive_wheels'])\n",
    "df['Doors_le']=le.fit_transform(df['Doors'])\n",
    "df['Color_le']=le.fit_transform(df['Color'])"
   ]
  },
  {
   "cell_type": "code",
   "execution_count": 55,
   "metadata": {},
   "outputs": [
    {
     "data": {
      "text/html": [
       "<div>\n",
       "<style scoped>\n",
       "    .dataframe tbody tr th:only-of-type {\n",
       "        vertical-align: middle;\n",
       "    }\n",
       "\n",
       "    .dataframe tbody tr th {\n",
       "        vertical-align: top;\n",
       "    }\n",
       "\n",
       "    .dataframe thead th {\n",
       "        text-align: right;\n",
       "    }\n",
       "</style>\n",
       "<table border=\"1\" class=\"dataframe\">\n",
       "  <thead>\n",
       "    <tr style=\"text-align: right;\">\n",
       "      <th></th>\n",
       "      <th>Levy</th>\n",
       "      <th>Manufacturer</th>\n",
       "      <th>Prod_year</th>\n",
       "      <th>Category</th>\n",
       "      <th>Leather_interior</th>\n",
       "      <th>Fuel_type</th>\n",
       "      <th>Engine_volume</th>\n",
       "      <th>Mileage</th>\n",
       "      <th>Cylinders</th>\n",
       "      <th>Gear_box_type</th>\n",
       "      <th>Drive_wheels</th>\n",
       "      <th>Doors</th>\n",
       "      <th>Color</th>\n",
       "      <th>Airbags</th>\n",
       "      <th>Price_log</th>\n",
       "      <th>Manufacturer_le</th>\n",
       "      <th>Category_le</th>\n",
       "      <th>Leather_interior_le</th>\n",
       "      <th>Fuel_type_le</th>\n",
       "      <th>Engine_volume_le</th>\n",
       "      <th>Gear_box_type_le</th>\n",
       "      <th>Drive_wheels_le</th>\n",
       "      <th>Doors_le</th>\n",
       "      <th>Color_le</th>\n",
       "    </tr>\n",
       "  </thead>\n",
       "  <tbody>\n",
       "    <tr>\n",
       "      <th>0</th>\n",
       "      <td>1.766963</td>\n",
       "      <td>LEXUS</td>\n",
       "      <td>-0.411248</td>\n",
       "      <td>Jeep</td>\n",
       "      <td>Yes</td>\n",
       "      <td>Hybrid</td>\n",
       "      <td>3.5</td>\n",
       "      <td>0.237134</td>\n",
       "      <td>1.375313</td>\n",
       "      <td>Automatic</td>\n",
       "      <td>4x4</td>\n",
       "      <td>04</td>\n",
       "      <td>Silver</td>\n",
       "      <td>1.329406</td>\n",
       "      <td>9.497622</td>\n",
       "      <td>29</td>\n",
       "      <td>4</td>\n",
       "      <td>1</td>\n",
       "      <td>2</td>\n",
       "      <td>58</td>\n",
       "      <td>0</td>\n",
       "      <td>0</td>\n",
       "      <td>2</td>\n",
       "      <td>12</td>\n",
       "    </tr>\n",
       "    <tr>\n",
       "      <th>1</th>\n",
       "      <td>0.943936</td>\n",
       "      <td>CHEVROLET</td>\n",
       "      <td>-0.173337</td>\n",
       "      <td>Jeep</td>\n",
       "      <td>No</td>\n",
       "      <td>Petrol</td>\n",
       "      <td>3</td>\n",
       "      <td>0.273438</td>\n",
       "      <td>1.375313</td>\n",
       "      <td>Tiptronic</td>\n",
       "      <td>4x4</td>\n",
       "      <td>04</td>\n",
       "      <td>Black</td>\n",
       "      <td>0.319668</td>\n",
       "      <td>9.718422</td>\n",
       "      <td>8</td>\n",
       "      <td>4</td>\n",
       "      <td>0</td>\n",
       "      <td>5</td>\n",
       "      <td>52</td>\n",
       "      <td>2</td>\n",
       "      <td>0</td>\n",
       "      <td>2</td>\n",
       "      <td>1</td>\n",
       "    </tr>\n",
       "    <tr>\n",
       "      <th>2</th>\n",
       "      <td>-1.255121</td>\n",
       "      <td>HONDA</td>\n",
       "      <td>-1.362894</td>\n",
       "      <td>Hatchback</td>\n",
       "      <td>No</td>\n",
       "      <td>Petrol</td>\n",
       "      <td>1.3</td>\n",
       "      <td>0.321884</td>\n",
       "      <td>-0.411095</td>\n",
       "      <td>Variator</td>\n",
       "      <td>Front</td>\n",
       "      <td>04</td>\n",
       "      <td>Black</td>\n",
       "      <td>-1.194937</td>\n",
       "      <td>9.043932</td>\n",
       "      <td>20</td>\n",
       "      <td>3</td>\n",
       "      <td>0</td>\n",
       "      <td>5</td>\n",
       "      <td>18</td>\n",
       "      <td>3</td>\n",
       "      <td>1</td>\n",
       "      <td>2</td>\n",
       "      <td>1</td>\n",
       "    </tr>\n",
       "    <tr>\n",
       "      <th>3</th>\n",
       "      <td>0.606949</td>\n",
       "      <td>FORD</td>\n",
       "      <td>-0.173337</td>\n",
       "      <td>Jeep</td>\n",
       "      <td>Yes</td>\n",
       "      <td>Hybrid</td>\n",
       "      <td>2.5</td>\n",
       "      <td>0.133949</td>\n",
       "      <td>-0.411095</td>\n",
       "      <td>Automatic</td>\n",
       "      <td>4x4</td>\n",
       "      <td>04</td>\n",
       "      <td>White</td>\n",
       "      <td>-1.699806</td>\n",
       "      <td>8.190632</td>\n",
       "      <td>16</td>\n",
       "      <td>4</td>\n",
       "      <td>1</td>\n",
       "      <td>2</td>\n",
       "      <td>42</td>\n",
       "      <td>0</td>\n",
       "      <td>0</td>\n",
       "      <td>2</td>\n",
       "      <td>14</td>\n",
       "    </tr>\n",
       "    <tr>\n",
       "      <th>4</th>\n",
       "      <td>-0.291683</td>\n",
       "      <td>HONDA</td>\n",
       "      <td>0.540397</td>\n",
       "      <td>Hatchback</td>\n",
       "      <td>Yes</td>\n",
       "      <td>Petrol</td>\n",
       "      <td>1.3</td>\n",
       "      <td>-0.332738</td>\n",
       "      <td>-0.411095</td>\n",
       "      <td>Automatic</td>\n",
       "      <td>Front</td>\n",
       "      <td>04</td>\n",
       "      <td>Silver</td>\n",
       "      <td>-0.690069</td>\n",
       "      <td>9.369564</td>\n",
       "      <td>20</td>\n",
       "      <td>3</td>\n",
       "      <td>1</td>\n",
       "      <td>5</td>\n",
       "      <td>18</td>\n",
       "      <td>0</td>\n",
       "      <td>1</td>\n",
       "      <td>2</td>\n",
       "      <td>12</td>\n",
       "    </tr>\n",
       "  </tbody>\n",
       "</table>\n",
       "</div>"
      ],
      "text/plain": [
       "       Levy Manufacturer  Prod_year   Category Leather_interior Fuel_type  \\\n",
       "0  1.766963        LEXUS  -0.411248       Jeep              Yes    Hybrid   \n",
       "1  0.943936    CHEVROLET  -0.173337       Jeep               No    Petrol   \n",
       "2 -1.255121        HONDA  -1.362894  Hatchback               No    Petrol   \n",
       "3  0.606949         FORD  -0.173337       Jeep              Yes    Hybrid   \n",
       "4 -0.291683        HONDA   0.540397  Hatchback              Yes    Petrol   \n",
       "\n",
       "  Engine_volume   Mileage  Cylinders Gear_box_type Drive_wheels Doors   Color  \\\n",
       "0           3.5  0.237134   1.375313     Automatic          4x4    04  Silver   \n",
       "1             3  0.273438   1.375313     Tiptronic          4x4    04   Black   \n",
       "2           1.3  0.321884  -0.411095      Variator        Front    04   Black   \n",
       "3           2.5  0.133949  -0.411095     Automatic          4x4    04   White   \n",
       "4           1.3 -0.332738  -0.411095     Automatic        Front    04  Silver   \n",
       "\n",
       "    Airbags  Price_log  Manufacturer_le  Category_le  Leather_interior_le  \\\n",
       "0  1.329406   9.497622               29            4                    1   \n",
       "1  0.319668   9.718422                8            4                    0   \n",
       "2 -1.194937   9.043932               20            3                    0   \n",
       "3 -1.699806   8.190632               16            4                    1   \n",
       "4 -0.690069   9.369564               20            3                    1   \n",
       "\n",
       "   Fuel_type_le  Engine_volume_le  Gear_box_type_le  Drive_wheels_le  \\\n",
       "0             2                58                 0                0   \n",
       "1             5                52                 2                0   \n",
       "2             5                18                 3                1   \n",
       "3             2                42                 0                0   \n",
       "4             5                18                 0                1   \n",
       "\n",
       "   Doors_le  Color_le  \n",
       "0         2        12  \n",
       "1         2         1  \n",
       "2         2         1  \n",
       "3         2        14  \n",
       "4         2        12  "
      ]
     },
     "execution_count": 55,
     "metadata": {},
     "output_type": "execute_result"
    }
   ],
   "source": [
    "df.head()"
   ]
  },
  {
   "cell_type": "markdown",
   "metadata": {},
   "source": [
    "Vamos a eliminar las columnas Manufacturer, Category, Leather_interior, Fuel_type, Engine_volume, Gear_box_type, Drive_wheels, Doors y Color, ya que los modelos que aplicaremos a partir de ahora no serán capaces de leerlos. Nos quedaremos con las nuevas columnas de cada (.._le)."
   ]
  },
  {
   "cell_type": "code",
   "execution_count": 56,
   "metadata": {},
   "outputs": [
    {
     "data": {
      "text/html": [
       "<div>\n",
       "<style scoped>\n",
       "    .dataframe tbody tr th:only-of-type {\n",
       "        vertical-align: middle;\n",
       "    }\n",
       "\n",
       "    .dataframe tbody tr th {\n",
       "        vertical-align: top;\n",
       "    }\n",
       "\n",
       "    .dataframe thead th {\n",
       "        text-align: right;\n",
       "    }\n",
       "</style>\n",
       "<table border=\"1\" class=\"dataframe\">\n",
       "  <thead>\n",
       "    <tr style=\"text-align: right;\">\n",
       "      <th></th>\n",
       "      <th>Levy</th>\n",
       "      <th>Prod_year</th>\n",
       "      <th>Mileage</th>\n",
       "      <th>Cylinders</th>\n",
       "      <th>Airbags</th>\n",
       "      <th>Price_log</th>\n",
       "      <th>Manufacturer_le</th>\n",
       "      <th>Category_le</th>\n",
       "      <th>Leather_interior_le</th>\n",
       "      <th>Fuel_type_le</th>\n",
       "      <th>Engine_volume_le</th>\n",
       "      <th>Gear_box_type_le</th>\n",
       "      <th>Drive_wheels_le</th>\n",
       "      <th>Doors_le</th>\n",
       "      <th>Color_le</th>\n",
       "    </tr>\n",
       "  </thead>\n",
       "  <tbody>\n",
       "    <tr>\n",
       "      <th>0</th>\n",
       "      <td>1.766963</td>\n",
       "      <td>-0.411248</td>\n",
       "      <td>0.237134</td>\n",
       "      <td>1.375313</td>\n",
       "      <td>1.329406</td>\n",
       "      <td>9.497622</td>\n",
       "      <td>29</td>\n",
       "      <td>4</td>\n",
       "      <td>1</td>\n",
       "      <td>2</td>\n",
       "      <td>58</td>\n",
       "      <td>0</td>\n",
       "      <td>0</td>\n",
       "      <td>2</td>\n",
       "      <td>12</td>\n",
       "    </tr>\n",
       "    <tr>\n",
       "      <th>1</th>\n",
       "      <td>0.943936</td>\n",
       "      <td>-0.173337</td>\n",
       "      <td>0.273438</td>\n",
       "      <td>1.375313</td>\n",
       "      <td>0.319668</td>\n",
       "      <td>9.718422</td>\n",
       "      <td>8</td>\n",
       "      <td>4</td>\n",
       "      <td>0</td>\n",
       "      <td>5</td>\n",
       "      <td>52</td>\n",
       "      <td>2</td>\n",
       "      <td>0</td>\n",
       "      <td>2</td>\n",
       "      <td>1</td>\n",
       "    </tr>\n",
       "  </tbody>\n",
       "</table>\n",
       "</div>"
      ],
      "text/plain": [
       "       Levy  Prod_year   Mileage  Cylinders   Airbags  Price_log  \\\n",
       "0  1.766963  -0.411248  0.237134   1.375313  1.329406   9.497622   \n",
       "1  0.943936  -0.173337  0.273438   1.375313  0.319668   9.718422   \n",
       "\n",
       "   Manufacturer_le  Category_le  Leather_interior_le  Fuel_type_le  \\\n",
       "0               29            4                    1             2   \n",
       "1                8            4                    0             5   \n",
       "\n",
       "   Engine_volume_le  Gear_box_type_le  Drive_wheels_le  Doors_le  Color_le  \n",
       "0                58                 0                0         2        12  \n",
       "1                52                 2                0         2         1  "
      ]
     },
     "execution_count": 56,
     "metadata": {},
     "output_type": "execute_result"
    }
   ],
   "source": [
    "df.drop([\"Manufacturer\", \"Category\", \"Leather_interior\", \"Fuel_type\", \"Engine_volume\", \"Gear_box_type\", \"Drive_wheels\", \"Doors\", \"Color\"], axis = 1, inplace = True)\n",
    "df.head(2)"
   ]
  },
  {
   "cell_type": "markdown",
   "metadata": {},
   "source": [
    "\n",
    "##### <font color=green> Guardad el dataframe, donde deberíais tener las variables estadandarizas, normalizadas y codificadas en un csv para usarlo en el próximo pairprogramming"
   ]
  },
  {
   "cell_type": "code",
   "execution_count": 57,
   "metadata": {},
   "outputs": [],
   "source": [
    "df.to_pickle('datos/cars_price_norm_est_cod.pkl')"
   ]
  },
  {
   "cell_type": "code",
   "execution_count": 58,
   "metadata": {},
   "outputs": [],
   "source": [
    "df.to_csv('datos/cars_price_norm_est_cod.csv')"
   ]
  }
 ],
 "metadata": {
  "kernelspec": {
   "display_name": "Python 3.9.7 ('base')",
   "language": "python",
   "name": "python3"
  },
  "language_info": {
   "codemirror_mode": {
    "name": "ipython",
    "version": 3
   },
   "file_extension": ".py",
   "mimetype": "text/x-python",
   "name": "python",
   "nbconvert_exporter": "python",
   "pygments_lexer": "ipython3",
   "version": "3.9.7"
  },
  "orig_nbformat": 4,
  "vscode": {
   "interpreter": {
    "hash": "8a25273be94c3f568d6307c1258330d891164ee9551e6d3c1016426c9aa8bf5c"
   }
  }
 },
 "nbformat": 4,
 "nbformat_minor": 2
}
