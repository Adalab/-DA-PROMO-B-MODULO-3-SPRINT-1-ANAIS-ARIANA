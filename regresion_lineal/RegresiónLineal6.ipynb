{
 "cells": [
  {
   "cell_type": "code",
   "execution_count": 192,
   "metadata": {},
   "outputs": [],
   "source": [
    "import pandas as pd\n",
    "import random \n",
    "import seaborn as sns\n",
    "import numpy as np\n",
    "import matplotlib.pyplot as plt\n",
    "from scipy import stats\n",
    "import statsmodels.api as sm\n",
    "\n",
    "import researchpy as rp\n",
    "import scipy.stats as stats\n",
    "from scipy.stats import levene\n",
    "from scipy.stats import kstest\n",
    "from scipy.stats import skew\n",
    "\n",
    "import math \n",
    "from sklearn.preprocessing import MinMaxScaler\n",
    "from sklearn.preprocessing import StandardScaler\n",
    "from sklearn.preprocessing import RobustScaler\n",
    "\n",
    "\n",
    "import warnings\n",
    "warnings.filterwarnings('ignore')\n",
    "\n",
    "plt.rcParams[\"figure.figsize\"] = (20,10) \n",
    "pd.options.display.max_columns = None"
   ]
  },
  {
   "cell_type": "markdown",
   "metadata": {},
   "source": [
    "En este ejercicio de pair programming seguiréis usando el dataset que seleccionasteis.\n"
   ]
  },
  {
   "cell_type": "code",
   "execution_count": 193,
   "metadata": {},
   "outputs": [
    {
     "data": {
      "text/html": [
       "<div>\n",
       "<style scoped>\n",
       "    .dataframe tbody tr th:only-of-type {\n",
       "        vertical-align: middle;\n",
       "    }\n",
       "\n",
       "    .dataframe tbody tr th {\n",
       "        vertical-align: top;\n",
       "    }\n",
       "\n",
       "    .dataframe thead th {\n",
       "        text-align: right;\n",
       "    }\n",
       "</style>\n",
       "<table border=\"1\" class=\"dataframe\">\n",
       "  <thead>\n",
       "    <tr style=\"text-align: right;\">\n",
       "      <th></th>\n",
       "      <th>Price</th>\n",
       "      <th>Levy</th>\n",
       "      <th>Manufacturer</th>\n",
       "      <th>Prod. year</th>\n",
       "      <th>Category</th>\n",
       "      <th>Leather interior</th>\n",
       "      <th>Fuel type</th>\n",
       "      <th>Engine volume</th>\n",
       "      <th>Mileage</th>\n",
       "      <th>Cylinders</th>\n",
       "      <th>Gear box type</th>\n",
       "      <th>Drive wheels</th>\n",
       "      <th>Doors</th>\n",
       "      <th>Color</th>\n",
       "      <th>Airbags</th>\n",
       "      <th>Price_log</th>\n",
       "    </tr>\n",
       "  </thead>\n",
       "  <tbody>\n",
       "    <tr>\n",
       "      <th>0</th>\n",
       "      <td>13328</td>\n",
       "      <td>1399.0</td>\n",
       "      <td>LEXUS</td>\n",
       "      <td>2010</td>\n",
       "      <td>Jeep</td>\n",
       "      <td>Yes</td>\n",
       "      <td>Hybrid</td>\n",
       "      <td>3.5</td>\n",
       "      <td>186005.0</td>\n",
       "      <td>6.0</td>\n",
       "      <td>Automatic</td>\n",
       "      <td>4x4</td>\n",
       "      <td>04</td>\n",
       "      <td>Silver</td>\n",
       "      <td>12</td>\n",
       "      <td>9.497622</td>\n",
       "    </tr>\n",
       "    <tr>\n",
       "      <th>1</th>\n",
       "      <td>16621</td>\n",
       "      <td>1018.0</td>\n",
       "      <td>CHEVROLET</td>\n",
       "      <td>2011</td>\n",
       "      <td>Jeep</td>\n",
       "      <td>No</td>\n",
       "      <td>Petrol</td>\n",
       "      <td>3</td>\n",
       "      <td>192000.0</td>\n",
       "      <td>6.0</td>\n",
       "      <td>Tiptronic</td>\n",
       "      <td>4x4</td>\n",
       "      <td>04</td>\n",
       "      <td>Black</td>\n",
       "      <td>8</td>\n",
       "      <td>9.718422</td>\n",
       "    </tr>\n",
       "  </tbody>\n",
       "</table>\n",
       "</div>"
      ],
      "text/plain": [
       "   Price    Levy Manufacturer  Prod. year Category Leather interior Fuel type  \\\n",
       "0  13328  1399.0        LEXUS        2010     Jeep              Yes    Hybrid   \n",
       "1  16621  1018.0    CHEVROLET        2011     Jeep               No    Petrol   \n",
       "\n",
       "  Engine volume   Mileage  Cylinders Gear box type Drive wheels Doors   Color  \\\n",
       "0           3.5  186005.0        6.0     Automatic          4x4    04  Silver   \n",
       "1             3  192000.0        6.0     Tiptronic          4x4    04   Black   \n",
       "\n",
       "   Airbags  Price_log  \n",
       "0       12   9.497622  \n",
       "1        8   9.718422  "
      ]
     },
     "execution_count": 193,
     "metadata": {},
     "output_type": "execute_result"
    }
   ],
   "source": [
    "df = pd.read_pickle(\"datos/cars_price3.pkl\")\n",
    "df.head(2)"
   ]
  },
  {
   "cell_type": "markdown",
   "metadata": {},
   "source": [
    "chequeamos de nuevo los nulos:"
   ]
  },
  {
   "cell_type": "code",
   "execution_count": 194,
   "metadata": {},
   "outputs": [
    {
     "data": {
      "text/plain": [
       "Price               0\n",
       "Levy                0\n",
       "Manufacturer        0\n",
       "Prod. year          0\n",
       "Category            0\n",
       "Leather interior    0\n",
       "Fuel type           0\n",
       "Engine volume       0\n",
       "Mileage             0\n",
       "Cylinders           0\n",
       "Gear box type       0\n",
       "Drive wheels        0\n",
       "Doors               0\n",
       "Color               0\n",
       "Airbags             0\n",
       "Price_log           0\n",
       "dtype: int64"
      ]
     },
     "execution_count": 194,
     "metadata": {},
     "output_type": "execute_result"
    }
   ],
   "source": [
    "df.isnull().sum()"
   ]
  },
  {
   "cell_type": "code",
   "execution_count": 195,
   "metadata": {},
   "outputs": [
    {
     "data": {
      "text/plain": [
       "(13584, 16)"
      ]
     },
     "execution_count": 195,
     "metadata": {},
     "output_type": "execute_result"
    }
   ],
   "source": [
    "df.shape"
   ]
  },
  {
   "cell_type": "markdown",
   "metadata": {},
   "source": [
    "En vuestro dataset habréis identificado unas variables predictoras y una variable respuesta. Los objetivos del pair programming de hoy son:\n",
    "Sobre las variables predictoras, en este caso deberéis estandarizar estas variables. De nuevo, usad el método que prefiráis.\n"
   ]
  },
  {
   "cell_type": "code",
   "execution_count": 196,
   "metadata": {},
   "outputs": [
    {
     "data": {
      "text/plain": [
       "Price                  int64\n",
       "Levy                 float64\n",
       "Manufacturer          object\n",
       "Prod. year             int64\n",
       "Category              object\n",
       "Leather interior      object\n",
       "Fuel type             object\n",
       "Engine volume         object\n",
       "Mileage              float64\n",
       "Cylinders            float64\n",
       "Gear box type         object\n",
       "Drive wheels          object\n",
       "Doors               category\n",
       "Color                 object\n",
       "Airbags                int64\n",
       "Price_log            float64\n",
       "dtype: object"
      ]
     },
     "execution_count": 196,
     "metadata": {},
     "output_type": "execute_result"
    }
   ],
   "source": [
    "df.dtypes"
   ]
  },
  {
   "cell_type": "markdown",
   "metadata": {},
   "source": [
    "### <font color=violet> Manualmente:"
   ]
  },
  {
   "cell_type": "code",
   "execution_count": 197,
   "metadata": {},
   "outputs": [
    {
     "data": {
      "text/html": [
       "<div>\n",
       "<style scoped>\n",
       "    .dataframe tbody tr th:only-of-type {\n",
       "        vertical-align: middle;\n",
       "    }\n",
       "\n",
       "    .dataframe tbody tr th {\n",
       "        vertical-align: top;\n",
       "    }\n",
       "\n",
       "    .dataframe thead th {\n",
       "        text-align: right;\n",
       "    }\n",
       "</style>\n",
       "<table border=\"1\" class=\"dataframe\">\n",
       "  <thead>\n",
       "    <tr style=\"text-align: right;\">\n",
       "      <th></th>\n",
       "      <th>Price</th>\n",
       "      <th>Levy</th>\n",
       "      <th>Prod. year</th>\n",
       "      <th>Mileage</th>\n",
       "      <th>Cylinders</th>\n",
       "      <th>Airbags</th>\n",
       "      <th>Price_log</th>\n",
       "    </tr>\n",
       "  </thead>\n",
       "  <tbody>\n",
       "    <tr>\n",
       "      <th>0</th>\n",
       "      <td>13328</td>\n",
       "      <td>1399.0</td>\n",
       "      <td>2010</td>\n",
       "      <td>186005.0</td>\n",
       "      <td>6.0</td>\n",
       "      <td>12</td>\n",
       "      <td>9.497622</td>\n",
       "    </tr>\n",
       "    <tr>\n",
       "      <th>1</th>\n",
       "      <td>16621</td>\n",
       "      <td>1018.0</td>\n",
       "      <td>2011</td>\n",
       "      <td>192000.0</td>\n",
       "      <td>6.0</td>\n",
       "      <td>8</td>\n",
       "      <td>9.718422</td>\n",
       "    </tr>\n",
       "    <tr>\n",
       "      <th>2</th>\n",
       "      <td>8467</td>\n",
       "      <td>0.0</td>\n",
       "      <td>2006</td>\n",
       "      <td>200000.0</td>\n",
       "      <td>4.0</td>\n",
       "      <td>2</td>\n",
       "      <td>9.043932</td>\n",
       "    </tr>\n",
       "    <tr>\n",
       "      <th>3</th>\n",
       "      <td>3607</td>\n",
       "      <td>862.0</td>\n",
       "      <td>2011</td>\n",
       "      <td>168966.0</td>\n",
       "      <td>4.0</td>\n",
       "      <td>0</td>\n",
       "      <td>8.190632</td>\n",
       "    </tr>\n",
       "    <tr>\n",
       "      <th>4</th>\n",
       "      <td>11726</td>\n",
       "      <td>446.0</td>\n",
       "      <td>2014</td>\n",
       "      <td>91901.0</td>\n",
       "      <td>4.0</td>\n",
       "      <td>4</td>\n",
       "      <td>9.369564</td>\n",
       "    </tr>\n",
       "  </tbody>\n",
       "</table>\n",
       "</div>"
      ],
      "text/plain": [
       "   Price    Levy  Prod. year   Mileage  Cylinders  Airbags  Price_log\n",
       "0  13328  1399.0        2010  186005.0        6.0       12   9.497622\n",
       "1  16621  1018.0        2011  192000.0        6.0        8   9.718422\n",
       "2   8467     0.0        2006  200000.0        4.0        2   9.043932\n",
       "3   3607   862.0        2011  168966.0        4.0        0   8.190632\n",
       "4  11726   446.0        2014   91901.0        4.0        4   9.369564"
      ]
     },
     "execution_count": 197,
     "metadata": {},
     "output_type": "execute_result"
    }
   ],
   "source": [
    "numericas = df.select_dtypes(include = np.number)\n",
    "numericas.head()"
   ]
  },
  {
   "cell_type": "code",
   "execution_count": 198,
   "metadata": {},
   "outputs": [
    {
     "data": {
      "text/plain": [
       "Index(['Price', 'Levy', 'Prod. year', 'Mileage', 'Cylinders', 'Airbags',\n",
       "       'Price_log'],\n",
       "      dtype='object')"
      ]
     },
     "execution_count": 198,
     "metadata": {},
     "output_type": "execute_result"
    }
   ],
   "source": [
    "numericas.columns"
   ]
  },
  {
   "cell_type": "code",
   "execution_count": 199,
   "metadata": {},
   "outputs": [
    {
     "data": {
      "text/html": [
       "<div>\n",
       "<style scoped>\n",
       "    .dataframe tbody tr th:only-of-type {\n",
       "        vertical-align: middle;\n",
       "    }\n",
       "\n",
       "    .dataframe tbody tr th {\n",
       "        vertical-align: top;\n",
       "    }\n",
       "\n",
       "    .dataframe thead th {\n",
       "        text-align: right;\n",
       "    }\n",
       "</style>\n",
       "<table border=\"1\" class=\"dataframe\">\n",
       "  <thead>\n",
       "    <tr style=\"text-align: right;\">\n",
       "      <th></th>\n",
       "      <th>count</th>\n",
       "      <th>mean</th>\n",
       "      <th>std</th>\n",
       "      <th>min</th>\n",
       "      <th>25%</th>\n",
       "      <th>50%</th>\n",
       "      <th>75%</th>\n",
       "      <th>max</th>\n",
       "    </tr>\n",
       "  </thead>\n",
       "  <tbody>\n",
       "    <tr>\n",
       "      <th>Price</th>\n",
       "      <td>13584.0</td>\n",
       "      <td>20756.667329</td>\n",
       "      <td>19024.644961</td>\n",
       "      <td>500.000000</td>\n",
       "      <td>9885.75000</td>\n",
       "      <td>16308.000000</td>\n",
       "      <td>25089.000000</td>\n",
       "      <td>3.089060e+05</td>\n",
       "    </tr>\n",
       "    <tr>\n",
       "      <th>Levy</th>\n",
       "      <td>13584.0</td>\n",
       "      <td>581.027664</td>\n",
       "      <td>462.942608</td>\n",
       "      <td>0.000000</td>\n",
       "      <td>0.00000</td>\n",
       "      <td>640.000000</td>\n",
       "      <td>880.000000</td>\n",
       "      <td>2.151000e+03</td>\n",
       "    </tr>\n",
       "    <tr>\n",
       "      <th>Prod. year</th>\n",
       "      <td>13584.0</td>\n",
       "      <td>2011.728578</td>\n",
       "      <td>4.203401</td>\n",
       "      <td>2001.000000</td>\n",
       "      <td>2010.00000</td>\n",
       "      <td>2012.000000</td>\n",
       "      <td>2015.000000</td>\n",
       "      <td>2.020000e+03</td>\n",
       "    </tr>\n",
       "    <tr>\n",
       "      <th>Mileage</th>\n",
       "      <td>13584.0</td>\n",
       "      <td>146846.679142</td>\n",
       "      <td>165138.041881</td>\n",
       "      <td>0.000000</td>\n",
       "      <td>68000.00000</td>\n",
       "      <td>119386.500000</td>\n",
       "      <td>173101.250000</td>\n",
       "      <td>1.019978e+06</td>\n",
       "    </tr>\n",
       "    <tr>\n",
       "      <th>Cylinders</th>\n",
       "      <td>13584.0</td>\n",
       "      <td>4.460247</td>\n",
       "      <td>1.119606</td>\n",
       "      <td>1.000000</td>\n",
       "      <td>4.00000</td>\n",
       "      <td>4.000000</td>\n",
       "      <td>4.000000</td>\n",
       "      <td>1.600000e+01</td>\n",
       "    </tr>\n",
       "    <tr>\n",
       "      <th>Airbags</th>\n",
       "      <td>13584.0</td>\n",
       "      <td>6.733657</td>\n",
       "      <td>3.961573</td>\n",
       "      <td>0.000000</td>\n",
       "      <td>4.00000</td>\n",
       "      <td>6.000000</td>\n",
       "      <td>12.000000</td>\n",
       "      <td>1.600000e+01</td>\n",
       "    </tr>\n",
       "    <tr>\n",
       "      <th>Price_log</th>\n",
       "      <td>13584.0</td>\n",
       "      <td>9.567687</td>\n",
       "      <td>0.982023</td>\n",
       "      <td>6.214608</td>\n",
       "      <td>9.19885</td>\n",
       "      <td>9.699411</td>\n",
       "      <td>10.130185</td>\n",
       "      <td>1.264079e+01</td>\n",
       "    </tr>\n",
       "  </tbody>\n",
       "</table>\n",
       "</div>"
      ],
      "text/plain": [
       "              count           mean            std          min          25%  \\\n",
       "Price       13584.0   20756.667329   19024.644961   500.000000   9885.75000   \n",
       "Levy        13584.0     581.027664     462.942608     0.000000      0.00000   \n",
       "Prod. year  13584.0    2011.728578       4.203401  2001.000000   2010.00000   \n",
       "Mileage     13584.0  146846.679142  165138.041881     0.000000  68000.00000   \n",
       "Cylinders   13584.0       4.460247       1.119606     1.000000      4.00000   \n",
       "Airbags     13584.0       6.733657       3.961573     0.000000      4.00000   \n",
       "Price_log   13584.0       9.567687       0.982023     6.214608      9.19885   \n",
       "\n",
       "                      50%            75%           max  \n",
       "Price        16308.000000   25089.000000  3.089060e+05  \n",
       "Levy           640.000000     880.000000  2.151000e+03  \n",
       "Prod. year    2012.000000    2015.000000  2.020000e+03  \n",
       "Mileage     119386.500000  173101.250000  1.019978e+06  \n",
       "Cylinders        4.000000       4.000000  1.600000e+01  \n",
       "Airbags          6.000000      12.000000  1.600000e+01  \n",
       "Price_log        9.699411      10.130185  1.264079e+01  "
      ]
     },
     "execution_count": 199,
     "metadata": {},
     "output_type": "execute_result"
    }
   ],
   "source": [
    "numericas.describe().T"
   ]
  },
  {
   "cell_type": "code",
   "execution_count": 200,
   "metadata": {},
   "outputs": [],
   "source": [
    "media = numericas[\"Levy\"].mean()\n",
    "desviacion = numericas[\"Levy\"].std() "
   ]
  },
  {
   "cell_type": "code",
   "execution_count": 201,
   "metadata": {},
   "outputs": [
    {
     "data": {
      "text/html": [
       "<div>\n",
       "<style scoped>\n",
       "    .dataframe tbody tr th:only-of-type {\n",
       "        vertical-align: middle;\n",
       "    }\n",
       "\n",
       "    .dataframe tbody tr th {\n",
       "        vertical-align: top;\n",
       "    }\n",
       "\n",
       "    .dataframe thead th {\n",
       "        text-align: right;\n",
       "    }\n",
       "</style>\n",
       "<table border=\"1\" class=\"dataframe\">\n",
       "  <thead>\n",
       "    <tr style=\"text-align: right;\">\n",
       "      <th></th>\n",
       "      <th>Price</th>\n",
       "      <th>Levy</th>\n",
       "      <th>Prod. year</th>\n",
       "      <th>Mileage</th>\n",
       "      <th>Cylinders</th>\n",
       "      <th>Airbags</th>\n",
       "      <th>Price_log</th>\n",
       "      <th>Levy_esta</th>\n",
       "    </tr>\n",
       "  </thead>\n",
       "  <tbody>\n",
       "    <tr>\n",
       "      <th>0</th>\n",
       "      <td>13328</td>\n",
       "      <td>1399.0</td>\n",
       "      <td>2010</td>\n",
       "      <td>186005.0</td>\n",
       "      <td>6.0</td>\n",
       "      <td>12</td>\n",
       "      <td>9.497622</td>\n",
       "      <td>1.766898</td>\n",
       "    </tr>\n",
       "    <tr>\n",
       "      <th>1</th>\n",
       "      <td>16621</td>\n",
       "      <td>1018.0</td>\n",
       "      <td>2011</td>\n",
       "      <td>192000.0</td>\n",
       "      <td>6.0</td>\n",
       "      <td>8</td>\n",
       "      <td>9.718422</td>\n",
       "      <td>0.943902</td>\n",
       "    </tr>\n",
       "  </tbody>\n",
       "</table>\n",
       "</div>"
      ],
      "text/plain": [
       "   Price    Levy  Prod. year   Mileage  Cylinders  Airbags  Price_log  \\\n",
       "0  13328  1399.0        2010  186005.0        6.0       12   9.497622   \n",
       "1  16621  1018.0        2011  192000.0        6.0        8   9.718422   \n",
       "\n",
       "   Levy_esta  \n",
       "0   1.766898  \n",
       "1   0.943902  "
      ]
     },
     "execution_count": 201,
     "metadata": {},
     "output_type": "execute_result"
    }
   ],
   "source": [
    "numericas[\"Levy_esta\"] = (numericas[\"Levy\"] - media) / desviacion\n",
    "numericas.head(2)"
   ]
  },
  {
   "cell_type": "code",
   "execution_count": 202,
   "metadata": {},
   "outputs": [
    {
     "data": {
      "image/png": "[encoded data removed]",
      "text/plain": [
       "<Figure size 1440x720 with 2 Axes>"
      ]
     },
     "metadata": {
      "needs_background": "light"
     },
     "output_type": "display_data"
    }
   ],
   "source": [
    "fig, axes = plt.subplots(1, 2)\n",
    "\n",
    "axes[0].set_title('Levy original')\n",
    "axes[1].set_title('Levy normalizado')\n",
    "\n",
    "sns.distplot(numericas['Levy'], color = 'blue', ax = axes[0])\n",
    "sns.distplot(numericas['Levy_esta'], color = 'blue', ax = axes[1]);"
   ]
  },
  {
   "cell_type": "markdown",
   "metadata": {},
   "source": [
    "Chequeemos que la media de los datos sea igual a 0 y la desviación igual a 1:"
   ]
  },
  {
   "cell_type": "code",
   "execution_count": 203,
   "metadata": {},
   "outputs": [
    {
     "name": "stdout",
     "output_type": "stream",
     "text": [
      "La media de la columna Levy_esta es:  0.0\n",
      "La desviación estándar de la columna Levy_esta es: 1.0\n"
     ]
    }
   ],
   "source": [
    "print(f'La media de la columna Levy_esta es:  {np.round(numericas[\"Levy_esta\"].mean(),1)}')\n",
    "print(f'La desviación estándar de la columna Levy_esta es: {np.round(numericas[\"Levy_esta\"].std(),1)}')"
   ]
  },
  {
   "cell_type": "markdown",
   "metadata": {},
   "source": [
    "### <font color=violet> Sklearn StandardScaler"
   ]
  },
  {
   "cell_type": "code",
   "execution_count": 204,
   "metadata": {},
   "outputs": [
    {
     "data": {
      "text/html": [
       "<div>\n",
       "<style scoped>\n",
       "    .dataframe tbody tr th:only-of-type {\n",
       "        vertical-align: middle;\n",
       "    }\n",
       "\n",
       "    .dataframe tbody tr th {\n",
       "        vertical-align: top;\n",
       "    }\n",
       "\n",
       "    .dataframe thead th {\n",
       "        text-align: right;\n",
       "    }\n",
       "</style>\n",
       "<table border=\"1\" class=\"dataframe\">\n",
       "  <thead>\n",
       "    <tr style=\"text-align: right;\">\n",
       "      <th></th>\n",
       "      <th>Price</th>\n",
       "      <th>Levy</th>\n",
       "      <th>Prod. year</th>\n",
       "      <th>Mileage</th>\n",
       "      <th>Cylinders</th>\n",
       "      <th>Airbags</th>\n",
       "      <th>Price_log</th>\n",
       "      <th>Levy_esta</th>\n",
       "    </tr>\n",
       "  </thead>\n",
       "  <tbody>\n",
       "    <tr>\n",
       "      <th>0</th>\n",
       "      <td>13328</td>\n",
       "      <td>1399.0</td>\n",
       "      <td>2010</td>\n",
       "      <td>186005.0</td>\n",
       "      <td>6.0</td>\n",
       "      <td>12</td>\n",
       "      <td>9.497622</td>\n",
       "      <td>1.766898</td>\n",
       "    </tr>\n",
       "    <tr>\n",
       "      <th>1</th>\n",
       "      <td>16621</td>\n",
       "      <td>1018.0</td>\n",
       "      <td>2011</td>\n",
       "      <td>192000.0</td>\n",
       "      <td>6.0</td>\n",
       "      <td>8</td>\n",
       "      <td>9.718422</td>\n",
       "      <td>0.943902</td>\n",
       "    </tr>\n",
       "  </tbody>\n",
       "</table>\n",
       "</div>"
      ],
      "text/plain": [
       "   Price    Levy  Prod. year   Mileage  Cylinders  Airbags  Price_log  \\\n",
       "0  13328  1399.0        2010  186005.0        6.0       12   9.497622   \n",
       "1  16621  1018.0        2011  192000.0        6.0        8   9.718422   \n",
       "\n",
       "   Levy_esta  \n",
       "0   1.766898  \n",
       "1   0.943902  "
      ]
     },
     "execution_count": 204,
     "metadata": {},
     "output_type": "execute_result"
    }
   ],
   "source": [
    "numericas.head(2)"
   ]
  },
  {
   "cell_type": "markdown",
   "metadata": {},
   "source": [
    "La estandarización solo se hace para las variables predictoras. Por lo tanto, lo primero que tenemos que hacer es quitar de nuestro dataframe de \"numericas\" las columnas de la variable respuesta, es decir, Price, Price_log y Levy_esta."
   ]
  },
  {
   "cell_type": "code",
   "execution_count": 205,
   "metadata": {},
   "outputs": [
    {
     "data": {
      "text/html": [
       "<div>\n",
       "<style scoped>\n",
       "    .dataframe tbody tr th:only-of-type {\n",
       "        vertical-align: middle;\n",
       "    }\n",
       "\n",
       "    .dataframe tbody tr th {\n",
       "        vertical-align: top;\n",
       "    }\n",
       "\n",
       "    .dataframe thead th {\n",
       "        text-align: right;\n",
       "    }\n",
       "</style>\n",
       "<table border=\"1\" class=\"dataframe\">\n",
       "  <thead>\n",
       "    <tr style=\"text-align: right;\">\n",
       "      <th></th>\n",
       "      <th>Levy</th>\n",
       "      <th>Prod. year</th>\n",
       "      <th>Mileage</th>\n",
       "      <th>Cylinders</th>\n",
       "      <th>Airbags</th>\n",
       "    </tr>\n",
       "  </thead>\n",
       "  <tbody>\n",
       "    <tr>\n",
       "      <th>0</th>\n",
       "      <td>1399.0</td>\n",
       "      <td>2010</td>\n",
       "      <td>186005.0</td>\n",
       "      <td>6.0</td>\n",
       "      <td>12</td>\n",
       "    </tr>\n",
       "    <tr>\n",
       "      <th>1</th>\n",
       "      <td>1018.0</td>\n",
       "      <td>2011</td>\n",
       "      <td>192000.0</td>\n",
       "      <td>6.0</td>\n",
       "      <td>8</td>\n",
       "    </tr>\n",
       "  </tbody>\n",
       "</table>\n",
       "</div>"
      ],
      "text/plain": [
       "     Levy  Prod. year   Mileage  Cylinders  Airbags\n",
       "0  1399.0        2010  186005.0        6.0       12\n",
       "1  1018.0        2011  192000.0        6.0        8"
      ]
     },
     "execution_count": 205,
     "metadata": {},
     "output_type": "execute_result"
    }
   ],
   "source": [
    "numericas.drop([\"Price\", 'Price_log', 'Levy_esta'], axis = 1, inplace = True)\n",
    "numericas.head(2)"
   ]
  },
  {
   "cell_type": "code",
   "execution_count": 206,
   "metadata": {},
   "outputs": [],
   "source": [
    "scaler = StandardScaler()"
   ]
  },
  {
   "cell_type": "code",
   "execution_count": 207,
   "metadata": {},
   "outputs": [
    {
     "data": {
      "text/plain": [
       "StandardScaler()"
      ]
     },
     "execution_count": 207,
     "metadata": {},
     "output_type": "execute_result"
    }
   ],
   "source": [
    "scaler.fit(numericas)"
   ]
  },
  {
   "cell_type": "code",
   "execution_count": 208,
   "metadata": {},
   "outputs": [
    {
     "data": {
      "text/plain": [
       "array([[ 1.76696297, -0.41124831,  0.2371335 ,  1.37531341,  1.32940559],\n",
       "       [ 0.94393649, -0.17333693,  0.2734378 ,  1.37531341,  0.31966836],\n",
       "       [-1.25512113, -1.36289383,  0.3218839 , -0.41109483, -1.19493749],\n",
       "       ...,\n",
       "       [-1.25512113, -2.07662796,  0.44299916,  1.37531341, -1.6998061 ],\n",
       "       [ 0.53998386, -0.17333693,  0.08934261, -0.41109483,  0.31966836],\n",
       "       [ 0.55078473, -0.41124831, -0.18458982, -0.41109483, -0.69006887]])"
      ]
     },
     "execution_count": 208,
     "metadata": {},
     "output_type": "execute_result"
    }
   ],
   "source": [
    "X_escaladas = scaler.transform(numericas)\n",
    "X_escaladas"
   ]
  },
  {
   "cell_type": "code",
   "execution_count": 209,
   "metadata": {},
   "outputs": [
    {
     "data": {
      "text/html": [
       "<div>\n",
       "<style scoped>\n",
       "    .dataframe tbody tr th:only-of-type {\n",
       "        vertical-align: middle;\n",
       "    }\n",
       "\n",
       "    .dataframe tbody tr th {\n",
       "        vertical-align: top;\n",
       "    }\n",
       "\n",
       "    .dataframe thead th {\n",
       "        text-align: right;\n",
       "    }\n",
       "</style>\n",
       "<table border=\"1\" class=\"dataframe\">\n",
       "  <thead>\n",
       "    <tr style=\"text-align: right;\">\n",
       "      <th></th>\n",
       "      <th>Levy</th>\n",
       "      <th>Prod. year</th>\n",
       "      <th>Mileage</th>\n",
       "      <th>Cylinders</th>\n",
       "      <th>Airbags</th>\n",
       "    </tr>\n",
       "  </thead>\n",
       "  <tbody>\n",
       "    <tr>\n",
       "      <th>0</th>\n",
       "      <td>1.766963</td>\n",
       "      <td>-0.411248</td>\n",
       "      <td>0.237134</td>\n",
       "      <td>1.375313</td>\n",
       "      <td>1.329406</td>\n",
       "    </tr>\n",
       "    <tr>\n",
       "      <th>1</th>\n",
       "      <td>0.943936</td>\n",
       "      <td>-0.173337</td>\n",
       "      <td>0.273438</td>\n",
       "      <td>1.375313</td>\n",
       "      <td>0.319668</td>\n",
       "    </tr>\n",
       "  </tbody>\n",
       "</table>\n",
       "</div>"
      ],
      "text/plain": [
       "       Levy  Prod. year   Mileage  Cylinders   Airbags\n",
       "0  1.766963   -0.411248  0.237134   1.375313  1.329406\n",
       "1  0.943936   -0.173337  0.273438   1.375313  0.319668"
      ]
     },
     "execution_count": 209,
     "metadata": {},
     "output_type": "execute_result"
    }
   ],
   "source": [
    "numericas_estandar = pd.DataFrame(X_escaladas, columns = numericas.columns)\n",
    "numericas_estandar.head(2)"
   ]
  },
  {
   "cell_type": "markdown",
   "metadata": {},
   "source": [
    "Sacamos los valores de media y desviación estándar para las columnas numéricas estandarizadas"
   ]
  },
  {
   "cell_type": "code",
   "execution_count": 210,
   "metadata": {},
   "outputs": [
    {
     "name": "stdout",
     "output_type": "stream",
     "text": [
      "La media de la columna Levy es:  2.5724907088697477e-15\n",
      "La desviación estándar de la columna Levy es: 1.0000368100418087\n",
      "-------------------------------------------------------------\n",
      "La media de la columna Prod. year es:  -4.9995016633348446e-15\n",
      "La desviación estándar de la columna Prod. year es: 1.0000368100418044\n",
      "-------------------------------------------------------------\n",
      "La media de la columna Mileage es:  8.781296917203208e-17\n",
      "La desviación estándar de la columna Mileage es: 1.000036810041796\n",
      "-------------------------------------------------------------\n",
      "La media de la columna Cylinders es:  -1.6560172942399088e-15\n",
      "La desviación estándar de la columna Cylinders es: 1.000036810041921\n",
      "-------------------------------------------------------------\n",
      "La media de la columna Airbags es:  6.6328143082637355e-16\n",
      "La desviación estándar de la columna Airbags es: 1.0000368100418204\n",
      "-------------------------------------------------------------\n"
     ]
    }
   ],
   "source": [
    "for columna in numericas_estandar.columns:\n",
    "    print(f'La media de la columna {columna} es:  {numericas_estandar[columna].mean()}')\n",
    "    print(f'La desviación estándar de la columna {columna} es: {numericas_estandar[columna].std()}')\n",
    "    print(\"-------------------------------------------------------------\")"
   ]
  },
  {
   "cell_type": "markdown",
   "metadata": {},
   "source": [
    "Vamos a comprobar visualmente que todas nuestras columnas están en las mismas unidades."
   ]
  },
  {
   "cell_type": "code",
   "execution_count": 211,
   "metadata": {},
   "outputs": [
    {
     "data": {
      "text/html": [
       "<div>\n",
       "<style scoped>\n",
       "    .dataframe tbody tr th:only-of-type {\n",
       "        vertical-align: middle;\n",
       "    }\n",
       "\n",
       "    .dataframe tbody tr th {\n",
       "        vertical-align: top;\n",
       "    }\n",
       "\n",
       "    .dataframe thead th {\n",
       "        text-align: right;\n",
       "    }\n",
       "</style>\n",
       "<table border=\"1\" class=\"dataframe\">\n",
       "  <thead>\n",
       "    <tr style=\"text-align: right;\">\n",
       "      <th></th>\n",
       "      <th>Levy</th>\n",
       "      <th>Prod. year</th>\n",
       "      <th>Mileage</th>\n",
       "      <th>Cylinders</th>\n",
       "      <th>Airbags</th>\n",
       "    </tr>\n",
       "  </thead>\n",
       "  <tbody>\n",
       "    <tr>\n",
       "      <th>0</th>\n",
       "      <td>1.766963</td>\n",
       "      <td>-0.411248</td>\n",
       "      <td>0.237134</td>\n",
       "      <td>1.375313</td>\n",
       "      <td>1.329406</td>\n",
       "    </tr>\n",
       "    <tr>\n",
       "      <th>1</th>\n",
       "      <td>0.943936</td>\n",
       "      <td>-0.173337</td>\n",
       "      <td>0.273438</td>\n",
       "      <td>1.375313</td>\n",
       "      <td>0.319668</td>\n",
       "    </tr>\n",
       "  </tbody>\n",
       "</table>\n",
       "</div>"
      ],
      "text/plain": [
       "       Levy  Prod. year   Mileage  Cylinders   Airbags\n",
       "0  1.766963   -0.411248  0.237134   1.375313  1.329406\n",
       "1  0.943936   -0.173337  0.273438   1.375313  0.319668"
      ]
     },
     "execution_count": 211,
     "metadata": {},
     "output_type": "execute_result"
    }
   ],
   "source": [
    "numericas_estandar.head(2)"
   ]
  },
  {
   "cell_type": "code",
   "execution_count": 212,
   "metadata": {},
   "outputs": [
    {
     "data": {
      "text/html": [
       "<div>\n",
       "<style scoped>\n",
       "    .dataframe tbody tr th:only-of-type {\n",
       "        vertical-align: middle;\n",
       "    }\n",
       "\n",
       "    .dataframe tbody tr th {\n",
       "        vertical-align: top;\n",
       "    }\n",
       "\n",
       "    .dataframe thead th {\n",
       "        text-align: right;\n",
       "    }\n",
       "</style>\n",
       "<table border=\"1\" class=\"dataframe\">\n",
       "  <thead>\n",
       "    <tr style=\"text-align: right;\">\n",
       "      <th></th>\n",
       "      <th>count</th>\n",
       "      <th>mean</th>\n",
       "      <th>std</th>\n",
       "      <th>min</th>\n",
       "      <th>25%</th>\n",
       "      <th>50%</th>\n",
       "      <th>75%</th>\n",
       "      <th>max</th>\n",
       "    </tr>\n",
       "  </thead>\n",
       "  <tbody>\n",
       "    <tr>\n",
       "      <th>Levy</th>\n",
       "      <td>13584.0</td>\n",
       "      <td>2.572491e-15</td>\n",
       "      <td>1.000037</td>\n",
       "      <td>-1.255121</td>\n",
       "      <td>-1.255121</td>\n",
       "      <td>0.127391</td>\n",
       "      <td>0.645832</td>\n",
       "      <td>3.391414</td>\n",
       "    </tr>\n",
       "    <tr>\n",
       "      <th>Prod. year</th>\n",
       "      <td>13584.0</td>\n",
       "      <td>-4.999502e-15</td>\n",
       "      <td>1.000037</td>\n",
       "      <td>-2.552451</td>\n",
       "      <td>-0.411248</td>\n",
       "      <td>0.064574</td>\n",
       "      <td>0.778309</td>\n",
       "      <td>1.967865</td>\n",
       "    </tr>\n",
       "    <tr>\n",
       "      <th>Mileage</th>\n",
       "      <td>13584.0</td>\n",
       "      <td>8.781297e-17</td>\n",
       "      <td>1.000037</td>\n",
       "      <td>-0.889269</td>\n",
       "      <td>-0.477477</td>\n",
       "      <td>-0.166292</td>\n",
       "      <td>0.158991</td>\n",
       "      <td>5.287479</td>\n",
       "    </tr>\n",
       "    <tr>\n",
       "      <th>Cylinders</th>\n",
       "      <td>13584.0</td>\n",
       "      <td>-1.656017e-15</td>\n",
       "      <td>1.000037</td>\n",
       "      <td>-3.090707</td>\n",
       "      <td>-0.411095</td>\n",
       "      <td>-0.411095</td>\n",
       "      <td>-0.411095</td>\n",
       "      <td>10.307355</td>\n",
       "    </tr>\n",
       "    <tr>\n",
       "      <th>Airbags</th>\n",
       "      <td>13584.0</td>\n",
       "      <td>6.632814e-16</td>\n",
       "      <td>1.000037</td>\n",
       "      <td>-1.699806</td>\n",
       "      <td>-0.690069</td>\n",
       "      <td>-0.185200</td>\n",
       "      <td>1.329406</td>\n",
       "      <td>2.339143</td>\n",
       "    </tr>\n",
       "  </tbody>\n",
       "</table>\n",
       "</div>"
      ],
      "text/plain": [
       "              count          mean       std       min       25%       50%  \\\n",
       "Levy        13584.0  2.572491e-15  1.000037 -1.255121 -1.255121  0.127391   \n",
       "Prod. year  13584.0 -4.999502e-15  1.000037 -2.552451 -0.411248  0.064574   \n",
       "Mileage     13584.0  8.781297e-17  1.000037 -0.889269 -0.477477 -0.166292   \n",
       "Cylinders   13584.0 -1.656017e-15  1.000037 -3.090707 -0.411095 -0.411095   \n",
       "Airbags     13584.0  6.632814e-16  1.000037 -1.699806 -0.690069 -0.185200   \n",
       "\n",
       "                 75%        max  \n",
       "Levy        0.645832   3.391414  \n",
       "Prod. year  0.778309   1.967865  \n",
       "Mileage     0.158991   5.287479  \n",
       "Cylinders  -0.411095  10.307355  \n",
       "Airbags     1.329406   2.339143  "
      ]
     },
     "execution_count": 212,
     "metadata": {},
     "output_type": "execute_result"
    }
   ],
   "source": [
    "numericas_estandar.describe().T"
   ]
  },
  {
   "cell_type": "code",
   "execution_count": 213,
   "metadata": {},
   "outputs": [],
   "source": [
    "#fig, axes = plt.subplots(nrows = 4, ncols = 2, figsize = (30, 10))\n",
    "\n",
    "#columnas_estandar = numericas_estandar.columns\n",
    "#axes = axes.flat\n",
    "\n",
    "\n",
    "#for i, colum in enumerate(columnas_estandar): \n",
    "    #sns.histplot(\n",
    "       # data = numericas_estandar,\n",
    "       # x = colum,\n",
    "       # kde = True,  \n",
    "       # line_kws = {\"linewidth\": 2}, \n",
    "       # alpha = 0.2, \n",
    "       # ax = axes[i])\n",
    "    \n",
    "    \n",
    "    #axes[i].set_title(colum, fontsize = 15, fontweight = \"bold\")\n",
    "    #axes[i].tick_params(labelsize = 20)\n",
    "    #axes[i].set_xlabel(\"\")\n"
   ]
  },
  {
   "cell_type": "code",
   "execution_count": 214,
   "metadata": {},
   "outputs": [
    {
     "data": {
      "text/plain": [
       "Price                  int64\n",
       "Levy                 float64\n",
       "Manufacturer          object\n",
       "Prod. year             int64\n",
       "Category              object\n",
       "Leather interior      object\n",
       "Fuel type             object\n",
       "Engine volume         object\n",
       "Mileage              float64\n",
       "Cylinders            float64\n",
       "Gear box type         object\n",
       "Drive wheels          object\n",
       "Doors               category\n",
       "Color                 object\n",
       "Airbags                int64\n",
       "Price_log            float64\n",
       "dtype: object"
      ]
     },
     "execution_count": 214,
     "metadata": {},
     "output_type": "execute_result"
    }
   ],
   "source": [
    "df.dtypes"
   ]
  },
  {
   "cell_type": "markdown",
   "metadata": {},
   "source": [
    "### <font color=violet> Sklearn RobustScaler"
   ]
  },
  {
   "cell_type": "code",
   "execution_count": 215,
   "metadata": {},
   "outputs": [],
   "source": [
    "robust = RobustScaler()"
   ]
  },
  {
   "cell_type": "code",
   "execution_count": 216,
   "metadata": {},
   "outputs": [
    {
     "data": {
      "text/plain": [
       "RobustScaler()"
      ]
     },
     "execution_count": 216,
     "metadata": {},
     "output_type": "execute_result"
    }
   ],
   "source": [
    "robust.fit(numericas)"
   ]
  },
  {
   "cell_type": "code",
   "execution_count": 217,
   "metadata": {},
   "outputs": [],
   "source": [
    "X_robust = robust.transform(numericas)"
   ]
  },
  {
   "cell_type": "code",
   "execution_count": 218,
   "metadata": {},
   "outputs": [
    {
     "data": {
      "text/html": [
       "<div>\n",
       "<style scoped>\n",
       "    .dataframe tbody tr th:only-of-type {\n",
       "        vertical-align: middle;\n",
       "    }\n",
       "\n",
       "    .dataframe tbody tr th {\n",
       "        vertical-align: top;\n",
       "    }\n",
       "\n",
       "    .dataframe thead th {\n",
       "        text-align: right;\n",
       "    }\n",
       "</style>\n",
       "<table border=\"1\" class=\"dataframe\">\n",
       "  <thead>\n",
       "    <tr style=\"text-align: right;\">\n",
       "      <th></th>\n",
       "      <th>Levy</th>\n",
       "      <th>Prod. year</th>\n",
       "      <th>Mileage</th>\n",
       "      <th>Cylinders</th>\n",
       "      <th>Airbags</th>\n",
       "    </tr>\n",
       "  </thead>\n",
       "  <tbody>\n",
       "    <tr>\n",
       "      <th>0</th>\n",
       "      <td>0.862500</td>\n",
       "      <td>-0.4</td>\n",
       "      <td>0.633851</td>\n",
       "      <td>2.0</td>\n",
       "      <td>0.75</td>\n",
       "    </tr>\n",
       "    <tr>\n",
       "      <th>1</th>\n",
       "      <td>0.429545</td>\n",
       "      <td>-0.2</td>\n",
       "      <td>0.690891</td>\n",
       "      <td>2.0</td>\n",
       "      <td>0.25</td>\n",
       "    </tr>\n",
       "  </tbody>\n",
       "</table>\n",
       "</div>"
      ],
      "text/plain": [
       "       Levy  Prod. year   Mileage  Cylinders  Airbags\n",
       "0  0.862500        -0.4  0.633851        2.0     0.75\n",
       "1  0.429545        -0.2  0.690891        2.0     0.25"
      ]
     },
     "execution_count": 218,
     "metadata": {},
     "output_type": "execute_result"
    }
   ],
   "source": [
    "numericas_robust = pd.DataFrame(X_robust, columns = numericas.columns)\n",
    "numericas_robust.head(2)"
   ]
  },
  {
   "cell_type": "code",
   "execution_count": 219,
   "metadata": {},
   "outputs": [
    {
     "name": "stdout",
     "output_type": "stream",
     "text": [
      "La media de la columna Levy es:  -0.06701401819177179\n",
      "La desviación estándar de la columna Levy es: 0.5260711459824309\n",
      "-------------------------------------------------------------\n",
      "La media de la columna Prod. year es:  -0.054284452296819434\n",
      "La desviación estándar de la columna Prod. year es: 0.8406801026756521\n",
      "-------------------------------------------------------------\n",
      "La media de la columna Mileage es:  0.2612735732604948\n",
      "La desviación estándar de la columna Mileage es: 1.5712281431584665\n",
      "-------------------------------------------------------------\n",
      "La media de la columna Cylinders es:  0.46024734982332155\n",
      "La desviación estándar de la columna Cylinders es: 1.1196061339070875\n",
      "-------------------------------------------------------------\n",
      "La media de la columna Airbags es:  0.0917071554770318\n",
      "La desviación estándar de la columna Airbags es: 0.4951965626417956\n",
      "-------------------------------------------------------------\n"
     ]
    }
   ],
   "source": [
    "for columna in numericas_robust.columns:\n",
    "    print(f'La media de la columna {columna} es:  {numericas_robust[columna].mean()}')\n",
    "    print(f'La desviación estándar de la columna {columna} es: {numericas_robust[columna].std()}')\n",
    "    print(\"-------------------------------------------------------------\")"
   ]
  },
  {
   "cell_type": "code",
   "execution_count": 220,
   "metadata": {},
   "outputs": [],
   "source": [
    "#fig, axes = plt.subplots(nrows = 3, ncols = 1, figsize = (30, 10))\n",
    "\n",
    "#columnas_robust = numericas_robust.columns\n",
    "#axes = axes.flat\n",
    "\n",
    "\n",
    "#for i, colum in enumerate(columnas_estandar): \n",
    "    #sns.histplot(\n",
    "        #data = numericas_robust,\n",
    "        #x = colum,\n",
    "        #kde = True,  \n",
    "        #line_kws = {\"linewidth\": 2}, \n",
    "        #alpha = 0.2, \n",
    "        #ax = axes[i])\n",
    "    \n",
    "    \n",
    "    #axes[i].set_title(colum, fontsize = 15, fontweight = \"bold\")\n",
    "    #axes[i].tick_params(labelsize = 20)\n",
    "    #axes[i].set_xlabel(\"\")"
   ]
  },
  {
   "cell_type": "code",
   "execution_count": 221,
   "metadata": {},
   "outputs": [
    {
     "data": {
      "text/html": [
       "<div>\n",
       "<style scoped>\n",
       "    .dataframe tbody tr th:only-of-type {\n",
       "        vertical-align: middle;\n",
       "    }\n",
       "\n",
       "    .dataframe tbody tr th {\n",
       "        vertical-align: top;\n",
       "    }\n",
       "\n",
       "    .dataframe thead th {\n",
       "        text-align: right;\n",
       "    }\n",
       "</style>\n",
       "<table border=\"1\" class=\"dataframe\">\n",
       "  <thead>\n",
       "    <tr style=\"text-align: right;\">\n",
       "      <th></th>\n",
       "      <th>Price</th>\n",
       "      <th>Levy</th>\n",
       "      <th>Manufacturer</th>\n",
       "      <th>Prod. year</th>\n",
       "      <th>Category</th>\n",
       "      <th>Leather interior</th>\n",
       "      <th>Fuel type</th>\n",
       "      <th>Engine volume</th>\n",
       "      <th>Mileage</th>\n",
       "      <th>Cylinders</th>\n",
       "      <th>Gear box type</th>\n",
       "      <th>Drive wheels</th>\n",
       "      <th>Doors</th>\n",
       "      <th>Color</th>\n",
       "      <th>Airbags</th>\n",
       "      <th>Price_log</th>\n",
       "    </tr>\n",
       "  </thead>\n",
       "  <tbody>\n",
       "    <tr>\n",
       "      <th>0</th>\n",
       "      <td>13328</td>\n",
       "      <td>1.766963</td>\n",
       "      <td>LEXUS</td>\n",
       "      <td>-0.411248</td>\n",
       "      <td>Jeep</td>\n",
       "      <td>Yes</td>\n",
       "      <td>Hybrid</td>\n",
       "      <td>3.5</td>\n",
       "      <td>0.237134</td>\n",
       "      <td>1.375313</td>\n",
       "      <td>Automatic</td>\n",
       "      <td>4x4</td>\n",
       "      <td>04</td>\n",
       "      <td>Silver</td>\n",
       "      <td>1.329406</td>\n",
       "      <td>9.497622</td>\n",
       "    </tr>\n",
       "    <tr>\n",
       "      <th>1</th>\n",
       "      <td>16621</td>\n",
       "      <td>0.943936</td>\n",
       "      <td>CHEVROLET</td>\n",
       "      <td>-0.173337</td>\n",
       "      <td>Jeep</td>\n",
       "      <td>No</td>\n",
       "      <td>Petrol</td>\n",
       "      <td>3</td>\n",
       "      <td>0.273438</td>\n",
       "      <td>1.375313</td>\n",
       "      <td>Tiptronic</td>\n",
       "      <td>4x4</td>\n",
       "      <td>04</td>\n",
       "      <td>Black</td>\n",
       "      <td>0.319668</td>\n",
       "      <td>9.718422</td>\n",
       "    </tr>\n",
       "    <tr>\n",
       "      <th>2</th>\n",
       "      <td>8467</td>\n",
       "      <td>-1.255121</td>\n",
       "      <td>HONDA</td>\n",
       "      <td>-1.362894</td>\n",
       "      <td>Hatchback</td>\n",
       "      <td>No</td>\n",
       "      <td>Petrol</td>\n",
       "      <td>1.3</td>\n",
       "      <td>0.321884</td>\n",
       "      <td>-0.411095</td>\n",
       "      <td>Variator</td>\n",
       "      <td>Front</td>\n",
       "      <td>04</td>\n",
       "      <td>Black</td>\n",
       "      <td>-1.194937</td>\n",
       "      <td>9.043932</td>\n",
       "    </tr>\n",
       "    <tr>\n",
       "      <th>3</th>\n",
       "      <td>3607</td>\n",
       "      <td>0.606949</td>\n",
       "      <td>FORD</td>\n",
       "      <td>-0.173337</td>\n",
       "      <td>Jeep</td>\n",
       "      <td>Yes</td>\n",
       "      <td>Hybrid</td>\n",
       "      <td>2.5</td>\n",
       "      <td>0.133949</td>\n",
       "      <td>-0.411095</td>\n",
       "      <td>Automatic</td>\n",
       "      <td>4x4</td>\n",
       "      <td>04</td>\n",
       "      <td>White</td>\n",
       "      <td>-1.699806</td>\n",
       "      <td>8.190632</td>\n",
       "    </tr>\n",
       "    <tr>\n",
       "      <th>4</th>\n",
       "      <td>11726</td>\n",
       "      <td>-0.291683</td>\n",
       "      <td>HONDA</td>\n",
       "      <td>0.540397</td>\n",
       "      <td>Hatchback</td>\n",
       "      <td>Yes</td>\n",
       "      <td>Petrol</td>\n",
       "      <td>1.3</td>\n",
       "      <td>-0.332738</td>\n",
       "      <td>-0.411095</td>\n",
       "      <td>Automatic</td>\n",
       "      <td>Front</td>\n",
       "      <td>04</td>\n",
       "      <td>Silver</td>\n",
       "      <td>-0.690069</td>\n",
       "      <td>9.369564</td>\n",
       "    </tr>\n",
       "  </tbody>\n",
       "</table>\n",
       "</div>"
      ],
      "text/plain": [
       "   Price      Levy Manufacturer  Prod. year   Category Leather interior  \\\n",
       "0  13328  1.766963        LEXUS   -0.411248       Jeep              Yes   \n",
       "1  16621  0.943936    CHEVROLET   -0.173337       Jeep               No   \n",
       "2   8467 -1.255121        HONDA   -1.362894  Hatchback               No   \n",
       "3   3607  0.606949         FORD   -0.173337       Jeep              Yes   \n",
       "4  11726 -0.291683        HONDA    0.540397  Hatchback              Yes   \n",
       "\n",
       "  Fuel type Engine volume   Mileage  Cylinders Gear box type Drive wheels  \\\n",
       "0    Hybrid           3.5  0.237134   1.375313     Automatic          4x4   \n",
       "1    Petrol             3  0.273438   1.375313     Tiptronic          4x4   \n",
       "2    Petrol           1.3  0.321884  -0.411095      Variator        Front   \n",
       "3    Hybrid           2.5  0.133949  -0.411095     Automatic          4x4   \n",
       "4    Petrol           1.3 -0.332738  -0.411095     Automatic        Front   \n",
       "\n",
       "  Doors   Color   Airbags  Price_log  \n",
       "0    04  Silver  1.329406   9.497622  \n",
       "1    04   Black  0.319668   9.718422  \n",
       "2    04   Black -1.194937   9.043932  \n",
       "3    04   White -1.699806   8.190632  \n",
       "4    04  Silver -0.690069   9.369564  "
      ]
     },
     "execution_count": 221,
     "metadata": {},
     "output_type": "execute_result"
    }
   ],
   "source": [
    "df[numericas_estandar.columns] = numericas_estandar\n",
    "df.head()"
   ]
  },
  {
   "cell_type": "code",
   "execution_count": 222,
   "metadata": {},
   "outputs": [
    {
     "data": {
      "text/plain": [
       "Price                  int64\n",
       "Levy                 float64\n",
       "Manufacturer          object\n",
       "Prod. year           float64\n",
       "Category              object\n",
       "Leather interior      object\n",
       "Fuel type             object\n",
       "Engine volume         object\n",
       "Mileage              float64\n",
       "Cylinders            float64\n",
       "Gear box type         object\n",
       "Drive wheels          object\n",
       "Doors               category\n",
       "Color                 object\n",
       "Airbags              float64\n",
       "Price_log            float64\n",
       "dtype: object"
      ]
     },
     "execution_count": 222,
     "metadata": {},
     "output_type": "execute_result"
    }
   ],
   "source": [
    "df.dtypes"
   ]
  },
  {
   "cell_type": "markdown",
   "metadata": {},
   "source": [
    "Eliminamos la columna de Price porque ya tenemos Price_log"
   ]
  },
  {
   "cell_type": "code",
   "execution_count": 223,
   "metadata": {},
   "outputs": [],
   "source": [
    "df.drop(\"Price\", axis = 1, inplace = True)"
   ]
  },
  {
   "cell_type": "code",
   "execution_count": 224,
   "metadata": {},
   "outputs": [
    {
     "data": {
      "text/plain": [
       "Index(['Levy', 'Manufacturer', 'Prod. year', 'Category', 'Leather interior',\n",
       "       'Fuel type', 'Engine volume', 'Mileage', 'Cylinders', 'Gear box type',\n",
       "       'Drive wheels', 'Doors', 'Color', 'Airbags', 'Price_log'],\n",
       "      dtype='object')"
      ]
     },
     "execution_count": 224,
     "metadata": {},
     "output_type": "execute_result"
    }
   ],
   "source": [
    "df.columns"
   ]
  },
  {
   "cell_type": "markdown",
   "metadata": {},
   "source": [
    "chequeamos de nuevo los nulos:"
   ]
  },
  {
   "cell_type": "code",
   "execution_count": 225,
   "metadata": {},
   "outputs": [
    {
     "data": {
      "text/plain": [
       "Levy                3707\n",
       "Manufacturer           0\n",
       "Prod. year          3707\n",
       "Category               0\n",
       "Leather interior       0\n",
       "Fuel type              0\n",
       "Engine volume          0\n",
       "Mileage             3707\n",
       "Cylinders           3707\n",
       "Gear box type          0\n",
       "Drive wheels           0\n",
       "Doors                  0\n",
       "Color                  0\n",
       "Airbags             3707\n",
       "Price_log              0\n",
       "dtype: int64"
      ]
     },
     "execution_count": 225,
     "metadata": {},
     "output_type": "execute_result"
    }
   ],
   "source": [
    "df.isnull().sum()"
   ]
  },
  {
   "cell_type": "markdown",
   "metadata": {},
   "source": [
    "procedemos a eliminar los nulos:"
   ]
  },
  {
   "cell_type": "code",
   "execution_count": 226,
   "metadata": {},
   "outputs": [],
   "source": [
    "df = df.dropna(how = \"any\")"
   ]
  },
  {
   "cell_type": "code",
   "execution_count": 227,
   "metadata": {},
   "outputs": [
    {
     "data": {
      "text/plain": [
       "Levy                0\n",
       "Manufacturer        0\n",
       "Prod. year          0\n",
       "Category            0\n",
       "Leather interior    0\n",
       "Fuel type           0\n",
       "Engine volume       0\n",
       "Mileage             0\n",
       "Cylinders           0\n",
       "Gear box type       0\n",
       "Drive wheels        0\n",
       "Doors               0\n",
       "Color               0\n",
       "Airbags             0\n",
       "Price_log           0\n",
       "dtype: int64"
      ]
     },
     "execution_count": 227,
     "metadata": {},
     "output_type": "execute_result"
    }
   ],
   "source": [
    "df.isnull().sum()"
   ]
  },
  {
   "cell_type": "markdown",
   "metadata": {},
   "source": [
    "Guardar en un csv el nuevo dataframe que habéis creado para seguir usándolo en los siguientes pair programmings"
   ]
  },
  {
   "cell_type": "code",
   "execution_count": 228,
   "metadata": {},
   "outputs": [],
   "source": [
    "df.to_pickle('datos/cars_price_norm_est.pkl')"
   ]
  },
  {
   "cell_type": "code",
   "execution_count": 229,
   "metadata": {},
   "outputs": [],
   "source": [
    "df.to_csv('datos/cars_price_norm_est.csv')"
   ]
  }
 ],
 "metadata": {
  "kernelspec": {
   "display_name": "Python 3.9.7 ('base')",
   "language": "python",
   "name": "python3"
  },
  "language_info": {
   "codemirror_mode": {
    "name": "ipython",
    "version": 3
   },
   "file_extension": ".py",
   "mimetype": "text/x-python",
   "name": "python",
   "nbconvert_exporter": "python",
   "pygments_lexer": "ipython3",
   "version": "3.9.7"
  },
  "orig_nbformat": 4,
  "vscode": {
   "interpreter": {
    "hash": "8a25273be94c3f568d6307c1258330d891164ee9551e6d3c1016426c9aa8bf5c"
   }
  }
 },
 "nbformat": 4,
 "nbformat_minor": 2
}
