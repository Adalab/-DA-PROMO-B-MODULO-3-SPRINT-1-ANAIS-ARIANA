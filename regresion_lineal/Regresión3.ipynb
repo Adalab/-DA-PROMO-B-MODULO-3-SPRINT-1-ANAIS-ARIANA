{
 "cells": [
  {
   "cell_type": "markdown",
   "metadata": {},
   "source": [
    "En este ejercicio de pair programming seguiréis usando el dataset que seleccionasteis anteriormente."
   ]
  },
  {
   "cell_type": "code",
   "execution_count": 10,
   "metadata": {},
   "outputs": [],
   "source": [
    "# tratamiento de los datos\n",
    "# ============================================\n",
    "import pandas as pd\n",
    "import numpy as np\n",
    "\n",
    "# librerías para la visualización de los datos\n",
    "# ============================================\n",
    "import matplotlib.pyplot as plt\n",
    "import seaborn as sns\n",
    "\n",
    "from scipy import stats\n",
    "from scipy.stats import skew\n",
    "from scipy.stats import kurtosistest\n",
    "\n",
    "# Establecer tamaño fijo de gráficas\n",
    "# ==================================\n",
    "plt.rcParams[\"figure.figsize\"] = (16,14)\n",
    "\n",
    "# Configuración warnings\n",
    "# ======================\n",
    "import warnings\n",
    "warnings.filterwarnings('ignore')"
   ]
  },
  {
   "cell_type": "code",
   "execution_count": 4,
   "metadata": {},
   "outputs": [
    {
     "data": {
      "text/html": [
       "<div>\n",
       "<style scoped>\n",
       "    .dataframe tbody tr th:only-of-type {\n",
       "        vertical-align: middle;\n",
       "    }\n",
       "\n",
       "    .dataframe tbody tr th {\n",
       "        vertical-align: top;\n",
       "    }\n",
       "\n",
       "    .dataframe thead th {\n",
       "        text-align: right;\n",
       "    }\n",
       "</style>\n",
       "<table border=\"1\" class=\"dataframe\">\n",
       "  <thead>\n",
       "    <tr style=\"text-align: right;\">\n",
       "      <th></th>\n",
       "      <th>Price</th>\n",
       "      <th>Levy</th>\n",
       "      <th>Manufacturer</th>\n",
       "      <th>Model</th>\n",
       "      <th>Prod. year</th>\n",
       "      <th>Category</th>\n",
       "      <th>Leather interior</th>\n",
       "      <th>Fuel type</th>\n",
       "      <th>Engine volume</th>\n",
       "      <th>Mileage</th>\n",
       "      <th>Cylinders</th>\n",
       "      <th>Gear box type</th>\n",
       "      <th>Drive wheels</th>\n",
       "      <th>Doors</th>\n",
       "      <th>Color</th>\n",
       "      <th>Airbags</th>\n",
       "    </tr>\n",
       "    <tr>\n",
       "      <th>ID</th>\n",
       "      <th></th>\n",
       "      <th></th>\n",
       "      <th></th>\n",
       "      <th></th>\n",
       "      <th></th>\n",
       "      <th></th>\n",
       "      <th></th>\n",
       "      <th></th>\n",
       "      <th></th>\n",
       "      <th></th>\n",
       "      <th></th>\n",
       "      <th></th>\n",
       "      <th></th>\n",
       "      <th></th>\n",
       "      <th></th>\n",
       "      <th></th>\n",
       "    </tr>\n",
       "  </thead>\n",
       "  <tbody>\n",
       "    <tr>\n",
       "      <th>45654403</th>\n",
       "      <td>13328</td>\n",
       "      <td>1399</td>\n",
       "      <td>LEXUS</td>\n",
       "      <td>RX 450</td>\n",
       "      <td>2010</td>\n",
       "      <td>Jeep</td>\n",
       "      <td>Yes</td>\n",
       "      <td>Hybrid</td>\n",
       "      <td>3.5</td>\n",
       "      <td>186005</td>\n",
       "      <td>6.0</td>\n",
       "      <td>Automatic</td>\n",
       "      <td>4x4</td>\n",
       "      <td>4</td>\n",
       "      <td>Silver</td>\n",
       "      <td>12</td>\n",
       "    </tr>\n",
       "    <tr>\n",
       "      <th>44731507</th>\n",
       "      <td>16621</td>\n",
       "      <td>1018</td>\n",
       "      <td>CHEVROLET</td>\n",
       "      <td>Equinox</td>\n",
       "      <td>2011</td>\n",
       "      <td>Jeep</td>\n",
       "      <td>No</td>\n",
       "      <td>Petrol</td>\n",
       "      <td>3</td>\n",
       "      <td>192000</td>\n",
       "      <td>6.0</td>\n",
       "      <td>Tiptronic</td>\n",
       "      <td>4x4</td>\n",
       "      <td>4</td>\n",
       "      <td>Black</td>\n",
       "      <td>8</td>\n",
       "    </tr>\n",
       "  </tbody>\n",
       "</table>\n",
       "</div>"
      ],
      "text/plain": [
       "          Price  Levy Manufacturer    Model  Prod. year Category  \\\n",
       "ID                                                                 \n",
       "45654403  13328  1399        LEXUS   RX 450        2010     Jeep   \n",
       "44731507  16621  1018    CHEVROLET  Equinox        2011     Jeep   \n",
       "\n",
       "         Leather interior Fuel type Engine volume  Mileage  Cylinders  \\\n",
       "ID                                                                      \n",
       "45654403              Yes    Hybrid           3.5   186005        6.0   \n",
       "44731507               No    Petrol             3   192000        6.0   \n",
       "\n",
       "         Gear box type Drive wheels  Doors   Color  Airbags  \n",
       "ID                                                           \n",
       "45654403     Automatic          4x4      4  Silver       12  \n",
       "44731507     Tiptronic          4x4      4   Black        8  "
      ]
     },
     "execution_count": 4,
     "metadata": {},
     "output_type": "execute_result"
    }
   ],
   "source": [
    "df = pd.read_csv(\"datos/cars_price1.csv\", index_col = 0)\n",
    "df.head(2)"
   ]
  },
  {
   "cell_type": "markdown",
   "metadata": {},
   "source": [
    "- <font color=violet> Pregunta teórica: ¿Qué diferencia existe entre la covarianza y la correlación?\n"
   ]
  },
  {
   "cell_type": "markdown",
   "metadata": {},
   "source": [
    "En el estudio de la covarianza solo el signo importa, es decir, no hay importancia en el valor numérico. Por otro lado, la correlación nos indica si existe relación entre dos variables y nos indica la fuerza de esa relación. "
   ]
  },
  {
   "cell_type": "markdown",
   "metadata": {},
   "source": [
    "- <font color=violet> Calculad la covarianza y la correlación de nuestro dataset. No nos vale solo con que la calculéis, debéis hacer una interpretación de los resultados obtenidos. Calculad solo la correlación de Pearson.\n"
   ]
  },
  {
   "cell_type": "markdown",
   "metadata": {},
   "source": [
    "Calculamos la covarianza. Recordemos que nos indica la relación de la dirección de las variables:"
   ]
  },
  {
   "cell_type": "code",
   "execution_count": 5,
   "metadata": {},
   "outputs": [
    {
     "data": {
      "text/html": [
       "<div>\n",
       "<style scoped>\n",
       "    .dataframe tbody tr th:only-of-type {\n",
       "        vertical-align: middle;\n",
       "    }\n",
       "\n",
       "    .dataframe tbody tr th {\n",
       "        vertical-align: top;\n",
       "    }\n",
       "\n",
       "    .dataframe thead th {\n",
       "        text-align: right;\n",
       "    }\n",
       "</style>\n",
       "<table border=\"1\" class=\"dataframe\">\n",
       "  <thead>\n",
       "    <tr style=\"text-align: right;\">\n",
       "      <th></th>\n",
       "      <th>Price</th>\n",
       "      <th>Levy</th>\n",
       "      <th>Prod. year</th>\n",
       "      <th>Mileage</th>\n",
       "      <th>Cylinders</th>\n",
       "      <th>Doors</th>\n",
       "      <th>Airbags</th>\n",
       "    </tr>\n",
       "  </thead>\n",
       "  <tbody>\n",
       "    <tr>\n",
       "      <th>Price</th>\n",
       "      <td>3.483682e+08</td>\n",
       "      <td>2.416891e+05</td>\n",
       "      <td>2.360174e+04</td>\n",
       "      <td>-5.817041e+09</td>\n",
       "      <td>3083.945793</td>\n",
       "      <td>-32.087623</td>\n",
       "      <td>-2796.103985</td>\n",
       "    </tr>\n",
       "    <tr>\n",
       "      <th>Levy</th>\n",
       "      <td>2.416891e+05</td>\n",
       "      <td>2.970755e+05</td>\n",
       "      <td>6.934162e+02</td>\n",
       "      <td>-2.116576e+08</td>\n",
       "      <td>150.995691</td>\n",
       "      <td>13.393889</td>\n",
       "      <td>137.076201</td>\n",
       "    </tr>\n",
       "    <tr>\n",
       "      <th>Prod. year</th>\n",
       "      <td>2.360174e+04</td>\n",
       "      <td>6.934162e+02</td>\n",
       "      <td>1.628318e+01</td>\n",
       "      <td>-5.159358e+06</td>\n",
       "      <td>-0.760133</td>\n",
       "      <td>0.177968</td>\n",
       "      <td>2.086351</td>\n",
       "    </tr>\n",
       "    <tr>\n",
       "      <th>Mileage</th>\n",
       "      <td>-5.817041e+09</td>\n",
       "      <td>-2.116576e+08</td>\n",
       "      <td>-5.159358e+06</td>\n",
       "      <td>1.227757e+15</td>\n",
       "      <td>100889.727289</td>\n",
       "      <td>-219699.636632</td>\n",
       "      <td>-270394.957168</td>\n",
       "    </tr>\n",
       "    <tr>\n",
       "      <th>Cylinders</th>\n",
       "      <td>3.083946e+03</td>\n",
       "      <td>1.509957e+02</td>\n",
       "      <td>-7.601325e-01</td>\n",
       "      <td>1.008897e+05</td>\n",
       "      <td>1.397389</td>\n",
       "      <td>-0.022748</td>\n",
       "      <td>0.914010</td>\n",
       "    </tr>\n",
       "    <tr>\n",
       "      <th>Doors</th>\n",
       "      <td>-3.208762e+01</td>\n",
       "      <td>1.339389e+01</td>\n",
       "      <td>1.779684e-01</td>\n",
       "      <td>-2.196996e+05</td>\n",
       "      <td>-0.022748</td>\n",
       "      <td>0.133404</td>\n",
       "      <td>0.009498</td>\n",
       "    </tr>\n",
       "    <tr>\n",
       "      <th>Airbags</th>\n",
       "      <td>-2.796104e+03</td>\n",
       "      <td>1.370762e+02</td>\n",
       "      <td>2.086351e+00</td>\n",
       "      <td>-2.703950e+05</td>\n",
       "      <td>0.914010</td>\n",
       "      <td>0.009498</td>\n",
       "      <td>17.532166</td>\n",
       "    </tr>\n",
       "  </tbody>\n",
       "</table>\n",
       "</div>"
      ],
      "text/plain": [
       "                   Price          Levy    Prod. year       Mileage  \\\n",
       "Price       3.483682e+08  2.416891e+05  2.360174e+04 -5.817041e+09   \n",
       "Levy        2.416891e+05  2.970755e+05  6.934162e+02 -2.116576e+08   \n",
       "Prod. year  2.360174e+04  6.934162e+02  1.628318e+01 -5.159358e+06   \n",
       "Mileage    -5.817041e+09 -2.116576e+08 -5.159358e+06  1.227757e+15   \n",
       "Cylinders   3.083946e+03  1.509957e+02 -7.601325e-01  1.008897e+05   \n",
       "Doors      -3.208762e+01  1.339389e+01  1.779684e-01 -2.196996e+05   \n",
       "Airbags    -2.796104e+03  1.370762e+02  2.086351e+00 -2.703950e+05   \n",
       "\n",
       "                Cylinders          Doors        Airbags  \n",
       "Price         3083.945793     -32.087623   -2796.103985  \n",
       "Levy           150.995691      13.393889     137.076201  \n",
       "Prod. year      -0.760133       0.177968       2.086351  \n",
       "Mileage     100889.727289 -219699.636632 -270394.957168  \n",
       "Cylinders        1.397389      -0.022748       0.914010  \n",
       "Doors           -0.022748       0.133404       0.009498  \n",
       "Airbags          0.914010       0.009498      17.532166  "
      ]
     },
     "execution_count": 5,
     "metadata": {},
     "output_type": "execute_result"
    }
   ],
   "source": [
    "df.cov()"
   ]
  },
  {
   "cell_type": "markdown",
   "metadata": {},
   "source": [
    "- `Price` y `Levy` tienen una covarianza positiva, es decir, cuando aumenta el precio, aumentan los impuestos.\n",
    "- `Price` y `Prod. year` tienen una covarianza positiva, es decir, cuando el precio aumenta, el año de producción también aunmenta.\n",
    "- `Price` y `Mileage` tienen una covarianza negativa, es decir, cuando el precio aumenta, el número de kilómetros disminuye. \n",
    "- `Price` y `Cylinders` tienen una covarianza positiva, es decir, cuando el precio aumenta, aumenta los cilindros.\n",
    "- `Price` y `Doors` tienen una covarianza negativa, es decir, cuando el precio aumenta, el número de puertas disminuye. \n",
    "- `Price` y `Airbags` tienen una covarianza negativa, es decir, cuando el precio aumenta, el número de airbags disminuye. (No tiene mucho sentido)"
   ]
  },
  {
   "cell_type": "markdown",
   "metadata": {},
   "source": [
    "Calculamos la correlación para saber la intensidad de la relación de las variables que nos arroja la covarianza. Recordemos que si llamamos al método y no le pasamos nada dentro de los paréntesis, por defecto nos calculará la correlación de Pearson"
   ]
  },
  {
   "cell_type": "code",
   "execution_count": 6,
   "metadata": {},
   "outputs": [
    {
     "data": {
      "text/html": [
       "<div>\n",
       "<style scoped>\n",
       "    .dataframe tbody tr th:only-of-type {\n",
       "        vertical-align: middle;\n",
       "    }\n",
       "\n",
       "    .dataframe tbody tr th {\n",
       "        vertical-align: top;\n",
       "    }\n",
       "\n",
       "    .dataframe thead th {\n",
       "        text-align: right;\n",
       "    }\n",
       "</style>\n",
       "<table border=\"1\" class=\"dataframe\">\n",
       "  <thead>\n",
       "    <tr style=\"text-align: right;\">\n",
       "      <th></th>\n",
       "      <th>Price</th>\n",
       "      <th>Levy</th>\n",
       "      <th>Prod. year</th>\n",
       "      <th>Mileage</th>\n",
       "      <th>Cylinders</th>\n",
       "      <th>Doors</th>\n",
       "      <th>Airbags</th>\n",
       "    </tr>\n",
       "  </thead>\n",
       "  <tbody>\n",
       "    <tr>\n",
       "      <th>Price</th>\n",
       "      <td>1.000000</td>\n",
       "      <td>0.023758</td>\n",
       "      <td>0.313368</td>\n",
       "      <td>-0.008895</td>\n",
       "      <td>0.139775</td>\n",
       "      <td>-0.004707</td>\n",
       "      <td>-0.035778</td>\n",
       "    </tr>\n",
       "    <tr>\n",
       "      <th>Levy</th>\n",
       "      <td>0.023758</td>\n",
       "      <td>1.000000</td>\n",
       "      <td>0.315276</td>\n",
       "      <td>-0.011083</td>\n",
       "      <td>0.234354</td>\n",
       "      <td>0.067280</td>\n",
       "      <td>0.060064</td>\n",
       "    </tr>\n",
       "    <tr>\n",
       "      <th>Prod. year</th>\n",
       "      <td>0.313368</td>\n",
       "      <td>0.315276</td>\n",
       "      <td>1.000000</td>\n",
       "      <td>-0.036490</td>\n",
       "      <td>-0.159353</td>\n",
       "      <td>0.120750</td>\n",
       "      <td>0.123481</td>\n",
       "    </tr>\n",
       "    <tr>\n",
       "      <th>Mileage</th>\n",
       "      <td>-0.008895</td>\n",
       "      <td>-0.011083</td>\n",
       "      <td>-0.036490</td>\n",
       "      <td>1.000000</td>\n",
       "      <td>0.002436</td>\n",
       "      <td>-0.017167</td>\n",
       "      <td>-0.001843</td>\n",
       "    </tr>\n",
       "    <tr>\n",
       "      <th>Cylinders</th>\n",
       "      <td>0.139775</td>\n",
       "      <td>0.234354</td>\n",
       "      <td>-0.159353</td>\n",
       "      <td>0.002436</td>\n",
       "      <td>1.000000</td>\n",
       "      <td>-0.052686</td>\n",
       "      <td>0.184661</td>\n",
       "    </tr>\n",
       "    <tr>\n",
       "      <th>Doors</th>\n",
       "      <td>-0.004707</td>\n",
       "      <td>0.067280</td>\n",
       "      <td>0.120750</td>\n",
       "      <td>-0.017167</td>\n",
       "      <td>-0.052686</td>\n",
       "      <td>1.000000</td>\n",
       "      <td>0.006211</td>\n",
       "    </tr>\n",
       "    <tr>\n",
       "      <th>Airbags</th>\n",
       "      <td>-0.035778</td>\n",
       "      <td>0.060064</td>\n",
       "      <td>0.123481</td>\n",
       "      <td>-0.001843</td>\n",
       "      <td>0.184661</td>\n",
       "      <td>0.006211</td>\n",
       "      <td>1.000000</td>\n",
       "    </tr>\n",
       "  </tbody>\n",
       "</table>\n",
       "</div>"
      ],
      "text/plain": [
       "               Price      Levy  Prod. year   Mileage  Cylinders     Doors  \\\n",
       "Price       1.000000  0.023758    0.313368 -0.008895   0.139775 -0.004707   \n",
       "Levy        0.023758  1.000000    0.315276 -0.011083   0.234354  0.067280   \n",
       "Prod. year  0.313368  0.315276    1.000000 -0.036490  -0.159353  0.120750   \n",
       "Mileage    -0.008895 -0.011083   -0.036490  1.000000   0.002436 -0.017167   \n",
       "Cylinders   0.139775  0.234354   -0.159353  0.002436   1.000000 -0.052686   \n",
       "Doors      -0.004707  0.067280    0.120750 -0.017167  -0.052686  1.000000   \n",
       "Airbags    -0.035778  0.060064    0.123481 -0.001843   0.184661  0.006211   \n",
       "\n",
       "             Airbags  \n",
       "Price      -0.035778  \n",
       "Levy        0.060064  \n",
       "Prod. year  0.123481  \n",
       "Mileage    -0.001843  \n",
       "Cylinders   0.184661  \n",
       "Doors       0.006211  \n",
       "Airbags     1.000000  "
      ]
     },
     "execution_count": 6,
     "metadata": {},
     "output_type": "execute_result"
    }
   ],
   "source": [
    "df.corr()"
   ]
  },
  {
   "cell_type": "markdown",
   "metadata": {},
   "source": [
    "- <font color=violet> Con los resultados de la correlación del ejercicio anterior, cread un heatmap.\n"
   ]
  },
  {
   "cell_type": "code",
   "execution_count": 11,
   "metadata": {},
   "outputs": [
    {
     "data": {
      "image/png": "[encoded data removed]",
      "text/plain": [
       "<Figure size 1152x1008 with 2 Axes>"
      ]
     },
     "metadata": {
      "needs_background": "light"
     },
     "output_type": "display_data"
    }
   ],
   "source": [
    "plt.figure()\n",
    "sns.heatmap(df.corr(), annot=True, cmap = 'plasma')\n",
    "plt.show()"
   ]
  },
  {
   "cell_type": "markdown",
   "metadata": {},
   "source": [
    "Como observamos, tenemos la información duplicada por encima y por debajo de nuestra diagonal, por lo que vamos a eliminar uno de los lados."
   ]
  },
  {
   "cell_type": "code",
   "execution_count": 12,
   "metadata": {},
   "outputs": [
    {
     "data": {
      "text/plain": [
       "array([[ True,  True,  True,  True,  True,  True,  True],\n",
       "       [False,  True,  True,  True,  True,  True,  True],\n",
       "       [False, False,  True,  True,  True,  True,  True],\n",
       "       [False, False, False,  True,  True,  True,  True],\n",
       "       [False, False, False, False,  True,  True,  True],\n",
       "       [False, False, False, False, False,  True,  True],\n",
       "       [False, False, False, False, False, False,  True]])"
      ]
     },
     "execution_count": 12,
     "metadata": {},
     "output_type": "execute_result"
    }
   ],
   "source": [
    "# Creamos un dataframe todo de unos de la misma forma que nuestra matriz de correlación\n",
    "mask = np.triu(np.ones_like(df.corr(), dtype=np.bool))\n",
    "mask"
   ]
  },
  {
   "cell_type": "code",
   "execution_count": 13,
   "metadata": {},
   "outputs": [
    {
     "data": {
      "image/png": "[encoded data removed]",
      "text/plain": [
       "<Figure size 1152x1008 with 2 Axes>"
      ]
     },
     "metadata": {
      "needs_background": "light"
     },
     "output_type": "display_data"
    }
   ],
   "source": [
    "sns.heatmap(df.corr(),\n",
    "            cmap = \"plasma\", \n",
    "            mask = mask, # incorporamos la máscara en nuestro plot\n",
    "           annot = True); "
   ]
  },
  {
   "cell_type": "markdown",
   "metadata": {},
   "source": [
    "Podemos observar que todas nuestras variables están correlacionadas, sin embargo vemos que tienen una intensidad o fuerza de correlación muy baja. Ninguna se correlaciona en más de 0.50 o -0.50. Por lo tanto, no vamos a descartar ninguna y las utilizaremos todas para nuestro modelo de predicción."
   ]
  },
  {
   "cell_type": "markdown",
   "metadata": {},
   "source": [
    "- <font color=violet> Guardad la gráfica del heatmap."
   ]
  }
 ],
 "metadata": {
  "kernelspec": {
   "display_name": "Python 3.10.5 64-bit",
   "language": "python",
   "name": "python3"
  },
  "language_info": {
   "codemirror_mode": {
    "name": "ipython",
    "version": 3
   },
   "file_extension": ".py",
   "mimetype": "text/x-python",
   "name": "python",
   "nbconvert_exporter": "python",
   "pygments_lexer": "ipython3",
   "version": "3.10.5"
  },
  "orig_nbformat": 4,
  "vscode": {
   "interpreter": {
    "hash": "6c417e8ec6dca726918e9382ccd5f9a276f75c00fe45ac2c66804bdd5db60888"
   }
  }
 },
 "nbformat": 4,
 "nbformat_minor": 2
}
