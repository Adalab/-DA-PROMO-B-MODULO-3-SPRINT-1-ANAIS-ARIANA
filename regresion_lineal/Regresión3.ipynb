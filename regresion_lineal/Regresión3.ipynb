{
 "cells": [
  {
   "cell_type": "markdown",
   "metadata": {},
   "source": [
    "En este ejercicio de pair programming seguiréis usando el dataset que seleccionasteis anteriormente."
   ]
  },
  {
   "cell_type": "code",
   "execution_count": 11,
   "metadata": {},
   "outputs": [],
   "source": [
    "# tratamiento de los datos\n",
    "# ============================================\n",
    "import pandas as pd\n",
    "import numpy as np\n",
    "\n",
    "# librerías para la visualización de los datos\n",
    "# ============================================\n",
    "import matplotlib.pyplot as plt\n",
    "import seaborn as sns\n",
    "\n",
    "from scipy import stats\n",
    "from scipy.stats import skew\n",
    "from scipy.stats import kurtosistest\n",
    "\n",
    "# Establecer tamaño fijo de gráficas\n",
    "# ==================================\n",
    "plt.rcParams[\"figure.figsize\"] = (12,10)\n",
    "\n",
    "# Configuración warnings\n",
    "# ======================\n",
    "import warnings\n",
    "warnings.filterwarnings('ignore')"
   ]
  },
  {
   "cell_type": "code",
   "execution_count": 13,
   "metadata": {},
   "outputs": [
    {
     "data": {
      "text/html": [
       "<div>\n",
       "<style scoped>\n",
       "    .dataframe tbody tr th:only-of-type {\n",
       "        vertical-align: middle;\n",
       "    }\n",
       "\n",
       "    .dataframe tbody tr th {\n",
       "        vertical-align: top;\n",
       "    }\n",
       "\n",
       "    .dataframe thead th {\n",
       "        text-align: right;\n",
       "    }\n",
       "</style>\n",
       "<table border=\"1\" class=\"dataframe\">\n",
       "  <thead>\n",
       "    <tr style=\"text-align: right;\">\n",
       "      <th></th>\n",
       "      <th>Price</th>\n",
       "      <th>Levy</th>\n",
       "      <th>Manufacturer</th>\n",
       "      <th>Model</th>\n",
       "      <th>Prod. year</th>\n",
       "      <th>Category</th>\n",
       "      <th>Leather interior</th>\n",
       "      <th>Fuel type</th>\n",
       "      <th>Engine volume</th>\n",
       "      <th>Mileage</th>\n",
       "      <th>Cylinders</th>\n",
       "      <th>Gear box type</th>\n",
       "      <th>Drive wheels</th>\n",
       "      <th>Doors</th>\n",
       "      <th>Wheel</th>\n",
       "      <th>Color</th>\n",
       "      <th>Airbags</th>\n",
       "    </tr>\n",
       "    <tr>\n",
       "      <th>ID</th>\n",
       "      <th></th>\n",
       "      <th></th>\n",
       "      <th></th>\n",
       "      <th></th>\n",
       "      <th></th>\n",
       "      <th></th>\n",
       "      <th></th>\n",
       "      <th></th>\n",
       "      <th></th>\n",
       "      <th></th>\n",
       "      <th></th>\n",
       "      <th></th>\n",
       "      <th></th>\n",
       "      <th></th>\n",
       "      <th></th>\n",
       "      <th></th>\n",
       "      <th></th>\n",
       "    </tr>\n",
       "  </thead>\n",
       "  <tbody>\n",
       "    <tr>\n",
       "      <th>45654403</th>\n",
       "      <td>13328</td>\n",
       "      <td>1399</td>\n",
       "      <td>LEXUS</td>\n",
       "      <td>RX 450</td>\n",
       "      <td>2010</td>\n",
       "      <td>Jeep</td>\n",
       "      <td>Yes</td>\n",
       "      <td>Hybrid</td>\n",
       "      <td>3.5</td>\n",
       "      <td>186005</td>\n",
       "      <td>6.0</td>\n",
       "      <td>Automatic</td>\n",
       "      <td>4x4</td>\n",
       "      <td>4</td>\n",
       "      <td>Left wheel</td>\n",
       "      <td>Silver</td>\n",
       "      <td>12</td>\n",
       "    </tr>\n",
       "    <tr>\n",
       "      <th>44731507</th>\n",
       "      <td>16621</td>\n",
       "      <td>1018</td>\n",
       "      <td>CHEVROLET</td>\n",
       "      <td>Equinox</td>\n",
       "      <td>2011</td>\n",
       "      <td>Jeep</td>\n",
       "      <td>No</td>\n",
       "      <td>Petrol</td>\n",
       "      <td>3</td>\n",
       "      <td>192000</td>\n",
       "      <td>6.0</td>\n",
       "      <td>Tiptronic</td>\n",
       "      <td>4x4</td>\n",
       "      <td>4</td>\n",
       "      <td>Left wheel</td>\n",
       "      <td>Black</td>\n",
       "      <td>8</td>\n",
       "    </tr>\n",
       "    <tr>\n",
       "      <th>45774419</th>\n",
       "      <td>8467</td>\n",
       "      <td>0</td>\n",
       "      <td>HONDA</td>\n",
       "      <td>FIT</td>\n",
       "      <td>2006</td>\n",
       "      <td>Hatchback</td>\n",
       "      <td>No</td>\n",
       "      <td>Petrol</td>\n",
       "      <td>1.3</td>\n",
       "      <td>200000</td>\n",
       "      <td>4.0</td>\n",
       "      <td>Variator</td>\n",
       "      <td>Front</td>\n",
       "      <td>4</td>\n",
       "      <td>Right-hand drive</td>\n",
       "      <td>Black</td>\n",
       "      <td>2</td>\n",
       "    </tr>\n",
       "    <tr>\n",
       "      <th>45769185</th>\n",
       "      <td>3607</td>\n",
       "      <td>862</td>\n",
       "      <td>FORD</td>\n",
       "      <td>Escape</td>\n",
       "      <td>2011</td>\n",
       "      <td>Jeep</td>\n",
       "      <td>Yes</td>\n",
       "      <td>Hybrid</td>\n",
       "      <td>2.5</td>\n",
       "      <td>168966</td>\n",
       "      <td>4.0</td>\n",
       "      <td>Automatic</td>\n",
       "      <td>4x4</td>\n",
       "      <td>4</td>\n",
       "      <td>Left wheel</td>\n",
       "      <td>White</td>\n",
       "      <td>0</td>\n",
       "    </tr>\n",
       "    <tr>\n",
       "      <th>45809263</th>\n",
       "      <td>11726</td>\n",
       "      <td>446</td>\n",
       "      <td>HONDA</td>\n",
       "      <td>FIT</td>\n",
       "      <td>2014</td>\n",
       "      <td>Hatchback</td>\n",
       "      <td>Yes</td>\n",
       "      <td>Petrol</td>\n",
       "      <td>1.3</td>\n",
       "      <td>91901</td>\n",
       "      <td>4.0</td>\n",
       "      <td>Automatic</td>\n",
       "      <td>Front</td>\n",
       "      <td>4</td>\n",
       "      <td>Left wheel</td>\n",
       "      <td>Silver</td>\n",
       "      <td>4</td>\n",
       "    </tr>\n",
       "  </tbody>\n",
       "</table>\n",
       "</div>"
      ],
      "text/plain": [
       "          Price  Levy Manufacturer    Model  Prod. year   Category  \\\n",
       "ID                                                                   \n",
       "45654403  13328  1399        LEXUS   RX 450        2010       Jeep   \n",
       "44731507  16621  1018    CHEVROLET  Equinox        2011       Jeep   \n",
       "45774419   8467     0        HONDA      FIT        2006  Hatchback   \n",
       "45769185   3607   862         FORD   Escape        2011       Jeep   \n",
       "45809263  11726   446        HONDA      FIT        2014  Hatchback   \n",
       "\n",
       "         Leather interior Fuel type Engine volume  Mileage  Cylinders  \\\n",
       "ID                                                                      \n",
       "45654403              Yes    Hybrid           3.5   186005        6.0   \n",
       "44731507               No    Petrol             3   192000        6.0   \n",
       "45774419               No    Petrol           1.3   200000        4.0   \n",
       "45769185              Yes    Hybrid           2.5   168966        4.0   \n",
       "45809263              Yes    Petrol           1.3    91901        4.0   \n",
       "\n",
       "         Gear box type Drive wheels  Doors             Wheel   Color  Airbags  \n",
       "ID                                                                             \n",
       "45654403     Automatic          4x4      4        Left wheel  Silver       12  \n",
       "44731507     Tiptronic          4x4      4        Left wheel   Black        8  \n",
       "45774419      Variator        Front      4  Right-hand drive   Black        2  \n",
       "45769185     Automatic          4x4      4        Left wheel   White        0  \n",
       "45809263     Automatic        Front      4        Left wheel  Silver        4  "
      ]
     },
     "execution_count": 13,
     "metadata": {},
     "output_type": "execute_result"
    }
   ],
   "source": [
    "df = pd.read_csv(\"datos/cars_price1.csv\", index_col = 0)\n",
    "df.head()"
   ]
  },
  {
   "cell_type": "markdown",
   "metadata": {},
   "source": [
    "- <font color=violet> Pregunta teórica: ¿Qué diferencia existe entre la covarianza y la correlación?\n"
   ]
  },
  {
   "cell_type": "markdown",
   "metadata": {},
   "source": [
    "En el estudio de la covarianza solo el signo importa, es decir, no hay importancia en el valor numérico. Por otro lado, la correlación nos indica si existe relación entre dos variables y nos indica la fuerza de esa relación. "
   ]
  },
  {
   "cell_type": "markdown",
   "metadata": {},
   "source": [
    "- <font color=violet> Calculad la covarianza y la correlación de nuestro dataset. No nos vale solo con que la calculéis, debéis hacer una interpretación de los resultados obtenidos. Calculad solo la correlación de Pearson.\n"
   ]
  },
  {
   "cell_type": "markdown",
   "metadata": {},
   "source": [
    "Calculamos la covarianza. Recordemos que nos indica la relación de la dirección de las variables:"
   ]
  },
  {
   "cell_type": "code",
   "execution_count": 4,
   "metadata": {},
   "outputs": [
    {
     "data": {
      "text/html": [
       "<div>\n",
       "<style scoped>\n",
       "    .dataframe tbody tr th:only-of-type {\n",
       "        vertical-align: middle;\n",
       "    }\n",
       "\n",
       "    .dataframe tbody tr th {\n",
       "        vertical-align: top;\n",
       "    }\n",
       "\n",
       "    .dataframe thead th {\n",
       "        text-align: right;\n",
       "    }\n",
       "</style>\n",
       "<table border=\"1\" class=\"dataframe\">\n",
       "  <thead>\n",
       "    <tr style=\"text-align: right;\">\n",
       "      <th></th>\n",
       "      <th>Price</th>\n",
       "      <th>Levy</th>\n",
       "      <th>Prod. year</th>\n",
       "      <th>Mileage</th>\n",
       "      <th>Cylinders</th>\n",
       "      <th>Doors</th>\n",
       "      <th>Airbags</th>\n",
       "    </tr>\n",
       "  </thead>\n",
       "  <tbody>\n",
       "    <tr>\n",
       "      <th>Price</th>\n",
       "      <td>3.632122e+10</td>\n",
       "      <td>-4.004492e+05</td>\n",
       "      <td>1.402548e+04</td>\n",
       "      <td>-1.622082e+10</td>\n",
       "      <td>1719.257392</td>\n",
       "      <td>-2545.997701</td>\n",
       "      <td>-1.055826e+04</td>\n",
       "    </tr>\n",
       "    <tr>\n",
       "      <th>Levy</th>\n",
       "      <td>-4.004492e+05</td>\n",
       "      <td>3.223079e+05</td>\n",
       "      <td>1.173727e+03</td>\n",
       "      <td>-5.780199e+08</td>\n",
       "      <td>170.954147</td>\n",
       "      <td>21.709549</td>\n",
       "      <td>3.140192e+02</td>\n",
       "    </tr>\n",
       "    <tr>\n",
       "      <th>Prod. year</th>\n",
       "      <td>1.402548e+04</td>\n",
       "      <td>1.173727e+03</td>\n",
       "      <td>3.213385e+01</td>\n",
       "      <td>-1.742363e+07</td>\n",
       "      <td>-0.658418</td>\n",
       "      <td>0.447322</td>\n",
       "      <td>5.803289e+00</td>\n",
       "    </tr>\n",
       "    <tr>\n",
       "      <th>Mileage</th>\n",
       "      <td>-1.622082e+10</td>\n",
       "      <td>-5.780199e+08</td>\n",
       "      <td>-1.742363e+07</td>\n",
       "      <td>2.342935e+15</td>\n",
       "      <td>-102694.205572</td>\n",
       "      <td>-122641.379204</td>\n",
       "      <td>-1.924050e+06</td>\n",
       "    </tr>\n",
       "    <tr>\n",
       "      <th>Cylinders</th>\n",
       "      <td>1.719257e+03</td>\n",
       "      <td>1.709541e+02</td>\n",
       "      <td>-6.584178e-01</td>\n",
       "      <td>-1.026942e+05</td>\n",
       "      <td>1.439840</td>\n",
       "      <td>-0.017085</td>\n",
       "      <td>9.168661e-01</td>\n",
       "    </tr>\n",
       "    <tr>\n",
       "      <th>Doors</th>\n",
       "      <td>-2.545998e+03</td>\n",
       "      <td>2.170955e+01</td>\n",
       "      <td>4.473221e-01</td>\n",
       "      <td>-1.226414e+05</td>\n",
       "      <td>-0.017085</td>\n",
       "      <td>0.162731</td>\n",
       "      <td>8.420807e-02</td>\n",
       "    </tr>\n",
       "    <tr>\n",
       "      <th>Airbags</th>\n",
       "      <td>-1.055826e+04</td>\n",
       "      <td>3.140192e+02</td>\n",
       "      <td>5.803289e+00</td>\n",
       "      <td>-1.924050e+06</td>\n",
       "      <td>0.916866</td>\n",
       "      <td>0.084208</td>\n",
       "      <td>1.866385e+01</td>\n",
       "    </tr>\n",
       "  </tbody>\n",
       "</table>\n",
       "</div>"
      ],
      "text/plain": [
       "                   Price          Levy    Prod. year       Mileage  \\\n",
       "Price       3.632122e+10 -4.004492e+05  1.402548e+04 -1.622082e+10   \n",
       "Levy       -4.004492e+05  3.223079e+05  1.173727e+03 -5.780199e+08   \n",
       "Prod. year  1.402548e+04  1.173727e+03  3.213385e+01 -1.742363e+07   \n",
       "Mileage    -1.622082e+10 -5.780199e+08 -1.742363e+07  2.342935e+15   \n",
       "Cylinders   1.719257e+03  1.709541e+02 -6.584178e-01 -1.026942e+05   \n",
       "Doors      -2.545998e+03  2.170955e+01  4.473221e-01 -1.226414e+05   \n",
       "Airbags    -1.055826e+04  3.140192e+02  5.803289e+00 -1.924050e+06   \n",
       "\n",
       "                Cylinders          Doors       Airbags  \n",
       "Price         1719.257392   -2545.997701 -1.055826e+04  \n",
       "Levy           170.954147      21.709549  3.140192e+02  \n",
       "Prod. year      -0.658418       0.447322  5.803289e+00  \n",
       "Mileage    -102694.205572 -122641.379204 -1.924050e+06  \n",
       "Cylinders        1.439840      -0.017085  9.168661e-01  \n",
       "Doors           -0.017085       0.162731  8.420807e-02  \n",
       "Airbags          0.916866       0.084208  1.866385e+01  "
      ]
     },
     "execution_count": 4,
     "metadata": {},
     "output_type": "execute_result"
    }
   ],
   "source": [
    "df.cov()"
   ]
  },
  {
   "cell_type": "markdown",
   "metadata": {},
   "source": [
    "\n",
    "- `Price` y `Levy` tienen una covarianza negativa, es decir, cuando aumenta Price, disminuye Levy. (No tiene sentido)\n",
    "- `Price` y `Prod. year` tienen una covarianza positiva, es decir, cuando el precio aumenta, el año de producción también aunmenta."
   ]
  },
  {
   "cell_type": "markdown",
   "metadata": {},
   "source": [
    "Calculamos la correlación para saber la intensidad de la relación de las variables que nos arroja la covarianza. Recordemos que cuando llamamos al método no le pasamos nada dentro de los paréntesis, por defecto nos calculará la correlación de Pearson"
   ]
  },
  {
   "cell_type": "code",
   "execution_count": 3,
   "metadata": {},
   "outputs": [
    {
     "data": {
      "text/html": [
       "<div>\n",
       "<style scoped>\n",
       "    .dataframe tbody tr th:only-of-type {\n",
       "        vertical-align: middle;\n",
       "    }\n",
       "\n",
       "    .dataframe tbody tr th {\n",
       "        vertical-align: top;\n",
       "    }\n",
       "\n",
       "    .dataframe thead th {\n",
       "        text-align: right;\n",
       "    }\n",
       "</style>\n",
       "<table border=\"1\" class=\"dataframe\">\n",
       "  <thead>\n",
       "    <tr style=\"text-align: right;\">\n",
       "      <th></th>\n",
       "      <th>Price</th>\n",
       "      <th>Levy</th>\n",
       "      <th>Prod. year</th>\n",
       "      <th>Mileage</th>\n",
       "      <th>Cylinders</th>\n",
       "      <th>Doors</th>\n",
       "      <th>Airbags</th>\n",
       "    </tr>\n",
       "  </thead>\n",
       "  <tbody>\n",
       "    <tr>\n",
       "      <th>Price</th>\n",
       "      <td>1.000000</td>\n",
       "      <td>-0.003701</td>\n",
       "      <td>0.012982</td>\n",
       "      <td>-0.001758</td>\n",
       "      <td>0.007518</td>\n",
       "      <td>-0.033116</td>\n",
       "      <td>-0.012824</td>\n",
       "    </tr>\n",
       "    <tr>\n",
       "      <th>Levy</th>\n",
       "      <td>-0.003701</td>\n",
       "      <td>1.000000</td>\n",
       "      <td>0.364712</td>\n",
       "      <td>-0.021034</td>\n",
       "      <td>0.250950</td>\n",
       "      <td>0.094794</td>\n",
       "      <td>0.128032</td>\n",
       "    </tr>\n",
       "    <tr>\n",
       "      <th>Prod. year</th>\n",
       "      <td>0.012982</td>\n",
       "      <td>0.364712</td>\n",
       "      <td>1.000000</td>\n",
       "      <td>-0.063501</td>\n",
       "      <td>-0.096797</td>\n",
       "      <td>0.195616</td>\n",
       "      <td>0.236969</td>\n",
       "    </tr>\n",
       "    <tr>\n",
       "      <th>Mileage</th>\n",
       "      <td>-0.001758</td>\n",
       "      <td>-0.021034</td>\n",
       "      <td>-0.063501</td>\n",
       "      <td>1.000000</td>\n",
       "      <td>-0.001768</td>\n",
       "      <td>-0.006281</td>\n",
       "      <td>-0.009201</td>\n",
       "    </tr>\n",
       "    <tr>\n",
       "      <th>Cylinders</th>\n",
       "      <td>0.007518</td>\n",
       "      <td>0.250950</td>\n",
       "      <td>-0.096797</td>\n",
       "      <td>-0.001768</td>\n",
       "      <td>1.000000</td>\n",
       "      <td>-0.035297</td>\n",
       "      <td>0.176868</td>\n",
       "    </tr>\n",
       "    <tr>\n",
       "      <th>Doors</th>\n",
       "      <td>-0.033116</td>\n",
       "      <td>0.094794</td>\n",
       "      <td>0.195616</td>\n",
       "      <td>-0.006281</td>\n",
       "      <td>-0.035297</td>\n",
       "      <td>1.000000</td>\n",
       "      <td>0.048319</td>\n",
       "    </tr>\n",
       "    <tr>\n",
       "      <th>Airbags</th>\n",
       "      <td>-0.012824</td>\n",
       "      <td>0.128032</td>\n",
       "      <td>0.236969</td>\n",
       "      <td>-0.009201</td>\n",
       "      <td>0.176868</td>\n",
       "      <td>0.048319</td>\n",
       "      <td>1.000000</td>\n",
       "    </tr>\n",
       "  </tbody>\n",
       "</table>\n",
       "</div>"
      ],
      "text/plain": [
       "               Price      Levy  Prod. year   Mileage  Cylinders     Doors  \\\n",
       "Price       1.000000 -0.003701    0.012982 -0.001758   0.007518 -0.033116   \n",
       "Levy       -0.003701  1.000000    0.364712 -0.021034   0.250950  0.094794   \n",
       "Prod. year  0.012982  0.364712    1.000000 -0.063501  -0.096797  0.195616   \n",
       "Mileage    -0.001758 -0.021034   -0.063501  1.000000  -0.001768 -0.006281   \n",
       "Cylinders   0.007518  0.250950   -0.096797 -0.001768   1.000000 -0.035297   \n",
       "Doors      -0.033116  0.094794    0.195616 -0.006281  -0.035297  1.000000   \n",
       "Airbags    -0.012824  0.128032    0.236969 -0.009201   0.176868  0.048319   \n",
       "\n",
       "             Airbags  \n",
       "Price      -0.012824  \n",
       "Levy        0.128032  \n",
       "Prod. year  0.236969  \n",
       "Mileage    -0.009201  \n",
       "Cylinders   0.176868  \n",
       "Doors       0.048319  \n",
       "Airbags     1.000000  "
      ]
     },
     "execution_count": 3,
     "metadata": {},
     "output_type": "execute_result"
    }
   ],
   "source": [
    "df.corr()"
   ]
  },
  {
   "cell_type": "markdown",
   "metadata": {},
   "source": [
    "- <font color=violet> Con los resultados de la correlación del ejercicio anterior, cread un heatmap.\n"
   ]
  },
  {
   "cell_type": "code",
   "execution_count": 12,
   "metadata": {},
   "outputs": [
    {
     "data": {
      "image/png": "[encoded data removed]",
      "text/plain": [
       "<Figure size 864x720 with 2 Axes>"
      ]
     },
     "metadata": {
      "needs_background": "light"
     },
     "output_type": "display_data"
    }
   ],
   "source": [
    "plt.figure()\n",
    "sns.heatmap(df.corr(), annot=True, cmap = 'plasma')\n",
    "plt.show()"
   ]
  },
  {
   "cell_type": "markdown",
   "metadata": {},
   "source": [
    "Como observamos, tenemos la información duplicada por encima y por debajo de nuestra diagonal, por lo que vamos a eliminar uno de los lados."
   ]
  },
  {
   "cell_type": "code",
   "execution_count": 18,
   "metadata": {},
   "outputs": [
    {
     "data": {
      "text/plain": [
       "array([[ True,  True,  True,  True,  True,  True,  True],\n",
       "       [False,  True,  True,  True,  True,  True,  True],\n",
       "       [False, False,  True,  True,  True,  True,  True],\n",
       "       [False, False, False,  True,  True,  True,  True],\n",
       "       [False, False, False, False,  True,  True,  True],\n",
       "       [False, False, False, False, False,  True,  True],\n",
       "       [False, False, False, False, False, False,  True]])"
      ]
     },
     "execution_count": 18,
     "metadata": {},
     "output_type": "execute_result"
    }
   ],
   "source": [
    "# Creamos un dataframe todo de unos de la misma forma que nuestra matriz de correlación\n",
    "mask = np.triu(np.ones_like(df.corr(), dtype=np.bool))\n",
    "mask"
   ]
  },
  {
   "cell_type": "code",
   "execution_count": 20,
   "metadata": {},
   "outputs": [
    {
     "data": {
      "image/png": "[encoded data removed]",
      "text/plain": [
       "<Figure size 864x720 with 2 Axes>"
      ]
     },
     "metadata": {
      "needs_background": "light"
     },
     "output_type": "display_data"
    }
   ],
   "source": [
    "sns.heatmap(df.corr(),\n",
    "            cmap = \"plasma\", \n",
    "            mask = mask, # incorporamos la máscara en nuestro plot\n",
    "           annot = True); "
   ]
  },
  {
   "cell_type": "markdown",
   "metadata": {},
   "source": [
    "Falta conclusiones de la correlación."
   ]
  },
  {
   "cell_type": "markdown",
   "metadata": {},
   "source": [
    "- <font color=violet> Guardad la gráfica del heatmap."
   ]
  }
 ],
 "metadata": {
  "kernelspec": {
   "display_name": "Python 3.10.5 64-bit",
   "language": "python",
   "name": "python3"
  },
  "language_info": {
   "codemirror_mode": {
    "name": "ipython",
    "version": 3
   },
   "file_extension": ".py",
   "mimetype": "text/x-python",
   "name": "python",
   "nbconvert_exporter": "python",
   "pygments_lexer": "ipython3",
   "version": "3.10.5"
  },
  "orig_nbformat": 4,
  "vscode": {
   "interpreter": {
    "hash": "6c417e8ec6dca726918e9382ccd5f9a276f75c00fe45ac2c66804bdd5db60888"
   }
  }
 },
 "nbformat": 4,
 "nbformat_minor": 2
}
