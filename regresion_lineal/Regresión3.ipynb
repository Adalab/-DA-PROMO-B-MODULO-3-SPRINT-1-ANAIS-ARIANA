{
 "cells": [
  {
   "cell_type": "markdown",
   "metadata": {},
   "source": [
    "En este ejercicio de pair programming seguiréis usando el dataset que seleccionasteis anteriormente."
   ]
  },
  {
   "cell_type": "code",
   "execution_count": 1,
   "metadata": {},
   "outputs": [],
   "source": [
    "# tratamiento de los datos\n",
    "# ============================================\n",
    "import pandas as pd\n",
    "import numpy as np\n",
    "\n",
    "# librerías para la visualización de los datos\n",
    "# ============================================\n",
    "import matplotlib.pyplot as plt\n",
    "import seaborn as sns\n",
    "\n",
    "from scipy import stats\n",
    "from scipy.stats import skew\n",
    "from scipy.stats import kurtosistest\n",
    "\n",
    "# Establecer tamaño fijo de gráficas\n",
    "# ==================================\n",
    "plt.rcParams[\"figure.figsize\"] = (18,14)\n",
    "\n",
    "# Configuración warnings\n",
    "# ======================\n",
    "import warnings\n",
    "warnings.filterwarnings('ignore')"
   ]
  },
  {
   "cell_type": "code",
   "execution_count": 2,
   "metadata": {},
   "outputs": [
    {
     "data": {
      "text/html": [
       "<div>\n",
       "<style scoped>\n",
       "    .dataframe tbody tr th:only-of-type {\n",
       "        vertical-align: middle;\n",
       "    }\n",
       "\n",
       "    .dataframe tbody tr th {\n",
       "        vertical-align: top;\n",
       "    }\n",
       "\n",
       "    .dataframe thead th {\n",
       "        text-align: right;\n",
       "    }\n",
       "</style>\n",
       "<table border=\"1\" class=\"dataframe\">\n",
       "  <thead>\n",
       "    <tr style=\"text-align: right;\">\n",
       "      <th></th>\n",
       "      <th>ID</th>\n",
       "      <th>Price</th>\n",
       "      <th>Levy</th>\n",
       "      <th>Manufacturer</th>\n",
       "      <th>Model</th>\n",
       "      <th>Prod. year</th>\n",
       "      <th>Category</th>\n",
       "      <th>Leather interior</th>\n",
       "      <th>Fuel type</th>\n",
       "      <th>Engine volume</th>\n",
       "      <th>Mileage</th>\n",
       "      <th>Cylinders</th>\n",
       "      <th>Gear box type</th>\n",
       "      <th>Drive wheels</th>\n",
       "      <th>Doors</th>\n",
       "      <th>Color</th>\n",
       "      <th>Airbags</th>\n",
       "    </tr>\n",
       "  </thead>\n",
       "  <tbody>\n",
       "    <tr>\n",
       "      <th>0</th>\n",
       "      <td>45654403</td>\n",
       "      <td>13328</td>\n",
       "      <td>1399</td>\n",
       "      <td>LEXUS</td>\n",
       "      <td>RX 450</td>\n",
       "      <td>2010</td>\n",
       "      <td>Jeep</td>\n",
       "      <td>Yes</td>\n",
       "      <td>Hybrid</td>\n",
       "      <td>3.5</td>\n",
       "      <td>186005</td>\n",
       "      <td>6.0</td>\n",
       "      <td>Automatic</td>\n",
       "      <td>4x4</td>\n",
       "      <td>04</td>\n",
       "      <td>Silver</td>\n",
       "      <td>12</td>\n",
       "    </tr>\n",
       "    <tr>\n",
       "      <th>1</th>\n",
       "      <td>44731507</td>\n",
       "      <td>16621</td>\n",
       "      <td>1018</td>\n",
       "      <td>CHEVROLET</td>\n",
       "      <td>Equinox</td>\n",
       "      <td>2011</td>\n",
       "      <td>Jeep</td>\n",
       "      <td>No</td>\n",
       "      <td>Petrol</td>\n",
       "      <td>3</td>\n",
       "      <td>192000</td>\n",
       "      <td>6.0</td>\n",
       "      <td>Tiptronic</td>\n",
       "      <td>4x4</td>\n",
       "      <td>04</td>\n",
       "      <td>Black</td>\n",
       "      <td>8</td>\n",
       "    </tr>\n",
       "  </tbody>\n",
       "</table>\n",
       "</div>"
      ],
      "text/plain": [
       "         ID  Price  Levy Manufacturer    Model  Prod. year Category  \\\n",
       "0  45654403  13328  1399        LEXUS   RX 450        2010     Jeep   \n",
       "1  44731507  16621  1018    CHEVROLET  Equinox        2011     Jeep   \n",
       "\n",
       "  Leather interior Fuel type Engine volume  Mileage  Cylinders Gear box type  \\\n",
       "0              Yes    Hybrid           3.5   186005        6.0     Automatic   \n",
       "1               No    Petrol             3   192000        6.0     Tiptronic   \n",
       "\n",
       "  Drive wheels Doors   Color  Airbags  \n",
       "0          4x4    04  Silver       12  \n",
       "1          4x4    04   Black        8  "
      ]
     },
     "execution_count": 2,
     "metadata": {},
     "output_type": "execute_result"
    }
   ],
   "source": [
    "df = pd.read_pickle(\"datos/cars_price1.pkl\")\n",
    "df.head(2) "
   ]
  },
  {
   "cell_type": "markdown",
   "metadata": {},
   "source": [
    "- <font color=violet> Pregunta teórica: ¿Qué diferencia existe entre la covarianza y la correlación?\n"
   ]
  },
  {
   "cell_type": "markdown",
   "metadata": {},
   "source": [
    "En el estudio de la covarianza solo el signo importa, es decir, no hay importancia en el valor numérico. Por otro lado, la correlación nos indica si existe relación entre dos variables y nos indica la fuerza de esa relación. "
   ]
  },
  {
   "cell_type": "markdown",
   "metadata": {},
   "source": [
    "- <font color=violet> Calculad la covarianza y la correlación de nuestro dataset. No nos vale solo con que la calculéis, debéis hacer una interpretación de los resultados obtenidos. Calculad solo la correlación de Pearson.\n"
   ]
  },
  {
   "cell_type": "markdown",
   "metadata": {},
   "source": [
    "Calculamos la covarianza. Recordemos que nos indica la relación de la dirección de las variables:"
   ]
  },
  {
   "cell_type": "code",
   "execution_count": 3,
   "metadata": {},
   "outputs": [
    {
     "data": {
      "text/html": [
       "<div>\n",
       "<style scoped>\n",
       "    .dataframe tbody tr th:only-of-type {\n",
       "        vertical-align: middle;\n",
       "    }\n",
       "\n",
       "    .dataframe tbody tr th {\n",
       "        vertical-align: top;\n",
       "    }\n",
       "\n",
       "    .dataframe thead th {\n",
       "        text-align: right;\n",
       "    }\n",
       "</style>\n",
       "<table border=\"1\" class=\"dataframe\">\n",
       "  <thead>\n",
       "    <tr style=\"text-align: right;\">\n",
       "      <th></th>\n",
       "      <th>ID</th>\n",
       "      <th>Price</th>\n",
       "      <th>Levy</th>\n",
       "      <th>Prod. year</th>\n",
       "      <th>Mileage</th>\n",
       "      <th>Cylinders</th>\n",
       "      <th>Airbags</th>\n",
       "    </tr>\n",
       "  </thead>\n",
       "  <tbody>\n",
       "    <tr>\n",
       "      <th>ID</th>\n",
       "      <td>5.336686e+11</td>\n",
       "      <td>-1.003581e+09</td>\n",
       "      <td>3.394063e+07</td>\n",
       "      <td>1.207095e+05</td>\n",
       "      <td>7.498297e+10</td>\n",
       "      <td>-19451.128488</td>\n",
       "      <td>-138042.432688</td>\n",
       "    </tr>\n",
       "    <tr>\n",
       "      <th>Price</th>\n",
       "      <td>-1.003581e+09</td>\n",
       "      <td>3.478543e+08</td>\n",
       "      <td>2.548804e+05</td>\n",
       "      <td>2.355680e+04</td>\n",
       "      <td>-5.911548e+09</td>\n",
       "      <td>3080.704800</td>\n",
       "      <td>-2718.670845</td>\n",
       "    </tr>\n",
       "    <tr>\n",
       "      <th>Levy</th>\n",
       "      <td>3.394063e+07</td>\n",
       "      <td>2.548804e+05</td>\n",
       "      <td>2.980079e+05</td>\n",
       "      <td>6.892213e+02</td>\n",
       "      <td>-2.157880e+08</td>\n",
       "      <td>152.810366</td>\n",
       "      <td>133.344612</td>\n",
       "    </tr>\n",
       "    <tr>\n",
       "      <th>Prod. year</th>\n",
       "      <td>1.207095e+05</td>\n",
       "      <td>2.355680e+04</td>\n",
       "      <td>6.892213e+02</td>\n",
       "      <td>1.625706e+01</td>\n",
       "      <td>-5.242343e+06</td>\n",
       "      <td>-0.761580</td>\n",
       "      <td>2.054632</td>\n",
       "    </tr>\n",
       "    <tr>\n",
       "      <th>Mileage</th>\n",
       "      <td>7.498297e+10</td>\n",
       "      <td>-5.911548e+09</td>\n",
       "      <td>-2.157880e+08</td>\n",
       "      <td>-5.242343e+06</td>\n",
       "      <td>1.247611e+15</td>\n",
       "      <td>104488.356310</td>\n",
       "      <td>-265508.927856</td>\n",
       "    </tr>\n",
       "    <tr>\n",
       "      <th>Cylinders</th>\n",
       "      <td>-1.945113e+04</td>\n",
       "      <td>3.080705e+03</td>\n",
       "      <td>1.528104e+02</td>\n",
       "      <td>-7.615798e-01</td>\n",
       "      <td>1.044884e+05</td>\n",
       "      <td>1.397777</td>\n",
       "      <td>0.904542</td>\n",
       "    </tr>\n",
       "    <tr>\n",
       "      <th>Airbags</th>\n",
       "      <td>-1.380424e+05</td>\n",
       "      <td>-2.718671e+03</td>\n",
       "      <td>1.333446e+02</td>\n",
       "      <td>2.054632e+00</td>\n",
       "      <td>-2.655089e+05</td>\n",
       "      <td>0.904542</td>\n",
       "      <td>17.555454</td>\n",
       "    </tr>\n",
       "  </tbody>\n",
       "</table>\n",
       "</div>"
      ],
      "text/plain": [
       "                      ID         Price          Levy    Prod. year  \\\n",
       "ID          5.336686e+11 -1.003581e+09  3.394063e+07  1.207095e+05   \n",
       "Price      -1.003581e+09  3.478543e+08  2.548804e+05  2.355680e+04   \n",
       "Levy        3.394063e+07  2.548804e+05  2.980079e+05  6.892213e+02   \n",
       "Prod. year  1.207095e+05  2.355680e+04  6.892213e+02  1.625706e+01   \n",
       "Mileage     7.498297e+10 -5.911548e+09 -2.157880e+08 -5.242343e+06   \n",
       "Cylinders  -1.945113e+04  3.080705e+03  1.528104e+02 -7.615798e-01   \n",
       "Airbags    -1.380424e+05 -2.718671e+03  1.333446e+02  2.054632e+00   \n",
       "\n",
       "                 Mileage      Cylinders        Airbags  \n",
       "ID          7.498297e+10  -19451.128488 -138042.432688  \n",
       "Price      -5.911548e+09    3080.704800   -2718.670845  \n",
       "Levy       -2.157880e+08     152.810366     133.344612  \n",
       "Prod. year -5.242343e+06      -0.761580       2.054632  \n",
       "Mileage     1.247611e+15  104488.356310 -265508.927856  \n",
       "Cylinders   1.044884e+05       1.397777       0.904542  \n",
       "Airbags    -2.655089e+05       0.904542      17.555454  "
      ]
     },
     "execution_count": 3,
     "metadata": {},
     "output_type": "execute_result"
    }
   ],
   "source": [
    "df.cov()"
   ]
  },
  {
   "cell_type": "markdown",
   "metadata": {},
   "source": [
    "- `Price` y `Levy` tienen una covarianza positiva, es decir, cuando aumenta el precio, aumentan los impuestos.\n",
    "- `Price` y `Prod. year` tienen una covarianza positiva, es decir, cuando el precio aumenta, el año de producción también aunmenta.\n",
    "- `Price` y `Mileage` tienen una covarianza negativa, es decir, cuando el precio aumenta, el número de kilómetros disminuye. \n",
    "- `Price` y `Cylinders` tienen una covarianza positiva, es decir, cuando el precio aumenta, aumenta los cilindros.\n",
    "- `Price` y `Doors` tienen una covarianza negativa, es decir, cuando el precio aumenta, el número de puertas disminuye. \n",
    "- `Price` y `Airbags` tienen una covarianza negativa, es decir, cuando el precio aumenta, el número de airbags disminuye. (No tiene mucho sentido)"
   ]
  },
  {
   "cell_type": "markdown",
   "metadata": {},
   "source": [
    "Calculamos la correlación para saber la intensidad de la relación de las variables que nos arroja la covarianza. Recordemos que si llamamos al método y no le pasamos nada dentro de los paréntesis, por defecto nos calculará la correlación de Pearson"
   ]
  },
  {
   "cell_type": "code",
   "execution_count": 4,
   "metadata": {},
   "outputs": [
    {
     "data": {
      "text/html": [
       "<div>\n",
       "<style scoped>\n",
       "    .dataframe tbody tr th:only-of-type {\n",
       "        vertical-align: middle;\n",
       "    }\n",
       "\n",
       "    .dataframe tbody tr th {\n",
       "        vertical-align: top;\n",
       "    }\n",
       "\n",
       "    .dataframe thead th {\n",
       "        text-align: right;\n",
       "    }\n",
       "</style>\n",
       "<table border=\"1\" class=\"dataframe\">\n",
       "  <thead>\n",
       "    <tr style=\"text-align: right;\">\n",
       "      <th></th>\n",
       "      <th>ID</th>\n",
       "      <th>Price</th>\n",
       "      <th>Levy</th>\n",
       "      <th>Prod. year</th>\n",
       "      <th>Mileage</th>\n",
       "      <th>Cylinders</th>\n",
       "      <th>Airbags</th>\n",
       "    </tr>\n",
       "  </thead>\n",
       "  <tbody>\n",
       "    <tr>\n",
       "      <th>ID</th>\n",
       "      <td>1.000000</td>\n",
       "      <td>-0.073658</td>\n",
       "      <td>0.085108</td>\n",
       "      <td>0.040981</td>\n",
       "      <td>0.002906</td>\n",
       "      <td>-0.022521</td>\n",
       "      <td>-0.045099</td>\n",
       "    </tr>\n",
       "    <tr>\n",
       "      <th>Price</th>\n",
       "      <td>-0.073658</td>\n",
       "      <td>1.000000</td>\n",
       "      <td>0.025034</td>\n",
       "      <td>0.313254</td>\n",
       "      <td>-0.008974</td>\n",
       "      <td>0.139712</td>\n",
       "      <td>-0.034790</td>\n",
       "    </tr>\n",
       "    <tr>\n",
       "      <th>Levy</th>\n",
       "      <td>0.085108</td>\n",
       "      <td>0.025034</td>\n",
       "      <td>1.000000</td>\n",
       "      <td>0.313129</td>\n",
       "      <td>-0.011191</td>\n",
       "      <td>0.236766</td>\n",
       "      <td>0.058298</td>\n",
       "    </tr>\n",
       "    <tr>\n",
       "      <th>Prod. year</th>\n",
       "      <td>0.040981</td>\n",
       "      <td>0.313254</td>\n",
       "      <td>0.313129</td>\n",
       "      <td>1.000000</td>\n",
       "      <td>-0.036810</td>\n",
       "      <td>-0.159763</td>\n",
       "      <td>0.121621</td>\n",
       "    </tr>\n",
       "    <tr>\n",
       "      <th>Mileage</th>\n",
       "      <td>0.002906</td>\n",
       "      <td>-0.008974</td>\n",
       "      <td>-0.011191</td>\n",
       "      <td>-0.036810</td>\n",
       "      <td>1.000000</td>\n",
       "      <td>0.002502</td>\n",
       "      <td>-0.001794</td>\n",
       "    </tr>\n",
       "    <tr>\n",
       "      <th>Cylinders</th>\n",
       "      <td>-0.022521</td>\n",
       "      <td>0.139712</td>\n",
       "      <td>0.236766</td>\n",
       "      <td>-0.159763</td>\n",
       "      <td>0.002502</td>\n",
       "      <td>1.000000</td>\n",
       "      <td>0.182601</td>\n",
       "    </tr>\n",
       "    <tr>\n",
       "      <th>Airbags</th>\n",
       "      <td>-0.045099</td>\n",
       "      <td>-0.034790</td>\n",
       "      <td>0.058298</td>\n",
       "      <td>0.121621</td>\n",
       "      <td>-0.001794</td>\n",
       "      <td>0.182601</td>\n",
       "      <td>1.000000</td>\n",
       "    </tr>\n",
       "  </tbody>\n",
       "</table>\n",
       "</div>"
      ],
      "text/plain": [
       "                  ID     Price      Levy  Prod. year   Mileage  Cylinders  \\\n",
       "ID          1.000000 -0.073658  0.085108    0.040981  0.002906  -0.022521   \n",
       "Price      -0.073658  1.000000  0.025034    0.313254 -0.008974   0.139712   \n",
       "Levy        0.085108  0.025034  1.000000    0.313129 -0.011191   0.236766   \n",
       "Prod. year  0.040981  0.313254  0.313129    1.000000 -0.036810  -0.159763   \n",
       "Mileage     0.002906 -0.008974 -0.011191   -0.036810  1.000000   0.002502   \n",
       "Cylinders  -0.022521  0.139712  0.236766   -0.159763  0.002502   1.000000   \n",
       "Airbags    -0.045099 -0.034790  0.058298    0.121621 -0.001794   0.182601   \n",
       "\n",
       "             Airbags  \n",
       "ID         -0.045099  \n",
       "Price      -0.034790  \n",
       "Levy        0.058298  \n",
       "Prod. year  0.121621  \n",
       "Mileage    -0.001794  \n",
       "Cylinders   0.182601  \n",
       "Airbags     1.000000  "
      ]
     },
     "execution_count": 4,
     "metadata": {},
     "output_type": "execute_result"
    }
   ],
   "source": [
    "df.corr()"
   ]
  },
  {
   "cell_type": "markdown",
   "metadata": {},
   "source": [
    "- <font color=violet> Con los resultados de la correlación del ejercicio anterior, cread un heatmap.\n"
   ]
  },
  {
   "cell_type": "code",
   "execution_count": 5,
   "metadata": {},
   "outputs": [
    {
     "data": {
      "image/png": "[encoded data removed]",
      "text/plain": [
       "<Figure size 1296x1008 with 2 Axes>"
      ]
     },
     "metadata": {
      "needs_background": "light"
     },
     "output_type": "display_data"
    }
   ],
   "source": [
    "plt.figure()\n",
    "sns.heatmap(df.corr(), annot=True, cmap = 'plasma')\n",
    "plt.show()"
   ]
  },
  {
   "cell_type": "markdown",
   "metadata": {},
   "source": [
    "Como observamos, tenemos la información duplicada por encima y por debajo de nuestra diagonal, por lo que vamos a eliminar uno de los lados."
   ]
  },
  {
   "cell_type": "code",
   "execution_count": 6,
   "metadata": {},
   "outputs": [
    {
     "data": {
      "text/plain": [
       "array([[ True,  True,  True,  True,  True,  True,  True],\n",
       "       [False,  True,  True,  True,  True,  True,  True],\n",
       "       [False, False,  True,  True,  True,  True,  True],\n",
       "       [False, False, False,  True,  True,  True,  True],\n",
       "       [False, False, False, False,  True,  True,  True],\n",
       "       [False, False, False, False, False,  True,  True],\n",
       "       [False, False, False, False, False, False,  True]])"
      ]
     },
     "execution_count": 6,
     "metadata": {},
     "output_type": "execute_result"
    }
   ],
   "source": [
    "# Creamos un dataframe todo de unos de la misma forma que nuestra matriz de correlación\n",
    "mask = np.triu(np.ones_like(df.corr(), dtype=np.bool))\n",
    "mask"
   ]
  },
  {
   "cell_type": "code",
   "execution_count": 7,
   "metadata": {},
   "outputs": [
    {
     "data": {
      "image/png": "[encoded data removed]",
      "text/plain": [
       "<Figure size 1296x1008 with 2 Axes>"
      ]
     },
     "metadata": {
      "needs_background": "light"
     },
     "output_type": "display_data"
    }
   ],
   "source": [
    "sns.heatmap(df.corr(),\n",
    "            cmap = \"plasma\", \n",
    "            mask = mask, # incorporamos la máscara en nuestro plot\n",
    "           annot = True); "
   ]
  },
  {
   "cell_type": "markdown",
   "metadata": {},
   "source": [
    "Podemos observar que todas nuestras variables están correlacionadas, sin embargo vemos que tienen una intensidad o fuerza de correlación muy baja. Ninguna se correlaciona en más de 0.50 o -0.50. Por lo tanto, no vamos a descartar ninguna y las utilizaremos todas para nuestro modelo de predicción."
   ]
  },
  {
   "cell_type": "markdown",
   "metadata": {},
   "source": [
    "- <font color=violet> Guardad la gráfica del heatmap."
   ]
  }
 ],
 "metadata": {
  "kernelspec": {
   "display_name": "Python 3.9.7 ('base')",
   "language": "python",
   "name": "python3"
  },
  "language_info": {
   "codemirror_mode": {
    "name": "ipython",
    "version": 3
   },
   "file_extension": ".py",
   "mimetype": "text/x-python",
   "name": "python",
   "nbconvert_exporter": "python",
   "pygments_lexer": "ipython3",
   "version": "3.9.7"
  },
  "orig_nbformat": 4,
  "vscode": {
   "interpreter": {
    "hash": "8a25273be94c3f568d6307c1258330d891164ee9551e6d3c1016426c9aa8bf5c"
   }
  }
 },
 "nbformat": 4,
 "nbformat_minor": 2
}
